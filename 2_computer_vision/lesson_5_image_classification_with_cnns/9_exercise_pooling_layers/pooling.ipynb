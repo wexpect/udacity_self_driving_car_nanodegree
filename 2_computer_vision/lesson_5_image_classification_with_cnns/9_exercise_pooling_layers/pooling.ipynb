{
 "cells": [
  {
   "cell_type": "markdown",
   "id": "1eb42ffc",
   "metadata": {},
   "source": [
    "# Exercise 1 - Pooling\n",
    "\n",
    "## Objective\n",
    "\n",
    "In this exercise, you will implement a simplified version of the max pooling layer.\n",
    "\n",
    "## Details\n",
    "\n",
    "You will have to implement two functions and a small script. The first function is a padding \n",
    "function. Using the input size and the pooling layer parameters (stride and filter size), \n",
    "this function finds the padding `wpad` and `hpad` (width and height padding) such that the \n",
    "input dimensions are padded.\n",
    "\n",
    "The next function calculates the output dimensions after pooling given the padded array\n",
    "dimensions and the pooling parameters (stride and filter size).\n",
    "\n",
    "Finally, the script calculates the pooling layer output.\n",
    "\n",
    "You can run `python pooling.py` to check your implementation - note that the checking of the output will require input of a 3x3 filter and stride of 3.\n",
    "\n",
    "## Tips\n",
    "\n",
    "Pooling only affects the spatial dimensions and preserves the batch size (first axis of the padded array) \n",
    "and the number of channels (last axis)."
   ]
  },
  {
   "cell_type": "code",
   "execution_count": 1,
   "id": "c3bb152d",
   "metadata": {},
   "outputs": [],
   "source": [
    "import numpy as np"
   ]
  },
  {
   "cell_type": "code",
   "execution_count": 2,
   "id": "a7107dad",
   "metadata": {},
   "outputs": [],
   "source": [
    "input_array = np.random.rand(1, 224, 224, 16)\n",
    "pool_size = 3\n",
    "pool_stride = 3"
   ]
  },
  {
   "cell_type": "code",
   "execution_count": 3,
   "id": "bdd5c334",
   "metadata": {},
   "outputs": [
    {
     "data": {
      "text/plain": [
       "(1, 224, 224, 16)"
      ]
     },
     "execution_count": 3,
     "metadata": {},
     "output_type": "execute_result"
    }
   ],
   "source": [
    "input_array.shape"
   ]
  },
  {
   "cell_type": "code",
   "execution_count": 7,
   "id": "0e42b3f3",
   "metadata": {},
   "outputs": [
    {
     "data": {
      "text/plain": [
       "[[0, 0], [0, 1], [0, 1], [0, 0]]"
      ]
     },
     "execution_count": 7,
     "metadata": {},
     "output_type": "execute_result"
    }
   ],
   "source": [
    "_, w, h, _ = input_array.shape\n",
    "wpad = (w // pool_stride) * pool_stride + pool_size - w\n",
    "hpad = (h // pool_stride) * pool_stride + pool_size - h\n",
    "paddings = [[0, 0], [0, wpad], [0, hpad], [0, 0]]\n",
    "paddings"
   ]
  },
  {
   "cell_type": "code",
   "execution_count": 19,
   "id": "1ce16687",
   "metadata": {},
   "outputs": [
    {
     "data": {
      "text/plain": [
       "array([[0.        , 0.        , 0.        , 0.        ],\n",
       "       [0.79399574, 0.44335109, 0.0400669 , 0.        ],\n",
       "       [0.04497678, 0.43997423, 0.48284877, 0.        ],\n",
       "       [0.83902768, 0.2055138 , 0.96229641, 0.        ],\n",
       "       [0.        , 0.        , 0.        , 0.        ],\n",
       "       [0.        , 0.        , 0.        , 0.        ]])"
      ]
     },
     "execution_count": 19,
     "metadata": {},
     "output_type": "execute_result"
    }
   ],
   "source": [
    "input_array = np.random.rand(3, 3)\n",
    "padded = np.pad(input_array, [[1, 2], [0, 1]], mode='constant', constant_values=0)\n",
    "padded"
   ]
  },
  {
   "cell_type": "code",
   "execution_count": null,
   "id": "45a36edf",
   "metadata": {},
   "outputs": [],
   "source": []
  },
  {
   "cell_type": "code",
   "execution_count": null,
   "id": "81eaa65a",
   "metadata": {},
   "outputs": [],
   "source": []
  },
  {
   "cell_type": "code",
   "execution_count": 21,
   "id": "fed996d4",
   "metadata": {},
   "outputs": [
    {
     "name": "stdout",
     "output_type": "stream",
     "text": [
      "Success!\n"
     ]
    }
   ],
   "source": [
    "import argparse\n",
    "\n",
    "import numpy as np\n",
    "\n",
    "from utils import check_output\n",
    "\n",
    "\n",
    "def get_paddings(array, pool_size, pool_stride):\n",
    "    \"\"\" \n",
    "    get padding sizes \n",
    "    args:\n",
    "    - array [array]: input np array NxwxHxC\n",
    "    - pool_size [int]: window size\n",
    "    - pool_stride [int]: stride\n",
    "    returns:\n",
    "    - paddings [list[list]]: paddings in np.pad format\n",
    "    \"\"\"\n",
    "    # IMPLEMENT THIS FUNCTION\n",
    "    _, w, h, _ = array.shape\n",
    "    wpad = (w // pool_stride) * pool_stride + pool_size - w\n",
    "    hpad = (h // pool_stride) * pool_stride + pool_size - h\n",
    "    return [[0, 0], [0, wpad], [0, hpad], [0, 0]]\n",
    "\n",
    "\n",
    "def get_output_size(shape, pool_size, pool_stride):\n",
    "    \"\"\" \n",
    "    given input shape, pooling window and stride, output shape \n",
    "    args:\n",
    "    - shape [list]: input shape\n",
    "    - pool_size [int]: window size\n",
    "    - pool_stride [int]: stride\n",
    "    returns\n",
    "    - output_shape [list]: output array shape\n",
    "    \"\"\"\n",
    "    # IMPLEMENT THIS FUNCTION\n",
    "    _, w, h, _ = shape    \n",
    "    new_w = (w - pool_size) / pool_stride + 1\n",
    "    new_h = (h - pool_size) / pool_stride + 1\n",
    "    return [shape[0], int(new_w), int(new_h), shape[3]]\n",
    "\n",
    "\n",
    "if __name__ == '__main__':\n",
    "#     parser = argparse.ArgumentParser(description='Download and process tf files')\n",
    "#     parser.add_argument('-f', '--pool_size', required=True, type=int, default=3,\n",
    "#                         help='pool filter size')\n",
    "#     parser.add_argument('-s', '--stride', required=True, type=int, default=3,\n",
    "#                         help='stride size')\n",
    "#     args = parser.parse_args()\n",
    "\n",
    "    input_array = np.random.rand(1, 224, 224, 16)\n",
    "    pool_size = 3\n",
    "    pool_stride = 3\n",
    "\n",
    "    # padd the input layer\n",
    "    paddings = get_paddings(input_array, pool_size, pool_stride)\n",
    "    padded = np.pad(input_array, paddings, mode='constant', constant_values=0)\n",
    "\n",
    "    # get output size\n",
    "    output_size = get_output_size(padded.shape, pool_size, pool_stride)\n",
    "    output = np.zeros(output_size)\n",
    "\n",
    "    # IMPLEMENT THE POOLING CALCULATION \n",
    "    check_output(output)"
   ]
  },
  {
   "cell_type": "code",
   "execution_count": null,
   "id": "2ac5477b",
   "metadata": {},
   "outputs": [],
   "source": []
  }
 ],
 "metadata": {
  "kernelspec": {
   "display_name": "Python 3 (ipykernel)",
   "language": "python",
   "name": "python3"
  },
  "language_info": {
   "codemirror_mode": {
    "name": "ipython",
    "version": 3
   },
   "file_extension": ".py",
   "mimetype": "text/x-python",
   "name": "python",
   "nbconvert_exporter": "python",
   "pygments_lexer": "ipython3",
   "version": "3.9.6"
  }
 },
 "nbformat": 4,
 "nbformat_minor": 5
}
