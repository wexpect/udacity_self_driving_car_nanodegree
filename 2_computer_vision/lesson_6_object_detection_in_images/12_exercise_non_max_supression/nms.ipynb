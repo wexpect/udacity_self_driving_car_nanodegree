{
 "cells": [
  {
   "cell_type": "markdown",
   "id": "3e041c28",
   "metadata": {},
   "source": [
    "# Exercise 1 - NMS\n",
    "\n",
    "## Objective\n",
    "\n",
    "In this exercise, you have to implement the Non-Max Suppression algorithm.\n",
    "\n",
    "## Details\n",
    "\n",
    "You are given a json file containing a list of predictions, containing `boxes` and `scores`.\n",
    "You will leverage the `calculate_iou` function to calculate the Intersection Over Union of \n",
    "these different predictions and implement the NMS algorithm.\n",
    "\n",
    "To do so, you will need to:\n",
    "* compare each bounding box with all the other bounding boxes in the set\n",
    "* for each pair of bounding boxes, calculate the IoU and compare the scores\n",
    "* if the IoU is above the threshold, keep the box with the highest score\n",
    "\n",
    "You can run `python nms.py` to check your implementation.\n",
    "\n",
    "## Tips\n",
    "\n",
    "You should also think of the modifications to make to implement Soft NMS.\n"
   ]
  },
  {
   "cell_type": "code",
   "execution_count": 7,
   "id": "c9e68cf5",
   "metadata": {},
   "outputs": [
    {
     "name": "stdout",
     "output_type": "stream",
     "text": [
      "{'classes': [1, 1, 1, 1, 1, 1, 1, 1, 1], 'boxes': [[106, 108, 198, 149], [106, 94, 195, 141], [105, 104, 202, 153], [107, 107, 192, 148], [104, 102, 196, 155], [102, 91, 198, 157], [91, 94, 200, 143], [101, 103, 192, 153], [101, 90, 206, 141]], 'scores': [0.07409888441353274, 0.6034416172735038, 0.07242464990801578, 0.814756824762981, 0.12201349036245734, 0.47478430999733756, 0.06635549149848208, 0.6067337424650986, 0.7962375654802895]}\n",
      "[[[107, 107, 192, 148], 0.814756824762981], [[101, 90, 206, 141], 0.7962375654802895], [[101, 103, 192, 153], 0.6067337424650986], [[106, 94, 195, 141], 0.6034416172735038], [[102, 91, 198, 157], 0.47478430999733756], [[104, 102, 196, 155], 0.12201349036245734], [[106, 108, 198, 149], 0.07409888441353274], [[105, 104, 202, 153], 0.07242464990801578], [[91, 94, 200, 143], 0.06635549149848208]]\n",
      "[[[107, 107, 192, 148], 0.814756824762981], [[101, 90, 206, 141], 0.7962375654802895]]\n"
     ]
    }
   ],
   "source": [
    "import json\n",
    "\n",
    "from utils import calculate_iou, check_results\n",
    "\n",
    "with open('data/predictions_nms.json', 'r') as f:\n",
    "    predictions = json.load(f)\n",
    "\n",
    "print(predictions)\n",
    "\n",
    "bb_score_lst = []\n",
    "for bb, score in zip(predictions['boxes'], predictions['scores']):\n",
    "    bb_score_lst.append([bb, score])\n",
    "# print(bb_score_lst)\n",
    "\n",
    "# sort by descending order\n",
    "bb_score_lst_sorted = sorted(bb_score_lst, key = lambda x : x[1])[::-1]\n",
    "print(bb_score_lst_sorted)\n",
    "\n",
    "filtered = []\n",
    "for i, i_bb_score in enumerate(bb_score_lst_sorted):\n",
    "#     print(i, i_bb_score)\n",
    "    \n",
    "    discard = False\n",
    "    \n",
    "    for j, j_bb_score in enumerate(bb_score_lst_sorted):\n",
    "#         print(j, j_bb_score)\n",
    "        \n",
    "        if i == j:\n",
    "            continue\n",
    "            \n",
    "        iou = calculate_iou(i_bb_score[0], j_bb_score[0])\n",
    "        if iou > 0.5:\n",
    "            if i_bb_score[1] < j_bb_score[1]:\n",
    "                discard = True\n",
    "                \n",
    "                \n",
    "    if not discard:\n",
    "        filtered.append(i_bb_score)\n",
    "\n",
    "print(filtered)\n",
    "    "
   ]
  },
  {
   "cell_type": "code",
   "execution_count": null,
   "id": "61d9548a",
   "metadata": {},
   "outputs": [],
   "source": []
  },
  {
   "cell_type": "code",
   "execution_count": null,
   "id": "6fd8fc80",
   "metadata": {},
   "outputs": [],
   "source": []
  },
  {
   "cell_type": "code",
   "execution_count": 8,
   "id": "da974b8a",
   "metadata": {},
   "outputs": [
    {
     "name": "stdout",
     "output_type": "stream",
     "text": [
      "{'classes': [1, 1, 1, 1, 1, 1, 1, 1, 1], 'boxes': [[106, 108, 198, 149], [106, 94, 195, 141], [105, 104, 202, 153], [107, 107, 192, 148], [104, 102, 196, 155], [102, 91, 198, 157], [91, 94, 200, 143], [101, 103, 192, 153], [101, 90, 206, 141]], 'scores': [0.07409888441353274, 0.6034416172735038, 0.07242464990801578, 0.814756824762981, 0.12201349036245734, 0.47478430999733756, 0.06635549149848208, 0.6067337424650986, 0.7962375654802895]}\n",
      "[[[107, 107, 192, 148], 0.814756824762981], [[101, 90, 206, 141], 0.7962375654802895], [[101, 103, 192, 153], 0.6067337424650986], [[106, 94, 195, 141], 0.6034416172735038], [[102, 91, 198, 157], 0.47478430999733756], [[104, 102, 196, 155], 0.12201349036245734], [[106, 108, 198, 149], 0.07409888441353274], [[105, 104, 202, 153], 0.07242464990801578], [[91, 94, 200, 143], 0.06635549149848208]]\n",
      "[[[107, 107, 192, 148], 0.814756824762981], [[101, 90, 206, 141], 0.7962375654802895]]\n",
      "The NMS implementation is correct!\n"
     ]
    }
   ],
   "source": [
    "import json\n",
    "\n",
    "from utils import calculate_iou, check_results\n",
    "\n",
    "\n",
    "def nms(predictions):\n",
    "    \"\"\"\n",
    "    non max suppression\n",
    "    args:\n",
    "    - predictions [dict]: predictions dict \n",
    "    returns:\n",
    "    - filtered [list]: filtered bboxes and scores\n",
    "    \"\"\"\n",
    "    # IMPLEMENT THIS FUNCTION\n",
    "    bb_score_lst = []\n",
    "    for bb, score in zip(predictions['boxes'], predictions['scores']):\n",
    "        bb_score_lst.append([bb, score])\n",
    "    # print(bb_score_lst)\n",
    "\n",
    "    # sort by descending order\n",
    "    bb_score_lst_sorted = sorted(bb_score_lst, key = lambda x : x[1])[::-1]\n",
    "    print(bb_score_lst_sorted)\n",
    "\n",
    "    filtered = []\n",
    "    for i, i_bb_score in enumerate(bb_score_lst_sorted):\n",
    "    #     print(i, i_bb_score)\n",
    "\n",
    "        discard = False\n",
    "\n",
    "        for j, j_bb_score in enumerate(bb_score_lst_sorted):\n",
    "    #         print(j, j_bb_score)\n",
    "\n",
    "            if i == j:\n",
    "                continue\n",
    "\n",
    "            iou = calculate_iou(i_bb_score[0], j_bb_score[0])\n",
    "            if iou > 0.5:\n",
    "                if i_bb_score[1] < j_bb_score[1]:\n",
    "                    discard = True\n",
    "\n",
    "\n",
    "        if not discard:\n",
    "            filtered.append(i_bb_score)\n",
    "\n",
    "    print(filtered)\n",
    "    return filtered\n",
    "\n",
    "\n",
    "if __name__ == '__main__':\n",
    "    with open('data/predictions_nms.json', 'r') as f:\n",
    "        predictions = json.load(f)\n",
    "\n",
    "    print(predictions)\n",
    "    filtered = nms(predictions)\n",
    "    check_results(filtered)"
   ]
  },
  {
   "cell_type": "code",
   "execution_count": null,
   "id": "3b7f390f",
   "metadata": {},
   "outputs": [],
   "source": []
  }
 ],
 "metadata": {
  "kernelspec": {
   "display_name": "Python 3 (ipykernel)",
   "language": "python",
   "name": "python3"
  },
  "language_info": {
   "codemirror_mode": {
    "name": "ipython",
    "version": 3
   },
   "file_extension": ".py",
   "mimetype": "text/x-python",
   "name": "python",
   "nbconvert_exporter": "python",
   "pygments_lexer": "ipython3",
   "version": "3.9.6"
  }
 },
 "nbformat": 4,
 "nbformat_minor": 5
}
