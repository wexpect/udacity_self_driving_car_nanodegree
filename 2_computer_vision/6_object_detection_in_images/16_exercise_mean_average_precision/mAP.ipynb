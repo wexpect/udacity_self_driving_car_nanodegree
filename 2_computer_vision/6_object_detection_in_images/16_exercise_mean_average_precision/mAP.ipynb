{
 "cells": [
  {
   "cell_type": "markdown",
   "id": "fe548eed",
   "metadata": {},
   "source": [
    "# Exercise 2 - Mean Average Precision\n",
    "\n",
    "## Objective\n",
    "\n",
    "In this exercise, you will have to implement the Mean Average Precision (mAP) metric.\n",
    "\n",
    "## Details\n",
    "\n",
    "To do so, you will first have to create the Precision-Recall (PR) curve. Once this curve is created, you \n",
    "need to create the smoothed version as discussed in the lesson. Finally you can use this smoothed\n",
    "version to calculate the mAP.\n",
    "\n",
    "You also have to create a visualization of the PR and smoothed PR curves.\n",
    "\n",
    "Make sure to check the `Desktop` to see your visualization when running the code.\n",
    "\n",
    "## Tips\n",
    "\n",
    "To create the PR curve, you need to sort the predictions based on their confidence score and calculate the precision and recall for each subset of the predictions, as explained in the course.\n",
    "\n",
    "To make your life easier, you can hard code the smoothed PR curve based on the PR curve, but \n",
    "you should think of a scripted version of doing so."
   ]
  },
  {
   "cell_type": "code",
   "execution_count": 27,
   "id": "c35f2dde",
   "metadata": {},
   "outputs": [
    {
     "name": "stdout",
     "output_type": "stream",
     "text": [
      "1 0.2417094455852156 0\n",
      "1 0.0 0\n",
      "1 0.0 0\n",
      "1 0.0 0\n",
      "1 0.6745264785465791 1\n",
      "1 0.0 1\n",
      "1 0.0 1\n",
      "1 0.0 1\n",
      "1 0.7969015040144747 2\n",
      "1 0.0 2\n",
      "1 0.4419111635934236 2\n",
      "1 0.0 2\n",
      "1 0.0 2\n",
      "1 0.08123510517044866 2\n",
      "3 0.1539865658999731 2\n",
      "3 0.0 2\n",
      "3 0.0 2\n",
      "3 0.0 2\n",
      "3 0.9114202179498538 2\n",
      "3 0.0 2\n",
      "3 0.0 2\n",
      "1 0.0 2\n",
      "1 0.07885714285714286 2\n",
      "1 0.0 2\n",
      "1 0.04232129187474939 2\n",
      "1 0.0 2\n",
      "1 0.0 2\n",
      "1 0.7271866717152594 3\n",
      "1 0.0 3\n",
      "1 0.43065145933067134 3\n",
      "1 0.0 3\n",
      "1 0.8451453852254593 4\n",
      "1 0.0 4\n",
      "1 0.0 4\n",
      "1 0.0260724186824117 4\n",
      "2 0.0 4\n",
      "2 0.45411354818275396 4\n",
      "2 0.0 4\n",
      "2 0.8339272918358572 4\n",
      "2 0.0 4\n",
      "2 0.0 4\n",
      "2 0.037597730275269095 4\n",
      "1 0.8534175446682558 5\n",
      "1 0.0 5\n",
      "1 0.0 5\n",
      "1 0.0 5\n",
      "1 0.12414345465871673 5\n",
      "1 0.029801324503311258 5\n",
      "1 0.0 5\n",
      "1 0.0 5\n",
      "1 0.0 5\n",
      "1 0.7548321464903357 6\n",
      "1 0.0 6\n",
      "1 0.0 6\n",
      "1 0.0 6\n",
      "1 0.0 6\n",
      "[[1.0, 0.14285714285714285], [1.0, 0.2857142857142857], [0.6666666666666666, 0.2857142857142857], [0.75, 0.42857142857142855], [0.8, 0.5714285714285714], [0.6666666666666666, 0.5714285714285714], [0.7142857142857143, 0.7142857142857143], [0.75, 0.8571428571428571]]\n"
     ]
    },
    {
     "data": {
      "image/png": "[encoded data removed]",
      "text/plain": [
       "<Figure size 432x288 with 1 Axes>"
      ]
     },
     "metadata": {
      "needs_background": "light"
     },
     "output_type": "display_data"
    },
    {
     "name": "stdout",
     "output_type": "stream",
     "text": [
      "0.7285714285714285\n",
      "mAP calculation is correct!\n"
     ]
    }
   ],
   "source": [
    "import copy\n",
    "import json\n",
    "from collections import Counter\n",
    "\n",
    "import matplotlib.pyplot as plt\n",
    "import numpy as np\n",
    "\n",
    "from utils import calculate_iou, check_results\n",
    "\n",
    "\n",
    "if __name__ == '__main__':\n",
    "    # load data \n",
    "    with open('data/predictions.json', 'r') as f:\n",
    "        preds = json.load(f)\n",
    "\n",
    "    with open('data/ground_truths.json', 'r') as f:\n",
    "        gts = json.load(f)\n",
    "    \n",
    "    # TODO IMPLEMENT THIS SCRIPT\n",
    "    boxes = preds[0]['boxes']\n",
    "    classes = preds[0]['classes']\n",
    "    scores = preds[0]['scores']\n",
    "\n",
    "    predictions = [(bb, cl, sc) for bb, cl, sc in zip(boxes, classes, scores)]\n",
    "    predictions = sorted(predictions, key=lambda k:k[-1])[::-1]\n",
    "    predictions    \n",
    "    \n",
    "    \n",
    "    total = len(gts[0]['boxes'])\n",
    "    tp = 0\n",
    "    curve = []\n",
    "    for idx, pred in enumerate(predictions):\n",
    "        for bb in gts[0]['boxes']:\n",
    "            iou = calculate_iou(bb, pred[0])\n",
    "            if iou > 0.5:\n",
    "                if pred[1] == 1:\n",
    "                    tp += 1\n",
    "\n",
    "            print(pred[1], iou, tp)        \n",
    "\n",
    "        # TODO: I think denominator should only include predicted_class = 1? but it include all predicted classes here, why? \n",
    "        prec = tp / (idx + 1) \n",
    "        rec = tp / total\n",
    "        curve.append([prec, rec])\n",
    "\n",
    "    print(curve)    \n",
    "    \n",
    "    curve = np.array(curve)    \n",
    "    \n",
    "    # smooth PR curve\n",
    "    ct = Counter(curve[:, 1])\n",
    "    boundaries = sorted([k for k,v in ct.items() if v > 1])\n",
    "    # get max precision values\n",
    "    maxes = []\n",
    "    for i in range(len(boundaries)):\n",
    "        if i != len(boundaries) - 1:\n",
    "            loc = [p[0] for p in curve if boundaries[i+1] >= p[1] > boundaries[i]]\n",
    "            maxes.append(np.max(loc))\n",
    "        else:\n",
    "            loc = [p[0] for p in curve if p[1] > boundaries[i]]\n",
    "            maxes.append(np.max(loc))\n",
    "\n",
    "    smoothed = copy.copy(curve)\n",
    "    replace = -1\n",
    "    for i in range(smoothed.shape[0]-1):\n",
    "        if replace != -1:\n",
    "            smoothed[i, 0] = maxes[replace]\n",
    "        if smoothed[i, 1] == smoothed[i+1, 1]:\n",
    "            replace += 1    \n",
    "            \n",
    "            \n",
    "    plt.plot(curve[:, 1], curve[:, 0])\n",
    "    plt.plot(smoothed[:, 1], smoothed[:, 0])\n",
    "    plt.xlabel('recall', fontsize=18)\n",
    "    plt.ylabel('precision', fontsize=18)\n",
    "    plt.show()    \n",
    "    \n",
    "    \n",
    "    mAP = 0\n",
    "    for i in range(len(smoothed)):\n",
    "        if i == 0:\n",
    "            mAP += smoothed[i][1] * smoothed[i][0] \n",
    "        else:\n",
    "            mAP += (smoothed[i][1] - smoothed[i-1][1]) * smoothed[i][0]         \n",
    "\n",
    "    print(mAP)   \n",
    "\n",
    "    check_results(mAP)"
   ]
  },
  {
   "cell_type": "code",
   "execution_count": 2,
   "id": "b76162f8",
   "metadata": {},
   "outputs": [
    {
     "name": "stdout",
     "output_type": "stream",
     "text": [
      "[{'boxes': [[783, 1104, 1011, 1700], [717, 0, 908, 280], [734, 0, 1100, 240], [744, 0, 1080, 258], [753, 474, 868, 609], [830, 1500, 1004, 1914], [758, 192, 811, 364], [810, 1576, 973, 1909]], 'classes': [1, 1, 1, 2, 1, 1, 1, 3], 'scores': [0.32, 0.97, 0.51, 0.44, 0.12, 0.99, 0.73, 0.95], 'filename': 'segment-1231623110026745648_480_000_500_000_with_camera_labels_38.png'}]\n",
      "[{'boxes': [[793, 1134, 1001, 1718], [737, 0, 898, 260], [763, 484, 878, 619], [734, 0, 1114, 277], [820, 1566, 974, 1914], [762, 951, 844, 1175], [748, 197, 803, 363]], 'classes': [1, 1, 1, 1, 1, 1, 1], 'filename': 'segment-1231623110026745648_480_000_500_000_with_camera_labels_38.png'}]\n"
     ]
    }
   ],
   "source": [
    "import copy\n",
    "import json\n",
    "from collections import Counter\n",
    "\n",
    "import matplotlib.pyplot as plt\n",
    "import numpy as np\n",
    "\n",
    "from utils import calculate_iou, check_results\n",
    "\n",
    "# load data \n",
    "with open('data/predictions.json', 'r') as f:\n",
    "    preds = json.load(f)\n",
    "    print(preds)\n",
    "\n",
    "with open('data/ground_truths.json', 'r') as f:\n",
    "    gts = json.load(f)\n",
    "    print(gts)"
   ]
  },
  {
   "cell_type": "code",
   "execution_count": 4,
   "id": "61896d8d",
   "metadata": {},
   "outputs": [
    {
     "data": {
      "text/plain": [
       "[([830, 1500, 1004, 1914], 1, 0.99),\n",
       " ([717, 0, 908, 280], 1, 0.97),\n",
       " ([810, 1576, 973, 1909], 3, 0.95),\n",
       " ([758, 192, 811, 364], 1, 0.73),\n",
       " ([734, 0, 1100, 240], 1, 0.51),\n",
       " ([744, 0, 1080, 258], 2, 0.44),\n",
       " ([783, 1104, 1011, 1700], 1, 0.32),\n",
       " ([753, 474, 868, 609], 1, 0.12)]"
      ]
     },
     "execution_count": 4,
     "metadata": {},
     "output_type": "execute_result"
    }
   ],
   "source": [
    "boxes = preds[0]['boxes']\n",
    "classes = preds[0]['classes']\n",
    "scores = preds[0]['scores']\n",
    "\n",
    "predictions = [(bb, cl, sc) for bb, cl, sc in zip(boxes, classes, scores)]\n",
    "predictions = sorted(predictions, key=lambda k:k[-1])[::-1]\n",
    "predictions"
   ]
  },
  {
   "cell_type": "code",
   "execution_count": 8,
   "id": "f447e3be",
   "metadata": {},
   "outputs": [
    {
     "name": "stdout",
     "output_type": "stream",
     "text": [
      "1 0.2417094455852156 0\n",
      "1 0.0 0\n",
      "1 0.0 0\n",
      "1 0.0 0\n",
      "1 0.6745264785465791 1\n",
      "1 0.0 1\n",
      "1 0.0 1\n",
      "1 0.0 1\n",
      "1 0.7969015040144747 2\n",
      "1 0.0 2\n",
      "1 0.4419111635934236 2\n",
      "1 0.0 2\n",
      "1 0.0 2\n",
      "1 0.08123510517044866 2\n",
      "3 0.1539865658999731 2\n",
      "3 0.0 2\n",
      "3 0.0 2\n",
      "3 0.0 2\n",
      "3 0.9114202179498538 2\n",
      "3 0.0 2\n",
      "3 0.0 2\n",
      "1 0.0 2\n",
      "1 0.07885714285714286 2\n",
      "1 0.0 2\n",
      "1 0.04232129187474939 2\n",
      "1 0.0 2\n",
      "1 0.0 2\n",
      "1 0.7271866717152594 3\n",
      "1 0.0 3\n",
      "1 0.43065145933067134 3\n",
      "1 0.0 3\n",
      "1 0.8451453852254593 4\n",
      "1 0.0 4\n",
      "1 0.0 4\n",
      "1 0.0260724186824117 4\n",
      "2 0.0 4\n",
      "2 0.45411354818275396 4\n",
      "2 0.0 4\n",
      "2 0.8339272918358572 4\n",
      "2 0.0 4\n",
      "2 0.0 4\n",
      "2 0.037597730275269095 4\n",
      "1 0.8534175446682558 5\n",
      "1 0.0 5\n",
      "1 0.0 5\n",
      "1 0.0 5\n",
      "1 0.12414345465871673 5\n",
      "1 0.029801324503311258 5\n",
      "1 0.0 5\n",
      "1 0.0 5\n",
      "1 0.0 5\n",
      "1 0.7548321464903357 6\n",
      "1 0.0 6\n",
      "1 0.0 6\n",
      "1 0.0 6\n",
      "1 0.0 6\n",
      "[[1.0, 0.14285714285714285], [1.0, 0.2857142857142857], [0.6666666666666666, 0.2857142857142857], [0.75, 0.42857142857142855], [0.8, 0.5714285714285714], [0.6666666666666666, 0.5714285714285714], [0.7142857142857143, 0.7142857142857143], [0.75, 0.8571428571428571]]\n"
     ]
    }
   ],
   "source": [
    "total = len(gts[0]['boxes'])\n",
    "tp = 0\n",
    "curve = []\n",
    "for idx, pred in enumerate(predictions):\n",
    "    for bb in gts[0]['boxes']:\n",
    "        iou = calculate_iou(bb, pred[0])\n",
    "        if iou > 0.5:\n",
    "            if pred[1] == 1:\n",
    "                tp += 1\n",
    "\n",
    "        print(pred[1], iou, tp)        \n",
    "        \n",
    "    # TODO: I think denominator should only include predicted_class = 1? but it include all predicted classes here, why? \n",
    "    prec = tp / (idx + 1) \n",
    "    rec = tp / total\n",
    "    curve.append([prec, rec])\n",
    "    \n",
    "print(curve)"
   ]
  },
  {
   "cell_type": "code",
   "execution_count": 13,
   "id": "000ef3ae",
   "metadata": {},
   "outputs": [
    {
     "data": {
      "text/plain": [
       "[<matplotlib.lines.Line2D at 0x1315f51c0>]"
      ]
     },
     "execution_count": 13,
     "metadata": {},
     "output_type": "execute_result"
    },
    {
     "data": {
      "image/png": "[encoded data removed]",
      "text/plain": [
       "<Figure size 432x288 with 1 Axes>"
      ]
     },
     "metadata": {
      "needs_background": "light"
     },
     "output_type": "display_data"
    }
   ],
   "source": [
    "curve = np.array(curve)\n",
    "plt.plot(curve[:, 1], curve[:, 0])"
   ]
  },
  {
   "cell_type": "code",
   "execution_count": 14,
   "id": "7f9beab4",
   "metadata": {},
   "outputs": [],
   "source": [
    " # smooth PR curve\n",
    "ct = Counter(curve[:, 1])\n",
    "boundaries = sorted([k for k,v in ct.items() if v > 1])\n",
    "# get max precision values\n",
    "maxes = []\n",
    "for i in range(len(boundaries)):\n",
    "    if i != len(boundaries) - 1:\n",
    "        loc = [p[0] for p in curve if boundaries[i+1] >= p[1] > boundaries[i]]\n",
    "        maxes.append(np.max(loc))\n",
    "    else:\n",
    "        loc = [p[0] for p in curve if p[1] > boundaries[i]]\n",
    "        maxes.append(np.max(loc))\n",
    "        \n",
    "smoothed = copy.copy(curve)\n",
    "replace = -1\n",
    "for i in range(smoothed.shape[0]-1):\n",
    "    if replace != -1:\n",
    "        smoothed[i, 0] = maxes[replace]\n",
    "    if smoothed[i, 1] == smoothed[i+1, 1]:\n",
    "        replace += 1 "
   ]
  },
  {
   "cell_type": "code",
   "execution_count": 15,
   "id": "e06125f3",
   "metadata": {},
   "outputs": [
    {
     "data": {
      "text/plain": [
       "array([[1.        , 0.14285714],\n",
       "       [1.        , 0.28571429],\n",
       "       [0.8       , 0.28571429],\n",
       "       [0.8       , 0.42857143],\n",
       "       [0.8       , 0.57142857],\n",
       "       [0.75      , 0.57142857],\n",
       "       [0.75      , 0.71428571],\n",
       "       [0.75      , 0.85714286]])"
      ]
     },
     "execution_count": 15,
     "metadata": {},
     "output_type": "execute_result"
    }
   ],
   "source": [
    "smoothed"
   ]
  },
  {
   "cell_type": "code",
   "execution_count": 19,
   "id": "88ab62bd",
   "metadata": {},
   "outputs": [
    {
     "data": {
      "image/png": "[encoded data removed]",
      "text/plain": [
       "<Figure size 432x288 with 1 Axes>"
      ]
     },
     "metadata": {
      "needs_background": "light"
     },
     "output_type": "display_data"
    }
   ],
   "source": [
    "plt.plot(curve[:, 1], curve[:, 0])\n",
    "plt.plot(smoothed[:, 1], smoothed[:, 0])\n",
    "plt.xlabel('recall', fontsize=18)\n",
    "plt.ylabel('precision', fontsize=18)\n",
    "plt.show()"
   ]
  },
  {
   "cell_type": "code",
   "execution_count": 25,
   "id": "2913553c",
   "metadata": {},
   "outputs": [
    {
     "name": "stdout",
     "output_type": "stream",
     "text": [
      "0.7285714285714285\n"
     ]
    }
   ],
   "source": [
    "# calculate mAP\n",
    "# cmin = 0\n",
    "# mAP = 0\n",
    "# for i in range(smoothed.shape[0] - 1):\n",
    "#     if smoothed[i, 1] == smoothed[i+1, 1]:\n",
    "#         mAP += (smoothed[i, 1] - cmin) * smoothed[i, 0]\n",
    "#         cmin = smoothed[i, 1]\n",
    "# mAP += (smoothed[-1, 1] - cmin) * smoothed[-1, 0]\n",
    "# print(mAP)\n",
    "\n",
    "area = 0\n",
    "for i in range(len(smoothed)):\n",
    "    if i == 0:\n",
    "        area += smoothed[i][1] * smoothed[i][0] \n",
    "    else:\n",
    "        area += (smoothed[i][1] - smoothed[i-1][1]) * smoothed[i][0]         \n",
    "\n",
    "print(area)        \n"
   ]
  },
  {
   "cell_type": "code",
   "execution_count": 26,
   "id": "66780c93",
   "metadata": {},
   "outputs": [
    {
     "name": "stdout",
     "output_type": "stream",
     "text": [
      "mAP calculation is correct!\n"
     ]
    }
   ],
   "source": [
    "check_results(mAP)"
   ]
  }
 ],
 "metadata": {
  "kernelspec": {
   "display_name": "Python 3 (ipykernel)",
   "language": "python",
   "name": "python3"
  },
  "language_info": {
   "codemirror_mode": {
    "name": "ipython",
    "version": 3
   },
   "file_extension": ".py",
   "mimetype": "text/x-python",
   "name": "python",
   "nbconvert_exporter": "python",
   "pygments_lexer": "ipython3",
   "version": "3.9.6"
  }
 },
 "nbformat": 4,
 "nbformat_minor": 5
}
