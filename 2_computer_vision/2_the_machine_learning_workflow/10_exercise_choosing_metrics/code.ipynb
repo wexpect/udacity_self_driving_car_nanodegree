{
 "cells": [
  {
   "cell_type": "markdown",
   "id": "4e65ad08",
   "metadata": {},
   "source": [
    "# Exercise 1 \n",
    "\n",
    "## Part 1 - Calculate IoU\n",
    "\n",
    "### Objectives\n",
    "\n",
    "In the first part of this exercise, your task is to implement a function that calculates the iou between\n",
    "two bounding boxes. \n",
    "\n",
    "### Details\n",
    "\n",
    "The `calculate_ious` function in `iou.py` takes two arrays containing the bounding boxes coordinates\n",
    "as inputs. Both arrays are 1x4 numpy arrays. The array are using the following format:\n",
    "```\n",
    "[x1, y1, x2, y2]\n",
    "```\n",
    "where `x1 < x2` and `y1 < y2`. `(x, y1)` are the coordinates of the upper left corner \n",
    "and `(x2, y2)` the coordinates of the lower right corner of the bounding box.\n",
    "\n",
    "### Example\n",
    "\n",
    "```\n",
    "iou = calculate_iou(np.array([0, 0, 100, 100]), np.array([101, 101, 200, 200]))\n",
    "```\n",
    "\n",
    "### Tips\n",
    "\n",
    "Keep in mind that the bounding boxes may not intersect, in which case the IoU \n",
    "should be equal to 0.\n",
    "\n",
    "By running `python iou.py`, you will be able to check your implementation. \n",
    "\n",
    "\n",
    "## Part 2 - calculate Precision / Recall\n",
    "\n",
    "### Objectives\n",
    "\n",
    "Then, you are asked to calculate the precision and recall for a given set of predictions \n",
    "and ground truths. You will use a threshold of 0.5 IoU to determine if a prediction is \n",
    "a true positive or not.\n",
    "\n",
    "### Details\n",
    "\n",
    "The `precision_recall` function in `precision_recall.py` takes as inputs a `ious` NxM array of IoU values as well as \n",
    "two list `pred_classes` and`gt_classes` containing the M predicted classes ids and the N ground truth classes ids.\n",
    "\n",
    "The `ious` array contains the pairwise IoU values between the N ground truth bounding boxes and the M \n",
    "predicted bounding boxes such that:\n",
    "\n",
    "```\n",
    "ious[x, y] = calculate_iou(groundtruth[x], predictions[y])\n",
    "```\n",
    "\n",
    "### Example\n",
    "\n",
    "```\n",
    "precision, recall = precision_recall(np.array([[0.5, 0.1], [0.8, 0.1]), np.array([1, 2]), np.array([1, 0]))\n",
    "```\n",
    "\n",
    "### Tips\n",
    "\n",
    "You need to calculate the number of False Negatives to calculate the recall. You can use the IoU array\n",
    "to find the ground truth bounding boxes that are not predicted.\n",
    "\n",
    "By running `python precision_recall.py`, you will be able to check your implementation.\n"
   ]
  },
  {
   "cell_type": "code",
   "execution_count": 1,
   "id": "3e0491d2",
   "metadata": {},
   "outputs": [],
   "source": [
    "import numpy as np"
   ]
  },
  {
   "cell_type": "code",
   "execution_count": 7,
   "id": "ca60a1b2",
   "metadata": {},
   "outputs": [
    {
     "data": {
      "text/plain": [
       "array([  0,   0, 100, 100])"
      ]
     },
     "execution_count": 7,
     "metadata": {},
     "output_type": "execute_result"
    }
   ],
   "source": [
    "g = np.array([0, 0, 100, 100])\n",
    "g"
   ]
  },
  {
   "cell_type": "code",
   "execution_count": 53,
   "id": "6238f2ed",
   "metadata": {},
   "outputs": [
    {
     "data": {
      "text/plain": [
       "array([110, 110, 200, 200])"
      ]
     },
     "execution_count": 53,
     "metadata": {},
     "output_type": "execute_result"
    }
   ],
   "source": [
    "# p = np.array([90, 90, 200, 210])\n",
    "# p = np.array([0, 0, 100, 100])\n",
    "p = np.array([110, 110, 200, 200])\n",
    "p"
   ]
  },
  {
   "cell_type": "code",
   "execution_count": 54,
   "id": "2d45d8e2",
   "metadata": {},
   "outputs": [
    {
     "data": {
      "text/plain": [
       "200"
      ]
     },
     "execution_count": 54,
     "metadata": {},
     "output_type": "execute_result"
    }
   ],
   "source": [
    "max_x = np.max([g[2], p[2]])\n",
    "max_x"
   ]
  },
  {
   "cell_type": "code",
   "execution_count": 55,
   "id": "dd6dbffb",
   "metadata": {},
   "outputs": [
    {
     "data": {
      "text/plain": [
       "200"
      ]
     },
     "execution_count": 55,
     "metadata": {},
     "output_type": "execute_result"
    }
   ],
   "source": [
    "max_y = np.max([g[3], p[3]])\n",
    "max_y"
   ]
  },
  {
   "cell_type": "code",
   "execution_count": 56,
   "id": "e64cb014",
   "metadata": {},
   "outputs": [
    {
     "data": {
      "text/plain": [
       "(200, 200)"
      ]
     },
     "execution_count": 56,
     "metadata": {},
     "output_type": "execute_result"
    }
   ],
   "source": [
    "mat_g = np.zeros((max_y, max_x))\n",
    "mat_g.shape"
   ]
  },
  {
   "cell_type": "code",
   "execution_count": 57,
   "id": "cd5f1e26",
   "metadata": {},
   "outputs": [
    {
     "data": {
      "text/plain": [
       "array([[1., 1., 1., ..., 0., 0., 0.],\n",
       "       [1., 1., 1., ..., 0., 0., 0.],\n",
       "       [1., 1., 1., ..., 0., 0., 0.],\n",
       "       ...,\n",
       "       [0., 0., 0., ..., 0., 0., 0.],\n",
       "       [0., 0., 0., ..., 0., 0., 0.],\n",
       "       [0., 0., 0., ..., 0., 0., 0.]])"
      ]
     },
     "execution_count": 57,
     "metadata": {},
     "output_type": "execute_result"
    }
   ],
   "source": [
    "mat_g[g[1]:g[3], g[0]:g[2]] = 1\n",
    "mat_g"
   ]
  },
  {
   "cell_type": "code",
   "execution_count": 58,
   "id": "95de15db",
   "metadata": {},
   "outputs": [
    {
     "data": {
      "text/plain": [
       "(200, 200)"
      ]
     },
     "execution_count": 58,
     "metadata": {},
     "output_type": "execute_result"
    }
   ],
   "source": [
    "mat_p = np.zeros((max_y, max_x))\n",
    "mat_p.shape"
   ]
  },
  {
   "cell_type": "code",
   "execution_count": 59,
   "id": "1b108063",
   "metadata": {},
   "outputs": [
    {
     "data": {
      "text/plain": [
       "array([[0., 0., 0., ..., 0., 0., 0.],\n",
       "       [0., 0., 0., ..., 0., 0., 0.],\n",
       "       [0., 0., 0., ..., 0., 0., 0.],\n",
       "       ...,\n",
       "       [0., 0., 0., ..., 1., 1., 1.],\n",
       "       [0., 0., 0., ..., 1., 1., 1.],\n",
       "       [0., 0., 0., ..., 1., 1., 1.]])"
      ]
     },
     "execution_count": 59,
     "metadata": {},
     "output_type": "execute_result"
    }
   ],
   "source": [
    "mat_p[p[1]:p[3], p[0]:p[2]] = 1\n",
    "mat_p"
   ]
  },
  {
   "cell_type": "code",
   "execution_count": 60,
   "id": "851a2362",
   "metadata": {},
   "outputs": [
    {
     "data": {
      "text/plain": [
       "10000"
      ]
     },
     "execution_count": 60,
     "metadata": {},
     "output_type": "execute_result"
    }
   ],
   "source": [
    "count_one_mat_g = np.sum(mat_g == 1)\n",
    "count_one_mat_g"
   ]
  },
  {
   "cell_type": "code",
   "execution_count": 61,
   "id": "c75ff295",
   "metadata": {},
   "outputs": [
    {
     "data": {
      "text/plain": [
       "8100"
      ]
     },
     "execution_count": 61,
     "metadata": {},
     "output_type": "execute_result"
    }
   ],
   "source": [
    "count_one_mat_p = np.sum(mat_p == 1)\n",
    "count_one_mat_p"
   ]
  },
  {
   "cell_type": "code",
   "execution_count": 62,
   "id": "29a99f72",
   "metadata": {},
   "outputs": [
    {
     "data": {
      "text/plain": [
       "0"
      ]
     },
     "execution_count": 62,
     "metadata": {},
     "output_type": "execute_result"
    }
   ],
   "source": [
    "mat_g_intersect_mat_p = np.sum(mat_g + mat_p == 2)\n",
    "mat_g_intersect_mat_p"
   ]
  },
  {
   "cell_type": "code",
   "execution_count": 63,
   "id": "fe62529f",
   "metadata": {},
   "outputs": [
    {
     "data": {
      "text/plain": [
       "18100"
      ]
     },
     "execution_count": 63,
     "metadata": {},
     "output_type": "execute_result"
    }
   ],
   "source": [
    "mat_g_union_mat_p = count_one_mat_g + count_one_mat_p - mat_g_intersect_mat_p\n",
    "mat_g_union_mat_p"
   ]
  },
  {
   "cell_type": "code",
   "execution_count": 64,
   "id": "68c2c9a7",
   "metadata": {},
   "outputs": [
    {
     "data": {
      "text/plain": [
       "0.0"
      ]
     },
     "execution_count": 64,
     "metadata": {},
     "output_type": "execute_result"
    }
   ],
   "source": [
    "iou = mat_g_intersect_mat_p / mat_g_union_mat_p\n",
    "iou"
   ]
  },
  {
   "cell_type": "code",
   "execution_count": 66,
   "id": "9a06d187",
   "metadata": {},
   "outputs": [],
   "source": [
    "gt_classes = np.array([1, 1, 1, 1, 2, 1, 1, 1])"
   ]
  },
  {
   "cell_type": "code",
   "execution_count": 67,
   "id": "790e180d",
   "metadata": {},
   "outputs": [],
   "source": [
    "pred_classes = np.array([1, 2, 1, 2, 1])"
   ]
  },
  {
   "cell_type": "code",
   "execution_count": 69,
   "id": "35d83528",
   "metadata": {},
   "outputs": [],
   "source": [
    "ious = np.array(\n",
    " [[0.84313051, 0.         ,0.       ,  0.         ,0.23860974],\n",
    " [0.         ,0.08469791 ,0.4243356  ,0.         ,0.        ],\n",
    " [0.         ,0.         ,0.         ,0.73221757 ,0.        ],\n",
    " [0.         ,0.41277874 ,0.83450504 ,0.         ,0.        ],\n",
    " [0.         ,0.68758782 ,0.43810509 ,0.         ,0.        ],\n",
    " [0.12221933 ,0.         ,0.         ,0.         ,0.66359447],\n",
    " [0.02888778 ,0.         ,0.         ,0.         ,0.        ],\n",
    " [0.         ,0.         ,0.02499868 ,0.         ,0.        ]])"
   ]
  },
  {
   "cell_type": "code",
   "execution_count": 70,
   "id": "381995cb",
   "metadata": {},
   "outputs": [
    {
     "data": {
      "text/plain": [
       "array([[0.84313051, 0.        , 0.        , 0.        , 0.23860974],\n",
       "       [0.        , 0.08469791, 0.4243356 , 0.        , 0.        ],\n",
       "       [0.        , 0.        , 0.        , 0.73221757, 0.        ],\n",
       "       [0.        , 0.41277874, 0.83450504, 0.        , 0.        ],\n",
       "       [0.        , 0.68758782, 0.43810509, 0.        , 0.        ],\n",
       "       [0.12221933, 0.        , 0.        , 0.        , 0.66359447],\n",
       "       [0.02888778, 0.        , 0.        , 0.        , 0.        ],\n",
       "       [0.        , 0.        , 0.02499868, 0.        , 0.        ]])"
      ]
     },
     "execution_count": 70,
     "metadata": {},
     "output_type": "execute_result"
    }
   ],
   "source": [
    "ious"
   ]
  },
  {
   "cell_type": "code",
   "execution_count": 92,
   "id": "f06e07d2",
   "metadata": {},
   "outputs": [],
   "source": [
    "tp = 0\n",
    "fp = 0"
   ]
  },
  {
   "cell_type": "code",
   "execution_count": 93,
   "id": "5643a7c3",
   "metadata": {},
   "outputs": [
    {
     "data": {
      "text/plain": [
       "(4, 1)"
      ]
     },
     "execution_count": 93,
     "metadata": {},
     "output_type": "execute_result"
    }
   ],
   "source": [
    "for i in range(len(gt_classes)):\n",
    "    for j in range(len(pred_classes)):\n",
    "        if ious[i][j] > 0.5:\n",
    "            if gt_classes[i] == pred_classes[j]:\n",
    "                tp+=1\n",
    "            else:\n",
    "                fp+=1    \n",
    "                \n",
    "tp, fp"
   ]
  },
  {
   "cell_type": "code",
   "execution_count": 94,
   "id": "87a60f73",
   "metadata": {},
   "outputs": [
    {
     "data": {
      "text/plain": [
       "3"
      ]
     },
     "execution_count": 94,
     "metadata": {},
     "output_type": "execute_result"
    }
   ],
   "source": [
    "fn = np.sum(np.max(ious, axis=1) <= 0.5)\n",
    "fn"
   ]
  },
  {
   "cell_type": "code",
   "execution_count": 95,
   "id": "f7c2d7ce",
   "metadata": {},
   "outputs": [
    {
     "data": {
      "text/plain": [
       "0.8"
      ]
     },
     "execution_count": 95,
     "metadata": {},
     "output_type": "execute_result"
    }
   ],
   "source": [
    "precision = tp / (tp + fp)\n",
    "precision"
   ]
  },
  {
   "cell_type": "code",
   "execution_count": 96,
   "id": "9c9996a3",
   "metadata": {},
   "outputs": [
    {
     "data": {
      "text/plain": [
       "0.5714285714285714"
      ]
     },
     "execution_count": 96,
     "metadata": {},
     "output_type": "execute_result"
    }
   ],
   "source": [
    "recall = tp / (tp + fn)\n",
    "recall"
   ]
  },
  {
   "cell_type": "code",
   "execution_count": null,
   "id": "ce379ff2",
   "metadata": {},
   "outputs": [],
   "source": []
  },
  {
   "cell_type": "code",
   "execution_count": 75,
   "id": "57e696b4",
   "metadata": {},
   "outputs": [
    {
     "data": {
      "text/plain": [
       "1"
      ]
     },
     "execution_count": 75,
     "metadata": {},
     "output_type": "execute_result"
    }
   ],
   "source": [
    "a = 0\n"
   ]
  },
  {
   "cell_type": "code",
   "execution_count": null,
   "id": "67b27ecd",
   "metadata": {},
   "outputs": [],
   "source": []
  },
  {
   "cell_type": "code",
   "execution_count": 77,
   "id": "f8828426",
   "metadata": {},
   "outputs": [
    {
     "data": {
      "text/plain": [
       "3"
      ]
     },
     "execution_count": 77,
     "metadata": {},
     "output_type": "execute_result"
    }
   ],
   "source": [
    "a+=1\n",
    "a"
   ]
  },
  {
   "cell_type": "code",
   "execution_count": null,
   "id": "bdee9022",
   "metadata": {},
   "outputs": [],
   "source": []
  },
  {
   "cell_type": "code",
   "execution_count": 1,
   "id": "44478527",
   "metadata": {},
   "outputs": [
    {
     "name": "stdout",
     "output_type": "stream",
     "text": [
      "gt_bboxes [[ 793 1134 1001 1718]\n",
      " [ 737    0  898  260]\n",
      " [ 763  484  878  619]\n",
      " [ 734    0 1114  277]\n",
      " [ 853    0 1280  250]\n",
      " [ 820 1566  974 1914]\n",
      " [ 762  951  844 1175]\n",
      " [ 748  197  803  363]]\n",
      "gt_classes [1, 1, 1, 1, 2, 1, 1, 1]\n",
      "pred_boxes [[ 783 1104 1011 1700]\n",
      " [ 853    0 1220  200]\n",
      " [ 734    0 1100  240]\n",
      " [ 753  474  868  609]\n",
      " [ 830 1500 1004 1914]]\n",
      "pred_classes [1, 2, 1, 2, 1]\n",
      "ious\n",
      " [[0.84313051 0.         0.         0.         0.23860974]\n",
      " [0.         0.08469791 0.4243356  0.         0.        ]\n",
      " [0.         0.         0.         0.73221757 0.        ]\n",
      " [0.         0.41277874 0.83450504 0.         0.        ]\n",
      " [0.         0.68758782 0.43810509 0.         0.        ]\n",
      " [0.12221933 0.         0.         0.         0.66359447]\n",
      " [0.02888778 0.         0.         0.         0.        ]\n",
      " [0.         0.         0.02499868 0.         0.        ]]\n",
      "solution 0.8 0.5714285714285714\n"
     ]
    }
   ],
   "source": [
    "import numpy as np\n",
    "\n",
    "from iou import calculate_ious\n",
    "from utils import get_data\n",
    "\n",
    "\n",
    "def precision_recall(ious, gt_classes, pred_classes):\n",
    "    \"\"\"\n",
    "    calculate precision and recall\n",
    "    args:\n",
    "    - ious [array]: NxM array of ious\n",
    "    - gt_classes [array]: 1xN array of ground truth classes\n",
    "    - pred_classes [array]: 1xM array of pred classes\n",
    "    returns:\n",
    "    - precision [float]\n",
    "    - recall [float]\n",
    "    \"\"\"\n",
    "\n",
    "    # IMPLEMENT THIS FUNCTION\n",
    "    tp = 0\n",
    "    fp = 0\n",
    "    for i in range(len(gt_classes)):\n",
    "        for j in range(len(pred_classes)):\n",
    "            if ious[i][j] > 0.5:\n",
    "                if gt_classes[i] == pred_classes[j]:\n",
    "                    tp+=1\n",
    "                else:\n",
    "                    fp+=1    \n",
    "\n",
    "    tp, fp\n",
    "    \n",
    "    fn = np.sum(np.max(ious, axis=1) <= 0.5)\n",
    "    fn\n",
    "    \n",
    "    precision = tp / (tp + fp)\n",
    "    precision    \n",
    "    \n",
    "    recall = tp / (tp + fn)\n",
    "    recall    \n",
    "        \n",
    "    return precision, recall\n",
    "\n",
    "\n",
    "if __name__ == \"__main__\": \n",
    "    ground_truth, predictions = get_data()\n",
    "    \n",
    "    # get bboxes array\n",
    "    filename = 'segment-1231623110026745648_480_000_500_000_with_camera_labels_38.png'\n",
    "    gt_bboxes = [g['boxes'] for g in ground_truth if g['filename'] == filename][0]\n",
    "    gt_bboxes = np.array(gt_bboxes)\n",
    "    gt_classes = [g['classes'] for g in ground_truth if g['filename'] == filename][0]\n",
    "\n",
    "    pred_bboxes = [p['boxes'] for p in predictions if p['filename'] == filename][0]\n",
    "    pred_boxes = np.array(pred_bboxes)\n",
    "    pred_classes = [p['classes'] for p in predictions if p['filename'] == filename][0]\n",
    "\n",
    "    print('gt_bboxes', gt_bboxes)        \n",
    "    print('gt_classes', gt_classes)  \n",
    "    print('pred_boxes', pred_boxes)  \n",
    "    print('pred_classes', pred_classes)\n",
    "    \n",
    "    ious = calculate_ious(gt_bboxes, pred_boxes)\n",
    "    print('ious\\n', ious)    \n",
    "    \n",
    "    precision, recall = precision_recall(ious, gt_classes, pred_classes)\n",
    "    print('solution', precision, recall)"
   ]
  },
  {
   "cell_type": "code",
   "execution_count": null,
   "id": "12044542",
   "metadata": {},
   "outputs": [],
   "source": []
  }
 ],
 "metadata": {
  "kernelspec": {
   "display_name": "Python 3 (ipykernel)",
   "language": "python",
   "name": "python3"
  },
  "language_info": {
   "codemirror_mode": {
    "name": "ipython",
    "version": 3
   },
   "file_extension": ".py",
   "mimetype": "text/x-python",
   "name": "python",
   "nbconvert_exporter": "python",
   "pygments_lexer": "ipython3",
   "version": "3.9.6"
  }
 },
 "nbformat": 4,
 "nbformat_minor": 5
}
