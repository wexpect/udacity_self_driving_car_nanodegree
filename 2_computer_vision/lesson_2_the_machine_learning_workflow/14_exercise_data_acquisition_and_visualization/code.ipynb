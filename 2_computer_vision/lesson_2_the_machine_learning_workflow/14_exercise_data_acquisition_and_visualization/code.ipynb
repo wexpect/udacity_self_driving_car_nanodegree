{
 "cells": [
  {
   "cell_type": "code",
   "execution_count": 1,
   "id": "e01f7b12",
   "metadata": {},
   "outputs": [],
   "source": [
    "import matplotlib.pyplot as plt\n",
    "from matplotlib.patches import Rectangle\n",
    "from PIL import Image"
   ]
  },
  {
   "cell_type": "code",
   "execution_count": 4,
   "id": "620dc3ef",
   "metadata": {},
   "outputs": [
    {
     "data": {
      "text/plain": [
       "(0, 2)"
      ]
     },
     "execution_count": 4,
     "metadata": {},
     "output_type": "execute_result"
    }
   ],
   "source": [
    "2//5, 2%5"
   ]
  },
  {
   "cell_type": "code",
   "execution_count": null,
   "id": "12917be6",
   "metadata": {},
   "outputs": [],
   "source": [
    "color_dict = {\n",
    "    1 : [1, 0, 0],\n",
    "    2 : [0, 1, 0]\n",
    "}\n",
    "\n",
    "\n",
    "max_row = 4\n",
    "max_col = 5\n",
    "\n",
    "f, ax = plt.subplots(max_row, max_col, figsize=(20, 10))\n",
    "\n",
    "for i in range(len(ground_truth)):\n",
    "    row = i // max_col\n",
    "    col = i % max_col  \n",
    "    \n",
    "    img_dict = ground_truth[i]        \n",
    "    print(row, col, i, img_dict)\n",
    "    \n",
    "    filename = img_dict['filename'] \n",
    "    img = Image.open('data/images/' + filename)\n",
    "    \n",
    "    boxes = img_dict['boxes']\n",
    "    classes = img_dict['classes']\n",
    "    \n",
    "    ax[row, col].imshow(img)\n",
    "    \n",
    "    for j in range(len(boxes)):\n",
    "        y1, x1, y2, x2 = boxes[j]\n",
    "        box_class = classes[j]\n",
    "        \n",
    "        color = color_dict[box_class]        \n",
    "        rect = Rectangle((x1, y1), x2 - x1, y2 - y1, edgecolor=color, facecolor='none')\n",
    "        \n",
    "        ax[row, col].add_patch(rect)\n",
    "\n",
    "plt.show()\n",
    "    \n",
    "    "
   ]
  }
 ],
 "metadata": {
  "kernelspec": {
   "display_name": "Python 3 (ipykernel)",
   "language": "python",
   "name": "python3"
  },
  "language_info": {
   "codemirror_mode": {
    "name": "ipython",
    "version": 3
   },
   "file_extension": ".py",
   "mimetype": "text/x-python",
   "name": "python",
   "nbconvert_exporter": "python",
   "pygments_lexer": "ipython3",
   "version": "3.9.6"
  }
 },
 "nbformat": 4,
 "nbformat_minor": 5
}
