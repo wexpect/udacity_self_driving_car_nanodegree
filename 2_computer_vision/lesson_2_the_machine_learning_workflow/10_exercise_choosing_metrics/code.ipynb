{
 "cells": [
  {
   "cell_type": "code",
   "execution_count": 1,
   "id": "3e0491d2",
   "metadata": {},
   "outputs": [],
   "source": [
    "import numpy as np"
   ]
  },
  {
   "cell_type": "code",
   "execution_count": 7,
   "id": "ca60a1b2",
   "metadata": {},
   "outputs": [
    {
     "data": {
      "text/plain": [
       "array([  0,   0, 100, 100])"
      ]
     },
     "execution_count": 7,
     "metadata": {},
     "output_type": "execute_result"
    }
   ],
   "source": [
    "g = np.array([0, 0, 100, 100])\n",
    "g"
   ]
  },
  {
   "cell_type": "code",
   "execution_count": 53,
   "id": "6238f2ed",
   "metadata": {},
   "outputs": [
    {
     "data": {
      "text/plain": [
       "array([110, 110, 200, 200])"
      ]
     },
     "execution_count": 53,
     "metadata": {},
     "output_type": "execute_result"
    }
   ],
   "source": [
    "# p = np.array([90, 90, 200, 210])\n",
    "# p = np.array([0, 0, 100, 100])\n",
    "p = np.array([110, 110, 200, 200])\n",
    "p"
   ]
  },
  {
   "cell_type": "code",
   "execution_count": 54,
   "id": "2d45d8e2",
   "metadata": {},
   "outputs": [
    {
     "data": {
      "text/plain": [
       "200"
      ]
     },
     "execution_count": 54,
     "metadata": {},
     "output_type": "execute_result"
    }
   ],
   "source": [
    "max_x = np.max([g[2], p[2]])\n",
    "max_x"
   ]
  },
  {
   "cell_type": "code",
   "execution_count": 55,
   "id": "dd6dbffb",
   "metadata": {},
   "outputs": [
    {
     "data": {
      "text/plain": [
       "200"
      ]
     },
     "execution_count": 55,
     "metadata": {},
     "output_type": "execute_result"
    }
   ],
   "source": [
    "max_y = np.max([g[3], p[3]])\n",
    "max_y"
   ]
  },
  {
   "cell_type": "code",
   "execution_count": 56,
   "id": "e64cb014",
   "metadata": {},
   "outputs": [
    {
     "data": {
      "text/plain": [
       "(200, 200)"
      ]
     },
     "execution_count": 56,
     "metadata": {},
     "output_type": "execute_result"
    }
   ],
   "source": [
    "mat_g = np.zeros((max_y, max_x))\n",
    "mat_g.shape"
   ]
  },
  {
   "cell_type": "code",
   "execution_count": 57,
   "id": "cd5f1e26",
   "metadata": {},
   "outputs": [
    {
     "data": {
      "text/plain": [
       "array([[1., 1., 1., ..., 0., 0., 0.],\n",
       "       [1., 1., 1., ..., 0., 0., 0.],\n",
       "       [1., 1., 1., ..., 0., 0., 0.],\n",
       "       ...,\n",
       "       [0., 0., 0., ..., 0., 0., 0.],\n",
       "       [0., 0., 0., ..., 0., 0., 0.],\n",
       "       [0., 0., 0., ..., 0., 0., 0.]])"
      ]
     },
     "execution_count": 57,
     "metadata": {},
     "output_type": "execute_result"
    }
   ],
   "source": [
    "mat_g[g[1]:g[3], g[0]:g[2]] = 1\n",
    "mat_g"
   ]
  },
  {
   "cell_type": "code",
   "execution_count": 58,
   "id": "95de15db",
   "metadata": {},
   "outputs": [
    {
     "data": {
      "text/plain": [
       "(200, 200)"
      ]
     },
     "execution_count": 58,
     "metadata": {},
     "output_type": "execute_result"
    }
   ],
   "source": [
    "mat_p = np.zeros((max_y, max_x))\n",
    "mat_p.shape"
   ]
  },
  {
   "cell_type": "code",
   "execution_count": 59,
   "id": "1b108063",
   "metadata": {},
   "outputs": [
    {
     "data": {
      "text/plain": [
       "array([[0., 0., 0., ..., 0., 0., 0.],\n",
       "       [0., 0., 0., ..., 0., 0., 0.],\n",
       "       [0., 0., 0., ..., 0., 0., 0.],\n",
       "       ...,\n",
       "       [0., 0., 0., ..., 1., 1., 1.],\n",
       "       [0., 0., 0., ..., 1., 1., 1.],\n",
       "       [0., 0., 0., ..., 1., 1., 1.]])"
      ]
     },
     "execution_count": 59,
     "metadata": {},
     "output_type": "execute_result"
    }
   ],
   "source": [
    "mat_p[p[1]:p[3], p[0]:p[2]] = 1\n",
    "mat_p"
   ]
  },
  {
   "cell_type": "code",
   "execution_count": 60,
   "id": "851a2362",
   "metadata": {},
   "outputs": [
    {
     "data": {
      "text/plain": [
       "10000"
      ]
     },
     "execution_count": 60,
     "metadata": {},
     "output_type": "execute_result"
    }
   ],
   "source": [
    "count_one_mat_g = np.sum(mat_g == 1)\n",
    "count_one_mat_g"
   ]
  },
  {
   "cell_type": "code",
   "execution_count": 61,
   "id": "c75ff295",
   "metadata": {},
   "outputs": [
    {
     "data": {
      "text/plain": [
       "8100"
      ]
     },
     "execution_count": 61,
     "metadata": {},
     "output_type": "execute_result"
    }
   ],
   "source": [
    "count_one_mat_p = np.sum(mat_p == 1)\n",
    "count_one_mat_p"
   ]
  },
  {
   "cell_type": "code",
   "execution_count": 62,
   "id": "29a99f72",
   "metadata": {},
   "outputs": [
    {
     "data": {
      "text/plain": [
       "0"
      ]
     },
     "execution_count": 62,
     "metadata": {},
     "output_type": "execute_result"
    }
   ],
   "source": [
    "mat_g_intersect_mat_p = np.sum(mat_g + mat_p == 2)\n",
    "mat_g_intersect_mat_p"
   ]
  },
  {
   "cell_type": "code",
   "execution_count": 63,
   "id": "fe62529f",
   "metadata": {},
   "outputs": [
    {
     "data": {
      "text/plain": [
       "18100"
      ]
     },
     "execution_count": 63,
     "metadata": {},
     "output_type": "execute_result"
    }
   ],
   "source": [
    "mat_g_union_mat_p = count_one_mat_g + count_one_mat_p - mat_g_intersect_mat_p\n",
    "mat_g_union_mat_p"
   ]
  },
  {
   "cell_type": "code",
   "execution_count": 64,
   "id": "68c2c9a7",
   "metadata": {},
   "outputs": [
    {
     "data": {
      "text/plain": [
       "0.0"
      ]
     },
     "execution_count": 64,
     "metadata": {},
     "output_type": "execute_result"
    }
   ],
   "source": [
    "iou = mat_g_intersect_mat_p / mat_g_union_mat_p\n",
    "iou"
   ]
  },
  {
   "cell_type": "code",
   "execution_count": 66,
   "id": "9a06d187",
   "metadata": {},
   "outputs": [],
   "source": [
    "gt_classes = np.array([1, 1, 1, 1, 2, 1, 1, 1])"
   ]
  },
  {
   "cell_type": "code",
   "execution_count": 67,
   "id": "790e180d",
   "metadata": {},
   "outputs": [],
   "source": [
    "pred_classes = np.array([1, 2, 1, 2, 1])"
   ]
  },
  {
   "cell_type": "code",
   "execution_count": 69,
   "id": "35d83528",
   "metadata": {},
   "outputs": [],
   "source": [
    "ious = np.array(\n",
    " [[0.84313051, 0.         ,0.       ,  0.         ,0.23860974],\n",
    " [0.         ,0.08469791 ,0.4243356  ,0.         ,0.        ],\n",
    " [0.         ,0.         ,0.         ,0.73221757 ,0.        ],\n",
    " [0.         ,0.41277874 ,0.83450504 ,0.         ,0.        ],\n",
    " [0.         ,0.68758782 ,0.43810509 ,0.         ,0.        ],\n",
    " [0.12221933 ,0.         ,0.         ,0.         ,0.66359447],\n",
    " [0.02888778 ,0.         ,0.         ,0.         ,0.        ],\n",
    " [0.         ,0.         ,0.02499868 ,0.         ,0.        ]])"
   ]
  },
  {
   "cell_type": "code",
   "execution_count": 70,
   "id": "381995cb",
   "metadata": {},
   "outputs": [
    {
     "data": {
      "text/plain": [
       "array([[0.84313051, 0.        , 0.        , 0.        , 0.23860974],\n",
       "       [0.        , 0.08469791, 0.4243356 , 0.        , 0.        ],\n",
       "       [0.        , 0.        , 0.        , 0.73221757, 0.        ],\n",
       "       [0.        , 0.41277874, 0.83450504, 0.        , 0.        ],\n",
       "       [0.        , 0.68758782, 0.43810509, 0.        , 0.        ],\n",
       "       [0.12221933, 0.        , 0.        , 0.        , 0.66359447],\n",
       "       [0.02888778, 0.        , 0.        , 0.        , 0.        ],\n",
       "       [0.        , 0.        , 0.02499868, 0.        , 0.        ]])"
      ]
     },
     "execution_count": 70,
     "metadata": {},
     "output_type": "execute_result"
    }
   ],
   "source": [
    "ious"
   ]
  },
  {
   "cell_type": "code",
   "execution_count": 92,
   "id": "f06e07d2",
   "metadata": {},
   "outputs": [],
   "source": [
    "tp = 0\n",
    "fp = 0"
   ]
  },
  {
   "cell_type": "code",
   "execution_count": 93,
   "id": "5643a7c3",
   "metadata": {},
   "outputs": [
    {
     "data": {
      "text/plain": [
       "(4, 1)"
      ]
     },
     "execution_count": 93,
     "metadata": {},
     "output_type": "execute_result"
    }
   ],
   "source": [
    "for i in range(len(gt_classes)):\n",
    "    for j in range(len(pred_classes)):\n",
    "        if ious[i][j] > 0.5:\n",
    "            if gt_classes[i] == pred_classes[j]:\n",
    "                tp+=1\n",
    "            else:\n",
    "                fp+=1    \n",
    "                \n",
    "tp, fp"
   ]
  },
  {
   "cell_type": "code",
   "execution_count": 94,
   "id": "87a60f73",
   "metadata": {},
   "outputs": [
    {
     "data": {
      "text/plain": [
       "3"
      ]
     },
     "execution_count": 94,
     "metadata": {},
     "output_type": "execute_result"
    }
   ],
   "source": [
    "fn = np.sum(np.max(ious, axis=1) <= 0.5)\n",
    "fn"
   ]
  },
  {
   "cell_type": "code",
   "execution_count": 95,
   "id": "f7c2d7ce",
   "metadata": {},
   "outputs": [
    {
     "data": {
      "text/plain": [
       "0.8"
      ]
     },
     "execution_count": 95,
     "metadata": {},
     "output_type": "execute_result"
    }
   ],
   "source": [
    "precision = tp / (tp + fp)\n",
    "precision"
   ]
  },
  {
   "cell_type": "code",
   "execution_count": 96,
   "id": "9c9996a3",
   "metadata": {},
   "outputs": [
    {
     "data": {
      "text/plain": [
       "0.5714285714285714"
      ]
     },
     "execution_count": 96,
     "metadata": {},
     "output_type": "execute_result"
    }
   ],
   "source": [
    "recall = tp / (tp + fn)\n",
    "recall"
   ]
  },
  {
   "cell_type": "code",
   "execution_count": null,
   "id": "ce379ff2",
   "metadata": {},
   "outputs": [],
   "source": []
  },
  {
   "cell_type": "code",
   "execution_count": 75,
   "id": "57e696b4",
   "metadata": {},
   "outputs": [
    {
     "data": {
      "text/plain": [
       "1"
      ]
     },
     "execution_count": 75,
     "metadata": {},
     "output_type": "execute_result"
    }
   ],
   "source": [
    "a = 0\n"
   ]
  },
  {
   "cell_type": "code",
   "execution_count": null,
   "id": "67b27ecd",
   "metadata": {},
   "outputs": [],
   "source": []
  },
  {
   "cell_type": "code",
   "execution_count": 77,
   "id": "f8828426",
   "metadata": {},
   "outputs": [
    {
     "data": {
      "text/plain": [
       "3"
      ]
     },
     "execution_count": 77,
     "metadata": {},
     "output_type": "execute_result"
    }
   ],
   "source": [
    "a+=1\n",
    "a"
   ]
  },
  {
   "cell_type": "code",
   "execution_count": null,
   "id": "bdee9022",
   "metadata": {},
   "outputs": [],
   "source": []
  },
  {
   "cell_type": "code",
   "execution_count": null,
   "id": "44478527",
   "metadata": {},
   "outputs": [],
   "source": []
  }
 ],
 "metadata": {
  "kernelspec": {
   "display_name": "Python 3 (ipykernel)",
   "language": "python",
   "name": "python3"
  },
  "language_info": {
   "codemirror_mode": {
    "name": "ipython",
    "version": 3
   },
   "file_extension": ".py",
   "mimetype": "text/x-python",
   "name": "python",
   "nbconvert_exporter": "python",
   "pygments_lexer": "ipython3",
   "version": "3.9.6"
  }
 },
 "nbformat": 4,
 "nbformat_minor": 5
}
