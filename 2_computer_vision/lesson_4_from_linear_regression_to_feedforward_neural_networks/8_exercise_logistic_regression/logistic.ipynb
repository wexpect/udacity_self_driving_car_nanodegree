{
 "cells": [
  {
   "cell_type": "markdown",
   "id": "68ccaed3",
   "metadata": {},
   "source": [
    "# Exercise 1 - Logistic regression\n",
    "\n",
    "## Objective\n",
    "\n",
    "In this exercise, you have to implement 4 different functions:\n",
    "* `softmax`: compute the softmax of a vector. This function takes as input a tensor and outputs a discrete probability distribution. \n",
    "\n",
    "* `cross_entropy`: calculate the cross entropy loss given a vector of predictions (after softmax) and a vector of ground truth (one-hot vector).\n",
    "\n",
    "* `model`: takes a batch of images (stack of images along the first dimensions) and feeds it through the logistic regression model\n",
    "\n",
    "* `accuracy`: given a vector of predictions and a vector of ground truth, calculates the accuracy.\n",
    "\n",
    "As always, you can run `python logistic.py` to check your implementation.\n",
    "\n",
    "## Tips\n",
    "\n",
    "You can leverage the `tf.boolean_mask` function to calculate the cross entropy. Keep in mind\n",
    "that most elements of the ground truth vector are zeros."
   ]
  },
  {
   "cell_type": "code",
   "execution_count": 3,
   "id": "3510b41b",
   "metadata": {},
   "outputs": [],
   "source": [
    "import tensorflow as tf"
   ]
  },
  {
   "cell_type": "code",
   "execution_count": 7,
   "id": "aacee631",
   "metadata": {},
   "outputs": [
    {
     "data": {
      "text/plain": [
       "<module 'tensorflow._api.v2.version' from '/Users/ruiwang/0_work/0_projects/env/lib/python3.9/site-packages/tensorflow/_api/v2/version/__init__.py'>"
      ]
     },
     "execution_count": 7,
     "metadata": {},
     "output_type": "execute_result"
    }
   ],
   "source": [
    "tf.version"
   ]
  },
  {
   "cell_type": "code",
   "execution_count": 14,
   "id": "597739f9",
   "metadata": {},
   "outputs": [
    {
     "data": {
      "text/plain": [
       "<tf.Tensor: shape=(3,), dtype=float32, numpy=array([1., 2., 3.], dtype=float32)>"
      ]
     },
     "execution_count": 14,
     "metadata": {},
     "output_type": "execute_result"
    }
   ],
   "source": [
    "logits = tf.constant([1.0, 2.0, 3.0])\n",
    "logits"
   ]
  },
  {
   "cell_type": "code",
   "execution_count": 18,
   "id": "a7ac0a00",
   "metadata": {},
   "outputs": [
    {
     "data": {
      "text/plain": [
       "<tf.Tensor: shape=(3,), dtype=float32, numpy=array([ 2.7182817,  7.389056 , 20.085537 ], dtype=float32)>"
      ]
     },
     "execution_count": 18,
     "metadata": {},
     "output_type": "execute_result"
    }
   ],
   "source": [
    "logits_exp = tf.math.exp(logits)\n",
    "logits_exp"
   ]
  },
  {
   "cell_type": "code",
   "execution_count": 19,
   "id": "c49c03c8",
   "metadata": {},
   "outputs": [
    {
     "data": {
      "text/plain": [
       "<tf.Tensor: shape=(), dtype=float32, numpy=30.192875>"
      ]
     },
     "execution_count": 19,
     "metadata": {},
     "output_type": "execute_result"
    }
   ],
   "source": [
    "logits_sum = tf.math.reduce_sum(logits_exp)\n",
    "logits_sum"
   ]
  },
  {
   "cell_type": "code",
   "execution_count": 20,
   "id": "2bb629c2",
   "metadata": {},
   "outputs": [
    {
     "data": {
      "text/plain": [
       "<tf.Tensor: shape=(3,), dtype=float32, numpy=array([0.09003057, 0.24472848, 0.66524094], dtype=float32)>"
      ]
     },
     "execution_count": 20,
     "metadata": {},
     "output_type": "execute_result"
    }
   ],
   "source": [
    "logits_exp / logits_sum"
   ]
  },
  {
   "cell_type": "code",
   "execution_count": 23,
   "id": "145206d2",
   "metadata": {},
   "outputs": [
    {
     "data": {
      "text/plain": [
       "<tf.Tensor: shape=(1,), dtype=float32, numpy=array([30.192875], dtype=float32)>"
      ]
     },
     "execution_count": 23,
     "metadata": {},
     "output_type": "execute_result"
    }
   ],
   "source": [
    "logits_sum = tf.math.reduce_sum(logits_exp, keepdims=True)\n",
    "logits_sum"
   ]
  },
  {
   "cell_type": "code",
   "execution_count": 28,
   "id": "5a0c0212",
   "metadata": {},
   "outputs": [
    {
     "data": {
      "text/plain": [
       "<tf.Tensor: shape=(3,), dtype=float32, numpy=array([0.09003057, 0.24472848, 0.66524094], dtype=float32)>"
      ]
     },
     "execution_count": 28,
     "metadata": {},
     "output_type": "execute_result"
    }
   ],
   "source": [
    "soft_logits = logits_exp / logits_sum\n",
    "soft_logits"
   ]
  },
  {
   "cell_type": "code",
   "execution_count": 41,
   "id": "ad2e38e2",
   "metadata": {},
   "outputs": [
    {
     "data": {
      "text/plain": [
       "<tf.Tensor: shape=(2, 2), dtype=float32, numpy=\n",
       "array([[0.1, 0.9],\n",
       "       [0.8, 0.2]], dtype=float32)>"
      ]
     },
     "execution_count": 41,
     "metadata": {},
     "output_type": "execute_result"
    }
   ],
   "source": [
    "scaled_logits = tf.constant([[0.1, 0.9], [0.8, 0.2]])\n",
    "scaled_logits"
   ]
  },
  {
   "cell_type": "code",
   "execution_count": 52,
   "id": "5dc43f38",
   "metadata": {},
   "outputs": [
    {
     "data": {
      "text/plain": [
       "<tf.Tensor: shape=(2, 2), dtype=int32, numpy=\n",
       "array([[0, 1],\n",
       "       [1, 0]], dtype=int32)>"
      ]
     },
     "execution_count": 52,
     "metadata": {},
     "output_type": "execute_result"
    }
   ],
   "source": [
    "one_hot = tf.constant([[0, 1], [1, 0]])\n",
    "# one_hot = tf.constant([[0, 1], [1, 0]], dtype=tf.float32)\n",
    "one_hot"
   ]
  },
  {
   "cell_type": "code",
   "execution_count": 35,
   "id": "fb006932",
   "metadata": {},
   "outputs": [
    {
     "data": {
      "text/plain": [
       "<tf.Tensor: shape=(2, 2), dtype=float32, numpy=\n",
       "array([[-2.3025851 , -0.10536055],\n",
       "       [-0.22314353, -1.609438  ]], dtype=float32)>"
      ]
     },
     "execution_count": 35,
     "metadata": {},
     "output_type": "execute_result"
    }
   ],
   "source": [
    "tf.math.log(scaled_logits)"
   ]
  },
  {
   "cell_type": "code",
   "execution_count": 51,
   "id": "7316363e",
   "metadata": {},
   "outputs": [
    {
     "data": {
      "text/plain": [
       "<tf.Tensor: shape=(2, 2), dtype=float32, numpy=\n",
       "array([[-0.        , -0.10536055],\n",
       "       [-0.22314353, -0.        ]], dtype=float32)>"
      ]
     },
     "execution_count": 51,
     "metadata": {},
     "output_type": "execute_result"
    }
   ],
   "source": [
    "one_hot * tf.math.log(scaled_logits)"
   ]
  },
  {
   "cell_type": "code",
   "execution_count": 54,
   "id": "a7db8aff",
   "metadata": {},
   "outputs": [
    {
     "data": {
      "text/plain": [
       "<tf.Tensor: shape=(2,), dtype=float32, numpy=array([0.9, 0.8], dtype=float32)>"
      ]
     },
     "execution_count": 54,
     "metadata": {},
     "output_type": "execute_result"
    }
   ],
   "source": [
    "masked_prob = tf.boolean_mask(scaled_logits, one_hot)\n",
    "masked_prob"
   ]
  },
  {
   "cell_type": "code",
   "execution_count": 55,
   "id": "273ae225",
   "metadata": {},
   "outputs": [
    {
     "data": {
      "text/plain": [
       "<tf.Tensor: shape=(2,), dtype=float32, numpy=array([-0.10536055, -0.22314353], dtype=float32)>"
      ]
     },
     "execution_count": 55,
     "metadata": {},
     "output_type": "execute_result"
    }
   ],
   "source": [
    "tf.math.log(masked_prob)"
   ]
  },
  {
   "cell_type": "code",
   "execution_count": 59,
   "id": "a7407204",
   "metadata": {},
   "outputs": [
    {
     "data": {
      "text/plain": [
       "<tf.Tensor: shape=(1,), dtype=float32, numpy=array([0.3285041], dtype=float32)>"
      ]
     },
     "execution_count": 59,
     "metadata": {},
     "output_type": "execute_result"
    }
   ],
   "source": [
    "-1 * tf.math.reduce_sum(tf.math.log(masked_prob), keepdims=True)"
   ]
  },
  {
   "cell_type": "code",
   "execution_count": 62,
   "id": "fee3ea8f",
   "metadata": {},
   "outputs": [
    {
     "data": {
      "text/plain": [
       "<tf.Tensor: shape=(5, 5, 3), dtype=float32, numpy=\n",
       "array([[[0.5335065 , 0.7880422 , 0.78750813],\n",
       "        [0.171098  , 0.86527383, 0.1821984 ],\n",
       "        [0.12809324, 0.71805584, 0.66652536],\n",
       "        [0.00696361, 0.7039901 , 0.76400745],\n",
       "        [0.76803076, 0.9383755 , 0.9983665 ]],\n",
       "\n",
       "       [[0.55184126, 0.24155247, 0.8808218 ],\n",
       "        [0.7940211 , 0.06668591, 0.5435699 ],\n",
       "        [0.6001693 , 0.953964  , 0.903463  ],\n",
       "        [0.4600737 , 0.2969998 , 0.0644629 ],\n",
       "        [0.12009048, 0.19613028, 0.9363071 ]],\n",
       "\n",
       "       [[0.3580625 , 0.4970411 , 0.7616929 ],\n",
       "        [0.6750002 , 0.94700336, 0.05755413],\n",
       "        [0.76035655, 0.20780087, 0.05950677],\n",
       "        [0.62907803, 0.0131346 , 0.3874601 ],\n",
       "        [0.36050296, 0.0964973 , 0.85440767]],\n",
       "\n",
       "       [[0.9351901 , 0.99108076, 0.8628657 ],\n",
       "        [0.32033944, 0.43172634, 0.5711131 ],\n",
       "        [0.02393043, 0.5481515 , 0.53499794],\n",
       "        [0.17507732, 0.11159575, 0.21764553],\n",
       "        [0.8927821 , 0.8420936 , 0.22883523]],\n",
       "\n",
       "       [[0.84226024, 0.4948367 , 0.6161331 ],\n",
       "        [0.6346066 , 0.12583041, 0.5679556 ],\n",
       "        [0.44134998, 0.55585575, 0.46636605],\n",
       "        [0.80558324, 0.61680114, 0.8193376 ],\n",
       "        [0.12630272, 0.14069653, 0.607373  ]]], dtype=float32)>"
      ]
     },
     "execution_count": 62,
     "metadata": {},
     "output_type": "execute_result"
    }
   ],
   "source": [
    "X = tf.random.uniform([5, 5, 3])\n",
    "X"
   ]
  },
  {
   "cell_type": "code",
   "execution_count": 93,
   "id": "e680927b",
   "metadata": {},
   "outputs": [
    {
     "data": {
      "text/plain": [
       "<tf.Variable 'Variable:0' shape=(75, 4) dtype=float32, numpy=\n",
       "array([[-0.08957626, -0.84186465,  0.19052394,  0.5263986 ],\n",
       "       [ 1.6550697 ,  0.5275133 , -0.10698907,  1.8569247 ],\n",
       "       [-1.0891522 , -0.24796969, -0.75228065,  1.2265072 ],\n",
       "       [ 0.32929093, -0.00876161,  0.52925104,  0.687278  ],\n",
       "       [ 2.4256089 , -0.06495755,  0.11742056,  0.75189906],\n",
       "       [-1.508461  , -1.4522682 ,  0.6368607 ,  1.7530802 ],\n",
       "       [-0.02698978,  0.8169654 ,  1.4449905 , -1.8721476 ],\n",
       "       [ 0.6815486 ,  0.22876506, -0.8755212 , -1.7186878 ],\n",
       "       [-0.02988823, -1.8517512 ,  0.87642473, -2.5927796 ],\n",
       "       [ 1.2027833 , -0.2753757 ,  0.35653493, -0.5339298 ],\n",
       "       [-0.9168538 , -0.89809966,  1.3880072 ,  0.0411942 ],\n",
       "       [-0.49547035,  1.1303303 , -0.43632892,  0.13824527],\n",
       "       [-1.8153014 ,  1.4603785 , -0.6538977 , -0.2654129 ],\n",
       "       [-0.37866098, -0.7783946 ,  0.6107067 ,  0.8847017 ],\n",
       "       [-0.338855  ,  0.81892306,  0.44336495, -0.4139337 ],\n",
       "       [ 0.72317064, -1.2388428 ,  0.06400251, -1.0303566 ],\n",
       "       [-0.8479481 ,  0.48632178,  0.69928116, -1.4795554 ],\n",
       "       [-0.6665701 ,  0.93541527, -0.4585702 ,  0.61257815],\n",
       "       [ 1.9257731 , -0.34405035, -0.06199563,  0.4179276 ],\n",
       "       [-1.6704744 ,  0.9078799 , -2.6618855 ,  0.77405167],\n",
       "       [-0.5313106 , -0.7377812 , -0.994375  , -1.3671336 ],\n",
       "       [ 1.5287563 , -0.5514891 , -1.064056  ,  0.20135103],\n",
       "       [ 0.66474915,  0.7389729 ,  2.1177683 , -0.5726424 ],\n",
       "       [-0.34715068, -2.7799263 ,  0.51012   ,  0.31176203],\n",
       "       [-0.2670166 ,  1.2585567 , -0.8714022 ,  0.29655054],\n",
       "       [-0.6113796 ,  0.9144881 ,  0.8058469 ,  0.7356992 ],\n",
       "       [-0.77730036, -2.6419659 ,  1.6176441 , -1.7393953 ],\n",
       "       [ 1.0980251 , -0.87764496,  1.1033908 ,  1.9474307 ],\n",
       "       [-0.82068634, -0.25084117, -1.2749677 , -0.04717668],\n",
       "       [ 1.204545  , -0.50935495,  0.6251674 , -0.6137954 ],\n",
       "       [ 0.07023516, -1.5065868 ,  0.41130683, -0.27171132],\n",
       "       [-0.8204038 , -0.6480457 ,  1.0071223 ,  1.1683005 ],\n",
       "       [ 0.45013902, -0.70907027, -1.3271409 ,  1.4625804 ],\n",
       "       [ 1.8352553 , -0.3805637 , -1.3943876 ,  1.121879  ],\n",
       "       [-1.8975456 ,  0.06340627,  0.43233114,  0.5949457 ],\n",
       "       [-0.9048763 ,  0.890191  ,  0.04485003, -1.0143174 ],\n",
       "       [ 1.202141  , -0.18460798, -0.14329255, -0.6766309 ],\n",
       "       [ 2.3637664 ,  0.26521283,  1.066134  , -0.6751142 ],\n",
       "       [ 0.59359664,  0.02070108, -0.18359376,  0.76365966],\n",
       "       [ 0.75220436,  0.31835076,  0.17925483, -1.1775689 ],\n",
       "       [-0.36579728, -0.66147244, -0.677602  ,  0.7753106 ],\n",
       "       [ 0.05689249,  0.492914  , -2.0285764 ,  0.8929432 ],\n",
       "       [ 0.03061737,  1.0277354 , -0.96937525, -1.6660961 ],\n",
       "       [ 0.9623856 , -0.1266398 , -1.0475994 , -0.38024417],\n",
       "       [-1.219942  ,  0.33743724, -1.3874325 ,  0.66162986],\n",
       "       [-0.11665564,  1.6097066 ,  1.2444663 ,  1.3774837 ],\n",
       "       [-0.49860844, -0.3287769 , -0.5186364 ,  0.1687157 ],\n",
       "       [ 0.97400063, -0.8510849 ,  0.5421418 ,  1.5649837 ],\n",
       "       [ 0.02786201, -2.1632001 , -1.4648907 ,  0.7047052 ],\n",
       "       [ 0.4244819 , -0.39000857, -1.2817333 ,  1.3887613 ],\n",
       "       [ 0.9099446 , -1.0195351 ,  0.1086794 ,  1.6563845 ],\n",
       "       [-0.46281523,  2.6662762 ,  0.2736858 , -1.8776937 ],\n",
       "       [-1.8081988 ,  0.36515486, -0.3979438 , -0.699878  ],\n",
       "       [-1.2210886 , -0.24174106,  1.9603554 , -1.2732996 ],\n",
       "       [ 0.39107195,  0.5522707 ,  0.57714874,  0.85168856],\n",
       "       [-0.14728752, -1.4198409 ,  0.4388269 ,  0.04451471],\n",
       "       [-0.3400743 ,  0.31814432, -0.06884416, -1.9217607 ],\n",
       "       [ 1.6223595 ,  1.2092525 ,  1.4179463 , -0.19740976],\n",
       "       [-0.48048922,  1.5714189 ,  0.67234313, -0.2511867 ],\n",
       "       [-0.09968984, -0.0524607 , -0.7213927 , -0.03395624],\n",
       "       [-0.01416102,  0.17677304, -1.0952566 ,  1.6963733 ],\n",
       "       [-1.4791548 , -1.1698717 , -0.7239909 ,  0.04824195],\n",
       "       [-0.92823845,  0.09571476, -0.02393379,  1.732191  ],\n",
       "       [ 0.27352998, -0.84597915, -0.69236743,  0.1676044 ],\n",
       "       [-0.01892791, -0.25037387,  1.4259094 ,  1.2131826 ],\n",
       "       [-0.4168203 , -1.4681451 , -0.12159096,  1.374514  ],\n",
       "       [-0.32346854,  0.01644259,  0.13283888, -1.6510893 ],\n",
       "       [ 0.6418077 , -0.8042754 , -1.2724301 ,  0.01996832],\n",
       "       [ 0.75964934,  0.45892245,  0.71222115,  0.6900429 ],\n",
       "       [-2.2227683 ,  0.2548799 ,  0.41748562, -0.39006317],\n",
       "       [-0.99723846, -0.5698207 ,  0.06477237, -0.26633132],\n",
       "       [-0.7054824 ,  0.21971111, -0.42974922,  1.0560646 ],\n",
       "       [-0.45616174,  0.7637672 ,  0.33877888, -0.72788996],\n",
       "       [ 2.1500225 , -1.3311412 ,  0.39878884,  0.08885128],\n",
       "       [ 1.2137347 ,  0.12005275, -0.05950788,  0.3385312 ]],\n",
       "      dtype=float32)>"
      ]
     },
     "execution_count": 93,
     "metadata": {},
     "output_type": "execute_result"
    }
   ],
   "source": [
    "# W = tf.random.normal([5*5*3, 4])\n",
    "W = tf.Variable(tf.random.normal([5*5*3, 4]))\n",
    "W"
   ]
  },
  {
   "cell_type": "code",
   "execution_count": 94,
   "id": "fc9e612f",
   "metadata": {},
   "outputs": [
    {
     "data": {
      "text/plain": [
       "<tf.Variable 'Variable:0' shape=(4,) dtype=float32, numpy=array([ 0.87693435,  0.46967152, -1.519383  , -0.45698765], dtype=float32)>"
      ]
     },
     "execution_count": 94,
     "metadata": {},
     "output_type": "execute_result"
    }
   ],
   "source": [
    "# b = tf.random.normal([1, 4])\n",
    "b = tf.Variable(tf.random.normal([4]))\n",
    "b"
   ]
  },
  {
   "cell_type": "code",
   "execution_count": 95,
   "id": "9bc5f63b",
   "metadata": {},
   "outputs": [
    {
     "data": {
      "text/plain": [
       "(TensorShape([5, 5, 3]), TensorShape([75, 4]), 75)"
      ]
     },
     "execution_count": 95,
     "metadata": {},
     "output_type": "execute_result"
    }
   ],
   "source": [
    "X.shape, W.shape, W.shape[0]"
   ]
  },
  {
   "cell_type": "code",
   "execution_count": 96,
   "id": "23b63eee",
   "metadata": {},
   "outputs": [
    {
     "data": {
      "text/plain": [
       "<tf.Tensor: shape=(1, 75), dtype=float32, numpy=\n",
       "array([[0.5335065 , 0.7880422 , 0.78750813, 0.171098  , 0.86527383,\n",
       "        0.1821984 , 0.12809324, 0.71805584, 0.66652536, 0.00696361,\n",
       "        0.7039901 , 0.76400745, 0.76803076, 0.9383755 , 0.9983665 ,\n",
       "        0.55184126, 0.24155247, 0.8808218 , 0.7940211 , 0.06668591,\n",
       "        0.5435699 , 0.6001693 , 0.953964  , 0.903463  , 0.4600737 ,\n",
       "        0.2969998 , 0.0644629 , 0.12009048, 0.19613028, 0.9363071 ,\n",
       "        0.3580625 , 0.4970411 , 0.7616929 , 0.6750002 , 0.94700336,\n",
       "        0.05755413, 0.76035655, 0.20780087, 0.05950677, 0.62907803,\n",
       "        0.0131346 , 0.3874601 , 0.36050296, 0.0964973 , 0.85440767,\n",
       "        0.9351901 , 0.99108076, 0.8628657 , 0.32033944, 0.43172634,\n",
       "        0.5711131 , 0.02393043, 0.5481515 , 0.53499794, 0.17507732,\n",
       "        0.11159575, 0.21764553, 0.8927821 , 0.8420936 , 0.22883523,\n",
       "        0.84226024, 0.4948367 , 0.6161331 , 0.6346066 , 0.12583041,\n",
       "        0.5679556 , 0.44134998, 0.55585575, 0.46636605, 0.80558324,\n",
       "        0.61680114, 0.8193376 , 0.12630272, 0.14069653, 0.607373  ]],\n",
       "      dtype=float32)>"
      ]
     },
     "execution_count": 96,
     "metadata": {},
     "output_type": "execute_result"
    }
   ],
   "source": [
    "tf.reshape(X, [-1, W.shape[0]])"
   ]
  },
  {
   "cell_type": "code",
   "execution_count": 97,
   "id": "17d13036",
   "metadata": {},
   "outputs": [
    {
     "data": {
      "text/plain": [
       "<tf.Tensor: shape=(1, 4), dtype=float32, numpy=\n",
       "array([[ 0.1802184 , -3.5734706 ,  0.15305923,  8.220545  ]],\n",
       "      dtype=float32)>"
      ]
     },
     "execution_count": 97,
     "metadata": {},
     "output_type": "execute_result"
    }
   ],
   "source": [
    "tf.matmul(tf.reshape(X, [-1, W.shape[0]]), W)"
   ]
  },
  {
   "cell_type": "code",
   "execution_count": 98,
   "id": "7106311f",
   "metadata": {},
   "outputs": [
    {
     "data": {
      "text/plain": [
       "<tf.Tensor: shape=(1, 4), dtype=float32, numpy=array([[ 1.0571527, -3.103799 , -1.3663237,  7.763557 ]], dtype=float32)>"
      ]
     },
     "execution_count": 98,
     "metadata": {},
     "output_type": "execute_result"
    }
   ],
   "source": [
    "logits = tf.matmul(tf.reshape(X, [-1,  W.shape[0]]), W) + b\n",
    "logits "
   ]
  },
  {
   "cell_type": "code",
   "execution_count": 99,
   "id": "c5312bd5",
   "metadata": {},
   "outputs": [
    {
     "data": {
      "text/plain": [
       "<tf.Tensor: shape=(1, 4), dtype=float32, numpy=\n",
       "array([[1.2214046e-03, 1.9045006e-05, 1.0823235e-04, 9.9865139e-01]],\n",
       "      dtype=float32)>"
      ]
     },
     "execution_count": 99,
     "metadata": {},
     "output_type": "execute_result"
    }
   ],
   "source": [
    "softmax(logits)"
   ]
  },
  {
   "cell_type": "code",
   "execution_count": 100,
   "id": "86ba773f",
   "metadata": {},
   "outputs": [
    {
     "data": {
      "text/plain": [
       "<tf.Tensor: shape=(2, 3), dtype=float32, numpy=\n",
       "array([[0.1, 0.2, 0.7],\n",
       "       [0.8, 0.1, 0.1]], dtype=float32)>"
      ]
     },
     "execution_count": 100,
     "metadata": {},
     "output_type": "execute_result"
    }
   ],
   "source": [
    "y_hat = tf.constant([[0.1, 0.2, 0.7], [0.8, 0.1, 0.1]])\n",
    "y_hat"
   ]
  },
  {
   "cell_type": "code",
   "execution_count": 122,
   "id": "38925a3f",
   "metadata": {},
   "outputs": [
    {
     "data": {
      "text/plain": [
       "<tf.Tensor: shape=(2,), dtype=int32, numpy=array([2, 1], dtype=int32)>"
      ]
     },
     "execution_count": 122,
     "metadata": {},
     "output_type": "execute_result"
    }
   ],
   "source": [
    "Y = tf.constant([2, 1])\n",
    "Y"
   ]
  },
  {
   "cell_type": "code",
   "execution_count": 123,
   "id": "ae2e6591",
   "metadata": {},
   "outputs": [
    {
     "data": {
      "text/plain": [
       "<tf.Tensor: shape=(2,), dtype=int32, numpy=array([2, 0], dtype=int32)>"
      ]
     },
     "execution_count": 123,
     "metadata": {},
     "output_type": "execute_result"
    }
   ],
   "source": [
    "pred_class = tf.cast(tf.argmax(y_hat, axis=1), Y.dtype)\n",
    "pred_class"
   ]
  },
  {
   "cell_type": "code",
   "execution_count": 124,
   "id": "6debd0d3",
   "metadata": {},
   "outputs": [
    {
     "data": {
      "text/plain": [
       "<tf.Tensor: shape=(2,), dtype=int32, numpy=array([1, 0], dtype=int32)>"
      ]
     },
     "execution_count": 124,
     "metadata": {},
     "output_type": "execute_result"
    }
   ],
   "source": [
    "compare_result = tf.cast(pred_class == Y, tf.int32)\n",
    "compare_result"
   ]
  },
  {
   "cell_type": "code",
   "execution_count": 126,
   "id": "d8a6857f",
   "metadata": {},
   "outputs": [
    {
     "data": {
      "text/plain": [
       "<tf.Tensor: shape=(), dtype=float64, numpy=0.5>"
      ]
     },
     "execution_count": 126,
     "metadata": {},
     "output_type": "execute_result"
    }
   ],
   "source": [
    "tf.math.reduce_sum(compare_result) / Y.shape[0]"
   ]
  },
  {
   "cell_type": "code",
   "execution_count": null,
   "id": "abab59c6",
   "metadata": {},
   "outputs": [],
   "source": []
  },
  {
   "cell_type": "code",
   "execution_count": 127,
   "id": "0b0832dd",
   "metadata": {},
   "outputs": [
    {
     "name": "stdout",
     "output_type": "stream",
     "text": [
      "Softmax implementation is correct!\n",
      "CE implementation is correct!\n",
      "Model implementation is correct!\n",
      "Accuracy implementation is correct!\n"
     ]
    }
   ],
   "source": [
    "import tensorflow as tf\n",
    "\n",
    "from utils import check_softmax, check_acc, check_model, check_ce\n",
    "\n",
    "def softmax(logits):\n",
    "    \"\"\"\n",
    "    softmax implementation\n",
    "    args:\n",
    "    - logits [tensor]: 1xN logits tensor\n",
    "    returns:\n",
    "    - soft_logits [tensor]: softmax of logits\n",
    "    \"\"\"\n",
    "    # IMPLEMENT THIS FUNCTION\n",
    "    logits_exp = tf.math.exp(logits)\n",
    "    logits_sum = tf.math.reduce_sum(logits_exp, keepdims=True)\n",
    "    soft_logits = logits_exp / logits_sum\n",
    "    return soft_logits\n",
    "\n",
    "def cross_entropy(scaled_logits, one_hot):\n",
    "    \"\"\"\n",
    "    Cross entropy loss implementation\n",
    "    args:\n",
    "    - scaled_logits [tensor]: NxC tensor where N batch size / C number of classes\n",
    "    - one_hot [tensor]: NxC one hot tensor\n",
    "    returns:\n",
    "    - loss [tensor]: cross entropy \n",
    "    \"\"\"\n",
    "    # IMPLEMENT THIS FUNCTION\n",
    "    masked_prob = tf.boolean_mask(scaled_logits, one_hot)\n",
    "    cross_entropy_val = -1 * tf.math.reduce_sum(tf.math.log(masked_prob), keepdims=True)\n",
    "    return cross_entropy_val\n",
    "\n",
    "def model(X, W, b):\n",
    "    \"\"\"\n",
    "    logistic regression model\n",
    "    args:\n",
    "    - X [tensor]: input HxWx3\n",
    "    - W [tensor]: weights\n",
    "    - b [tensor]: bias\n",
    "    returns:\n",
    "    - output [tensor]\n",
    "    \"\"\"\n",
    "    # IMPLEMENT THIS FUNCTION\n",
    "    logits = tf.matmul(tf.reshape(X, [-1,  W.shape[0]]), W) + b\n",
    "    output_probs = softmax(logits)\n",
    "    return output_probs\n",
    "\n",
    "def accuracy(y_hat, Y):\n",
    "    \"\"\"\n",
    "    calculate accuracy\n",
    "    args:\n",
    "    - y_hat [tensor]: NxC tensor of models predictions\n",
    "    - y [tensor]: N tensor of ground truth classes\n",
    "    returns:\n",
    "    - acc [tensor]: accuracy\n",
    "    \"\"\"\n",
    "    # IMPLEMENT THIS FUNCTION\n",
    "    pred_class = tf.cast(tf.argmax(y_hat, axis=1), Y.dtype)\n",
    "    compare_result = tf.cast(pred_class == Y, tf.int32)\n",
    "    acc = tf.math.reduce_sum(compare_result) / Y.shape[0]\n",
    "    return acc\n",
    "\n",
    "if __name__ == '__main__':\n",
    "    # checking the softmax implementation\n",
    "    check_softmax(softmax)\n",
    "\n",
    "    # checking the NLL implementation\n",
    "    check_ce(cross_entropy)\n",
    "\n",
    "#     # check the model implementation\n",
    "    check_model(model)\n",
    "\n",
    "#     # check the accuracy implementation\n",
    "    check_acc(accuracy)"
   ]
  },
  {
   "cell_type": "code",
   "execution_count": null,
   "id": "954c1f34",
   "metadata": {},
   "outputs": [],
   "source": []
  }
 ],
 "metadata": {
  "kernelspec": {
   "display_name": "Python 3 (ipykernel)",
   "language": "python",
   "name": "python3"
  },
  "language_info": {
   "codemirror_mode": {
    "name": "ipython",
    "version": 3
   },
   "file_extension": ".py",
   "mimetype": "text/x-python",
   "name": "python",
   "nbconvert_exporter": "python",
   "pygments_lexer": "ipython3",
   "version": "3.9.6"
  }
 },
 "nbformat": 4,
 "nbformat_minor": 5
}
