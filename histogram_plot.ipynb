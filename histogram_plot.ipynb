{
 "cells": [
  {
   "cell_type": "code",
   "execution_count": 1,
   "id": "2ccbc6de",
   "metadata": {},
   "outputs": [],
   "source": [
    "import matplotlib.pyplot as plt\n",
    "import numpy as np"
   ]
  },
  {
   "cell_type": "code",
   "execution_count": 173,
   "id": "7e0ad7dc",
   "metadata": {},
   "outputs": [],
   "source": [
    "point_count = 1000"
   ]
  },
  {
   "cell_type": "code",
   "execution_count": 174,
   "id": "c2ef3627",
   "metadata": {},
   "outputs": [
    {
     "data": {
      "text/plain": [
       "array([ 2.81130384e-02, -6.41793065e-02,  3.60337428e-02,  4.03470458e-02,\n",
       "        9.24124721e-03, -1.39266874e-01, -7.91032978e-02, -3.96985053e-02,\n",
       "       -1.09033582e-01,  1.73635635e-02, -1.65838728e-01, -5.58375996e-02,\n",
       "        7.50295209e-02, -4.43920926e-02,  2.01422582e-02,  3.31758106e-02,\n",
       "       -4.99764988e-02, -3.66761101e-02,  4.51414181e-02, -1.06590997e-01,\n",
       "        6.16583463e-02, -7.85319088e-02, -2.20300815e-03,  1.97945514e-02,\n",
       "        2.13260260e-01, -1.65492757e-01,  3.45820379e-02, -9.68808997e-02,\n",
       "        1.68569737e-01, -1.19847407e-01,  3.88544331e-02,  8.42572859e-02,\n",
       "       -6.11855669e-02, -2.13715895e-02,  1.20334877e-01,  9.81112344e-02,\n",
       "       -8.83907064e-02,  1.49391086e-01,  6.15735887e-02, -1.87371540e-01,\n",
       "       -3.00309152e-02,  7.50548710e-02,  7.60311356e-02, -1.00827492e-01,\n",
       "        8.91323849e-02,  7.83697517e-02, -8.23564103e-02,  1.31587028e-02,\n",
       "        1.63290434e-01, -1.24481447e-02, -3.38778912e-02,  1.98309173e-01,\n",
       "       -1.36738849e-01, -4.50967143e-02,  1.27286860e-01,  2.04020766e-02,\n",
       "       -5.76724364e-02, -6.63377117e-02,  1.23274684e-01, -4.48008346e-02,\n",
       "       -2.34618244e-02,  1.47161030e-01, -2.29317335e-01,  2.10197631e-01,\n",
       "       -3.22284093e-02, -1.96254155e-03,  2.55749503e-01, -4.50215203e-02,\n",
       "        2.95932860e-01,  7.28318816e-02, -4.94876368e-02,  2.02819258e-02,\n",
       "        3.52717856e-03,  6.53228502e-03,  6.38617343e-02,  5.45375140e-02,\n",
       "       -1.48844073e-01,  1.93967687e-01,  1.01514770e-01,  2.88043289e-01,\n",
       "       -1.54797637e-01,  1.45957474e-01, -6.17260492e-02,  1.22727341e-01,\n",
       "        1.16524388e-01,  9.04757365e-02,  7.03718656e-02, -3.70717263e-02,\n",
       "        1.00111259e-01,  1.54654616e-01, -1.89014339e-01,  3.74587946e-02,\n",
       "       -9.17613405e-02, -1.43165670e-01, -2.54030589e-02,  8.28368404e-02,\n",
       "       -1.39822093e-01, -8.86291825e-02, -1.45728142e-01, -1.26585304e-02,\n",
       "       -7.27538641e-02, -5.90590681e-02,  4.78968229e-03, -2.15200498e-01,\n",
       "        1.54095615e-02, -1.95569260e-02, -1.55556958e-01, -7.43437921e-02,\n",
       "        6.99823854e-02, -1.92892510e-01,  7.09370659e-02, -1.89564127e-01,\n",
       "       -1.81701602e-01,  2.42356864e-02, -9.84301860e-02, -1.99031309e-02,\n",
       "       -1.04471127e-01,  9.00140817e-02,  9.10144549e-02,  2.96668572e-02,\n",
       "        1.84409088e-01, -2.99308013e-02, -7.08038365e-02, -1.25432884e-01,\n",
       "       -1.61642990e-01,  1.99727803e-01, -3.73378382e-02, -9.53612035e-02,\n",
       "        3.07248177e-02, -1.23830388e-01,  6.63414177e-02, -1.05707825e-01,\n",
       "       -2.11906336e-01, -1.00970169e-01, -1.04716914e-01, -1.35921216e-01,\n",
       "        1.18163487e-01,  2.39484127e-01, -5.52550384e-02,  1.68899907e-01,\n",
       "       -9.94797304e-02, -1.22094355e-02, -1.04087322e-01, -1.60528911e-01,\n",
       "       -2.82268218e-01, -1.77161885e-01, -2.56826439e-02, -2.20465984e-01,\n",
       "       -2.45330124e-02, -1.43383558e-01,  5.49882988e-02,  1.40358381e-02,\n",
       "       -8.53667911e-03,  1.77356701e-02,  3.64250024e-02, -2.69583645e-02,\n",
       "        8.27624333e-03, -1.00262914e-01,  4.76491025e-02,  1.33481762e-01,\n",
       "       -8.20096846e-02,  9.96828041e-02, -1.41967046e-02,  1.41351492e-01,\n",
       "       -3.18693931e-02, -3.32013344e-02,  9.71161042e-02, -9.63181686e-02,\n",
       "       -3.36751205e-02, -1.05069577e-01,  1.60007606e-01,  6.61571441e-02,\n",
       "        4.20977102e-03, -2.55985442e-03,  3.62135301e-02, -4.20208978e-02,\n",
       "        2.22225229e-02,  5.03411654e-02, -9.91497863e-02,  4.47476401e-02,\n",
       "       -2.04136831e-02, -2.57341350e-02, -2.66494429e-02,  5.49288731e-02,\n",
       "       -1.32113531e-01, -4.43772199e-03, -2.72196720e-02, -1.77995941e-01,\n",
       "        4.70128655e-02, -5.42749428e-02,  8.91879851e-03, -7.43752752e-02,\n",
       "        6.91297451e-02, -1.47474146e-01,  4.28875603e-02, -2.86248701e-02,\n",
       "       -3.66844424e-02,  1.69050106e-01,  2.73606693e-02, -4.48590475e-02,\n",
       "       -5.77572909e-02, -1.68765559e-01,  4.67001629e-02, -9.41551473e-02,\n",
       "       -6.26740033e-02,  8.11309461e-02,  1.83454987e-01, -1.39679085e-01,\n",
       "       -1.56217807e-02, -1.55703490e-01, -6.65287825e-02, -2.03701360e-02,\n",
       "       -6.01589316e-02, -1.61227846e-01, -4.55977470e-02, -1.10659703e-02,\n",
       "       -3.51653629e-02, -5.33116874e-03,  8.30332536e-02,  7.74764315e-02,\n",
       "        2.27585806e-02,  5.29138753e-02,  9.10748089e-02,  2.60011452e-02,\n",
       "        7.64650606e-02,  4.76974078e-03, -1.33470161e-02,  2.80071699e-02,\n",
       "        7.45019674e-02,  5.12245520e-03,  2.02873553e-02, -4.02828039e-02,\n",
       "       -1.20114314e-01, -4.25474279e-03,  2.78987318e-02, -9.07936806e-02,\n",
       "        4.65709326e-02, -1.03272755e-01, -1.44338543e-01, -1.98170545e-01,\n",
       "        1.35196531e-01, -1.19948283e-01, -6.79134406e-02,  5.34385772e-04,\n",
       "       -8.40422028e-02, -1.32480515e-01, -4.71948922e-02, -1.38970150e-01,\n",
       "        4.13243296e-02,  5.45069460e-02,  1.19072048e-01, -1.65203709e-01,\n",
       "       -2.60721138e-03,  8.50756023e-02, -1.00170743e-01,  5.73894906e-02,\n",
       "        8.82044160e-02,  1.19294315e-01,  1.33557288e-01, -2.64571249e-02,\n",
       "        6.18849272e-02, -6.45263622e-03,  8.57276232e-02, -8.86047092e-02,\n",
       "        4.05294541e-02, -1.55578036e-01,  3.74022569e-02,  7.49980828e-02,\n",
       "        2.28193139e-01, -1.75422128e-02,  2.40645455e-02,  4.06099644e-02,\n",
       "        9.90196512e-02, -8.45129803e-02,  2.11772490e-01,  8.65941910e-02,\n",
       "        1.53680527e-01,  5.38328243e-02, -1.24172845e-02,  1.17327775e-01,\n",
       "        2.53406620e-02,  1.06033962e-01, -9.52053711e-03, -1.51403057e-02,\n",
       "        6.13411892e-02,  5.29184602e-02,  3.22230775e-02,  1.04386049e-01,\n",
       "        1.23278086e-01,  8.53331301e-02, -5.09106240e-02, -6.27182277e-02,\n",
       "       -7.35671036e-02, -7.40345716e-02, -1.13207911e-01, -9.99585743e-02,\n",
       "        3.07748591e-02,  2.06437542e-02, -8.79984431e-02,  6.13925030e-02,\n",
       "        2.65629566e-02,  6.07418694e-02, -1.28976700e-02, -2.16438615e-01,\n",
       "       -4.08111835e-02,  8.26721928e-02, -1.27022246e-01,  5.65846683e-02,\n",
       "        3.54886346e-02,  3.24420936e-01,  2.31149259e-02,  1.56195552e-01,\n",
       "       -1.44993515e-01, -1.29365440e-02, -3.86849867e-02, -1.16239748e-02,\n",
       "       -3.76972817e-02, -6.35796047e-02,  1.21976552e-02, -2.45032260e-02,\n",
       "       -6.93978200e-02, -2.54086050e-01, -1.61017141e-01,  1.11698587e-02,\n",
       "       -3.72220790e-02, -6.80809875e-02,  2.43983462e-01, -5.79259606e-02,\n",
       "       -1.57298976e-01, -5.46380193e-02, -4.11106633e-03,  2.03210084e-01,\n",
       "        6.47839411e-02, -1.85609103e-01, -9.50734236e-03,  7.32160075e-02,\n",
       "        7.41147197e-02, -4.02376309e-02,  1.53812525e-02, -1.58392821e-01,\n",
       "        1.20793844e-01,  1.09102753e-01,  5.49569646e-02,  8.54311464e-02,\n",
       "        1.51286570e-01,  3.69707972e-03,  4.25904152e-02,  1.02973288e-02,\n",
       "        1.05890387e-01,  6.94628865e-02, -1.06711681e-01,  3.39074662e-02,\n",
       "       -1.76404429e-01,  3.78469611e-04, -2.87893236e-02,  2.60449608e-02,\n",
       "       -1.65494493e-02,  1.07419126e-01, -6.32617504e-02, -2.93749447e-02,\n",
       "        1.91274138e-01, -1.07401571e-01, -3.28364230e-03, -4.58066593e-02,\n",
       "       -4.63116044e-02,  3.98154502e-02,  5.57208005e-02,  2.88714524e-02,\n",
       "        9.76427062e-02,  4.78437670e-02,  1.27906111e-01,  1.30534181e-02,\n",
       "       -2.70935029e-02,  2.04721611e-01,  2.65888015e-03,  5.31475878e-02,\n",
       "        2.70183886e-01,  4.35900314e-02, -9.69453035e-02, -2.76376279e-02,\n",
       "       -1.24435700e-01,  8.09380649e-02, -3.13542116e-02, -1.24027285e-01,\n",
       "       -7.17851120e-02,  5.89283996e-02, -2.18058596e-01, -1.15124634e-01,\n",
       "        7.93280034e-02, -2.06743804e-02,  6.26478580e-02, -2.93176766e-01,\n",
       "        2.52632206e-01,  2.36910304e-02,  1.03013030e-01, -1.46957872e-01,\n",
       "       -9.20741264e-02,  1.14682645e-01, -1.18396944e-01,  2.23670563e-02,\n",
       "        1.98243599e-02,  1.70095060e-02,  1.05620956e-01,  2.24550056e-01,\n",
       "       -1.45795961e-01,  1.73770887e-02, -4.92699340e-02,  1.58997123e-01,\n",
       "        1.95973849e-02,  2.24589387e-02, -6.73757149e-03, -9.93501828e-02,\n",
       "       -7.39237878e-03,  1.02551821e-01, -5.44445765e-03,  7.10727220e-02,\n",
       "        7.73467353e-02, -4.70047542e-02,  9.36076264e-02, -8.55949530e-02,\n",
       "       -5.56856751e-02,  1.74301977e-03,  2.47498409e-02, -7.62567635e-02,\n",
       "        6.03476140e-02, -4.62402995e-02,  1.25743254e-01,  1.02911133e-01,\n",
       "       -2.44329241e-01,  1.60038272e-01,  7.06984947e-02,  5.29088249e-02,\n",
       "        1.28340084e-01, -1.72759747e-01,  1.20806111e-02,  3.96855097e-02,\n",
       "        2.38624134e-02, -1.24827419e-01, -6.09870255e-02, -9.05046252e-02,\n",
       "       -6.14170735e-02, -8.22835294e-02, -3.30495377e-02, -8.79533046e-02,\n",
       "        1.70606387e-01,  1.31353203e-01, -8.46863644e-02,  5.30183639e-02,\n",
       "        4.99461289e-02,  4.45898908e-02, -2.86687917e-02,  9.93482681e-02,\n",
       "       -2.11741821e-01,  2.51734812e-02, -1.82991918e-01,  1.58132758e-02,\n",
       "       -7.25701301e-02, -5.44487229e-02,  4.98963028e-02, -6.63040727e-02,\n",
       "        1.34816210e-01, -1.10989794e-01, -1.35173823e-01,  2.54822137e-02,\n",
       "       -8.84749942e-02,  5.10306217e-02, -3.25207074e-02, -1.37169888e-01,\n",
       "       -9.39367357e-02,  1.05485880e-02, -6.25639144e-02,  3.72220360e-02,\n",
       "       -5.57732130e-02, -4.24080129e-02, -1.46977118e-02,  2.20833533e-02,\n",
       "        2.01039074e-02,  3.29726565e-02, -7.67014667e-02,  3.34277269e-02,\n",
       "       -1.57720236e-01, -7.37956737e-03, -2.10521433e-02, -1.02595874e-02,\n",
       "       -3.70259380e-02,  8.89133305e-02, -1.85061571e-01, -1.07493681e-02,\n",
       "       -1.75449595e-03, -1.06663943e-01,  2.44717566e-02,  3.65971815e-02,\n",
       "       -3.13207171e-02,  4.36517871e-02, -1.68816307e-01,  9.24819875e-02,\n",
       "        7.88575907e-02, -5.38947116e-02,  1.48793994e-01,  2.67950847e-01,\n",
       "       -9.90876885e-03,  6.30198319e-02,  3.26524475e-02,  4.90867296e-02,\n",
       "        8.43018599e-02, -1.01470270e-01,  3.12907076e-02, -8.39242872e-02,\n",
       "        1.06374584e-01, -5.23159816e-02,  1.58082713e-01,  4.56882910e-02,\n",
       "        9.88735016e-02, -8.53373614e-02, -4.99185940e-02, -9.42290480e-02,\n",
       "       -6.64733097e-02,  2.94517936e-02, -1.89830241e-02, -7.96285987e-02,\n",
       "       -2.43000955e-02, -3.63435050e-02, -2.05368842e-02,  2.15818422e-02,\n",
       "        1.16067354e-01,  1.18624096e-01, -1.43479822e-01,  1.31862875e-01,\n",
       "       -5.60231900e-02, -3.51460302e-02,  1.47380565e-01,  2.07567220e-01,\n",
       "       -8.92001447e-05,  1.63350763e-02, -4.21264564e-03,  1.02022455e-01,\n",
       "        2.37208454e-02,  1.90536841e-02, -2.43907886e-02,  7.43969799e-02,\n",
       "        5.02613344e-02,  6.91222576e-02,  5.53677807e-02,  3.05818663e-02,\n",
       "        5.92651687e-02, -1.27107111e-02,  3.11728258e-02, -8.02051959e-02,\n",
       "        1.05155487e-01, -1.04953652e-01,  3.11121244e-02,  1.15194524e-01,\n",
       "       -4.22270865e-02, -1.08769315e-01,  6.62408633e-02,  3.48474492e-02,\n",
       "       -6.40730802e-02, -4.23808703e-02,  1.95075877e-01,  2.07106359e-02,\n",
       "       -6.66971735e-02, -2.95323148e-02, -7.43876877e-02,  1.28728710e-02,\n",
       "       -3.82701068e-02, -5.89048517e-02,  1.26008656e-02,  8.76781290e-02,\n",
       "       -1.37713552e-01, -1.82899530e-02, -2.48261711e-01,  1.06736274e-01,\n",
       "       -6.38303867e-02,  4.88006675e-02,  6.31154312e-02,  1.21184444e-01,\n",
       "        5.50918788e-02,  5.62175265e-02, -7.67754323e-02, -1.53098746e-01,\n",
       "        2.05953031e-01, -1.12391498e-01,  1.45443375e-02,  2.21513292e-03,\n",
       "        1.23633843e-01, -1.79427177e-01, -1.30828186e-01, -4.52511181e-04,\n",
       "        1.40441583e-01,  2.45943733e-02,  1.39422813e-02, -3.12549215e-01,\n",
       "        5.37996712e-02, -8.94325579e-02,  9.80864988e-03,  6.72050846e-02,\n",
       "       -1.17665365e-01,  2.41891842e-01,  2.13195374e-02, -6.09269501e-02,\n",
       "       -6.72708917e-02, -3.24733647e-02,  2.50495023e-02,  8.44429810e-02,\n",
       "       -2.95510387e-02,  5.93115108e-02,  4.55814644e-02, -2.31917658e-02,\n",
       "        1.22810227e-01, -1.03969873e-01, -4.50867645e-02, -1.66733032e-01,\n",
       "       -1.06265202e-01,  6.97359151e-02, -1.64600384e-01,  1.50120927e-02,\n",
       "       -1.14287638e-01, -7.13629362e-02, -5.27173383e-02, -7.71880512e-02,\n",
       "        1.06992741e-01, -6.16378706e-02, -1.10917154e-01,  1.14044393e-01,\n",
       "        1.50104946e-01, -5.34198726e-02,  1.31275934e-01, -1.01910048e-03,\n",
       "       -3.70102231e-02, -1.17063443e-01, -1.06571347e-01,  3.16983716e-02,\n",
       "       -1.39926332e-01,  1.57857511e-01,  1.03708541e-01,  8.79361997e-03,\n",
       "        4.91696935e-02,  1.03404092e-01,  8.69954696e-03, -6.83381578e-02,\n",
       "        1.24568831e-01, -5.61362067e-03,  9.35810670e-04, -9.40753744e-02,\n",
       "       -1.29100926e-01, -7.82243678e-02,  2.18986338e-01, -1.73714229e-02,\n",
       "        1.89234561e-02, -1.08045687e-01, -4.72139890e-02,  2.06948872e-01,\n",
       "       -1.24831971e-01,  9.96456414e-02,  1.32063323e-01, -1.26260940e-01,\n",
       "       -4.77087098e-02,  2.46754914e-02, -1.81355633e-01, -1.46701877e-01,\n",
       "       -2.72153853e-04, -9.27575998e-02, -7.87874602e-02,  1.09456486e-01,\n",
       "       -3.41157117e-02, -2.75655219e-02, -1.40428240e-02,  6.15543986e-02,\n",
       "        3.25268676e-02,  6.32678265e-02, -1.51119566e-01,  1.23842796e-01,\n",
       "       -1.63182992e-01, -1.74931760e-01,  1.16765465e-01,  5.99989534e-02,\n",
       "        1.54050511e-01,  5.88897173e-02,  1.17726414e-02, -1.73090851e-01,\n",
       "        5.35149085e-02,  1.04567210e-01,  2.54335970e-02, -1.08558751e-01,\n",
       "        2.30968253e-01, -1.52919861e-01, -1.02608233e-01,  1.37128394e-01,\n",
       "        4.97300775e-02, -7.47981635e-02,  8.56994401e-03, -8.27187226e-02,\n",
       "        4.04472073e-02,  7.58060985e-02, -2.06967140e-01, -4.29940613e-02,\n",
       "        1.28432780e-02, -1.13197444e-01,  2.53147594e-03,  9.35629049e-02,\n",
       "       -3.51500513e-02, -2.97969229e-02, -1.61468974e-02,  2.41844690e-02,\n",
       "       -2.37598885e-03, -6.30899955e-02, -8.13333453e-02,  5.26354038e-02,\n",
       "        1.22366287e-01, -1.76272505e-03, -9.78166917e-02,  1.24857207e-01,\n",
       "        2.29326481e-01,  1.79365003e-02,  2.11000691e-01, -1.23787213e-01,\n",
       "       -6.28015127e-02, -1.23791366e-01, -7.98076729e-02,  1.50150377e-02,\n",
       "       -4.88453001e-02,  1.14500166e-01, -9.92915121e-02, -1.75694453e-01,\n",
       "        1.46388254e-01,  1.21952775e-01,  8.89974188e-02,  3.67769385e-02,\n",
       "       -1.07944398e-01, -1.20733282e-01, -8.78105860e-02, -1.07904939e-01,\n",
       "        2.85379187e-02, -7.61911659e-02,  1.67488394e-01, -6.14223394e-03,\n",
       "        1.36135518e-01, -5.86546332e-02, -1.14651696e-01,  4.84569454e-02,\n",
       "        1.32944310e-01, -9.42943631e-02, -9.60615639e-02,  8.03755104e-02,\n",
       "       -1.41038491e-01,  1.83095167e-02,  1.42409087e-01, -3.27527718e-02,\n",
       "       -2.67500063e-02, -3.37627684e-03,  1.24901202e-01,  6.00851987e-03,\n",
       "        1.65046316e-01,  1.33780447e-01,  9.70914896e-03, -1.56944736e-01,\n",
       "       -1.00077371e-01, -5.56451772e-02,  7.49238267e-02, -5.33646473e-02,\n",
       "       -9.74429250e-02,  5.40336109e-02,  1.14032300e-01, -9.40125881e-02,\n",
       "       -6.44642267e-02, -6.24297736e-02,  1.43315404e-01, -3.99292440e-02,\n",
       "       -5.30773554e-02, -1.28541359e-02,  6.56413592e-02, -1.02605117e-01,\n",
       "        7.38608533e-02, -9.60818097e-02, -9.88337893e-02, -1.49496812e-02,\n",
       "       -1.77816727e-02,  4.48093988e-02,  4.73839307e-02,  7.23453865e-02,\n",
       "        9.70435996e-02,  4.90053764e-02,  7.63379510e-02, -7.92228808e-02,\n",
       "       -4.70877442e-03, -1.36647595e-01, -1.15756524e-01, -2.48380667e-02,\n",
       "       -8.12470168e-02, -3.13825582e-02,  1.94309494e-02, -2.06592173e-02,\n",
       "        3.79135320e-02, -6.32287865e-02, -2.27278498e-02, -1.00041943e-01,\n",
       "       -2.37976290e-02,  8.03393228e-02,  1.60922410e-01, -3.51968453e-03,\n",
       "       -9.54533613e-02, -1.46818791e-01,  1.13074252e-01,  2.35188081e-01,\n",
       "        5.68403042e-02, -1.32610312e-01,  1.25825215e-02,  6.77835278e-02,\n",
       "        1.15390598e-01, -1.39613567e-01, -5.81410572e-02, -9.39192288e-02,\n",
       "        7.83555860e-02,  1.39375278e-01, -1.00839439e-01,  2.03143566e-02,\n",
       "        5.99276487e-03,  1.45940733e-01, -3.82592648e-02, -1.27690716e-02,\n",
       "        1.63865920e-01,  2.11809558e-02,  6.79230901e-02,  5.36272356e-02,\n",
       "        9.95292515e-02,  2.39190740e-02, -1.70845986e-01,  3.21817177e-01,\n",
       "        1.84708651e-02,  1.17062133e-02,  1.12385902e-01, -3.46859349e-02,\n",
       "        1.35194066e-01,  1.39444132e-02,  1.75279396e-01, -7.75908195e-02,\n",
       "       -8.27483632e-02,  5.10943259e-02,  2.90021834e-02, -6.96951033e-02,\n",
       "       -1.41908011e-02,  1.81233070e-01,  9.39131246e-02,  6.51259831e-02,\n",
       "        1.03281998e-01,  4.76563380e-03,  5.93848798e-02,  2.24577220e-01,\n",
       "       -1.03368334e-01,  5.09072372e-03,  3.56958376e-02,  5.45297939e-02,\n",
       "       -1.32141190e-01, -4.12638276e-03,  4.72392073e-02,  1.73773100e-01,\n",
       "        1.45313411e-01,  1.71993765e-01,  7.51611510e-03,  7.42205840e-02,\n",
       "       -1.18673283e-01, -2.85923796e-02, -3.34061121e-03, -9.77537307e-02,\n",
       "       -7.88989099e-02,  3.31057353e-03,  1.44014103e-01, -8.09841971e-03,\n",
       "       -2.61168766e-01,  1.76731471e-02,  1.67228305e-02,  8.94128435e-04,\n",
       "       -1.24428693e-01, -1.64476909e-02,  1.84467190e-01,  5.11123829e-02,\n",
       "       -5.10961821e-04,  1.01064894e-02,  1.17554388e-01, -8.06893011e-02,\n",
       "        1.03589483e-01,  1.18567673e-01,  8.66422402e-02, -5.94526641e-02,\n",
       "        1.10211272e-01, -4.08309143e-02, -2.32486117e-01, -4.08765410e-02,\n",
       "        3.60671518e-02, -1.06200644e-01, -1.54061502e-02, -8.85603839e-04,\n",
       "        6.85198004e-02,  1.04523202e-01, -1.83267492e-01,  1.32725041e-01,\n",
       "        4.69576158e-02,  1.43640896e-01,  6.31778575e-02,  1.59209025e-01,\n",
       "       -4.45502713e-02,  5.65219728e-03, -1.88474993e-02,  6.94909954e-02,\n",
       "        1.81419773e-02, -1.67504805e-01,  7.43145743e-02, -1.39230894e-01,\n",
       "        1.38894602e-01, -1.11289304e-01, -4.14926715e-02,  6.38136316e-02,\n",
       "       -1.31518649e-02, -5.44170111e-02,  7.08871961e-02,  1.82070163e-01,\n",
       "        1.11170575e-01,  3.05783171e-01,  8.37226356e-02, -1.16337318e-01,\n",
       "       -1.83894412e-03,  8.52504431e-02,  7.92946912e-02,  1.67216935e-02,\n",
       "        9.16567752e-02, -5.56762424e-02,  7.90478046e-02, -1.70615276e-01,\n",
       "       -2.17134681e-01, -1.18411646e-01, -1.00983577e-01, -1.45377358e-01,\n",
       "       -1.18031828e-01,  1.68036911e-02, -7.67101067e-03, -1.26732608e-01,\n",
       "        4.92631121e-02,  9.37991375e-02,  9.76392001e-02,  7.57614377e-02,\n",
       "       -7.34247208e-02,  2.23609621e-01, -4.19392008e-02, -6.35372955e-02,\n",
       "       -1.91802767e-01, -5.29167184e-02,  2.07306655e-02,  2.48269176e-01,\n",
       "        9.93700313e-03,  4.42989248e-03,  1.24617839e-01,  2.22027935e-02,\n",
       "       -9.05020222e-02, -1.70595298e-01, -4.89749090e-02,  1.49751955e-01,\n",
       "       -5.00251537e-02,  5.32065109e-02, -1.41894947e-01, -3.04805404e-02,\n",
       "       -5.58361747e-03, -4.68823133e-02,  6.69443987e-02, -6.48966845e-02,\n",
       "        5.84253910e-02, -5.69774258e-02, -1.46681666e-02, -2.08874346e-01,\n",
       "       -1.80933406e-01,  9.86850832e-02, -1.05990833e-01,  6.95171540e-02,\n",
       "       -1.26363156e-01,  6.32270868e-03, -1.49831431e-01, -7.49313530e-02,\n",
       "        8.19642515e-02, -5.14524704e-02, -3.05912269e-01,  1.09799862e-01,\n",
       "        1.25433031e-01,  5.42718364e-02, -2.20055942e-01,  5.70797171e-02,\n",
       "       -7.12980911e-02,  8.91233101e-03,  6.87784753e-02,  5.66678406e-02,\n",
       "        1.52911303e-01, -1.83906335e-01, -6.35959301e-02,  8.07627025e-02,\n",
       "       -5.57546247e-02,  7.59134064e-02, -1.21924092e-01,  5.37354223e-02,\n",
       "        5.02095543e-02,  1.88860410e-02,  4.67253727e-03,  6.01974835e-02])"
      ]
     },
     "execution_count": 174,
     "metadata": {},
     "output_type": "execute_result"
    }
   ],
   "source": [
    "mean = 0\n",
    "std = 0.1\n",
    "scores = np.random.normal(mean, std, point_count)\n",
    "scores"
   ]
  },
  {
   "cell_type": "code",
   "execution_count": 175,
   "id": "894f3e2e",
   "metadata": {},
   "outputs": [],
   "source": [
    "bin_count = 20"
   ]
  },
  {
   "cell_type": "code",
   "execution_count": 176,
   "id": "fa095cc9",
   "metadata": {
    "scrolled": true
   },
   "outputs": [
    {
     "data": {
      "text/plain": [
       "array([  4.,   2.,   8.,  13.,  39.,  52.,  85.,  91., 109., 113., 132.,\n",
       "       111.,  82.,  69.,  42.,  16.,  16.,   9.,   3.,   4.])"
      ]
     },
     "execution_count": 176,
     "metadata": {},
     "output_type": "execute_result"
    },
    {
     "data": {
      "image/png": "[encoded data removed]",
      "text/plain": [
       "<Figure size 432x288 with 1 Axes>"
      ]
     },
     "metadata": {
      "needs_background": "light"
     },
     "output_type": "display_data"
    }
   ],
   "source": [
    "values, bins, _ = plt.hist(scores, bins=bin_count, density=False)\n",
    "values"
   ]
  },
  {
   "cell_type": "code",
   "execution_count": 177,
   "id": "8e938ef2",
   "metadata": {},
   "outputs": [
    {
     "data": {
      "text/plain": [
       "1000.0"
      ]
     },
     "execution_count": 177,
     "metadata": {},
     "output_type": "execute_result"
    }
   ],
   "source": [
    "sum(values)"
   ]
  },
  {
   "cell_type": "code",
   "execution_count": 192,
   "id": "dde5d576",
   "metadata": {},
   "outputs": [
    {
     "data": {
      "text/plain": [
       "array([0.004, 0.002, 0.008, 0.013, 0.039, 0.052, 0.085, 0.091, 0.109,\n",
       "       0.113, 0.132, 0.111, 0.082, 0.069, 0.042, 0.016, 0.016, 0.009,\n",
       "       0.003, 0.004])"
      ]
     },
     "execution_count": 192,
     "metadata": {},
     "output_type": "execute_result"
    },
    {
     "data": {
      "image/png": "[encoded data removed]",
      "text/plain": [
       "<Figure size 432x288 with 1 Axes>"
      ]
     },
     "metadata": {
      "needs_background": "light"
     },
     "output_type": "display_data"
    }
   ],
   "source": [
    "values, bins, _ = plt.hist(\n",
    "    scores, bins=bin_count, density=False, \n",
    "    weights=(np.zeros_like(scores) + 1./scores. size)\n",
    ")\n",
    "plt.xlim(-0.5, 0.5)\n",
    "values"
   ]
  },
  {
   "cell_type": "code",
   "execution_count": 179,
   "id": "1cf19b4b",
   "metadata": {},
   "outputs": [
    {
     "data": {
      "text/plain": [
       "1.0000000000000007"
      ]
     },
     "execution_count": 179,
     "metadata": {},
     "output_type": "execute_result"
    }
   ],
   "source": [
    "sum(values)"
   ]
  },
  {
   "cell_type": "code",
   "execution_count": 180,
   "id": "d9d79e55",
   "metadata": {},
   "outputs": [
    {
     "data": {
      "text/plain": [
       "array([0.004, 0.002, 0.008, 0.013, 0.039, 0.052, 0.085, 0.091, 0.109,\n",
       "       0.113, 0.132, 0.111, 0.082, 0.069, 0.042, 0.016, 0.016, 0.009,\n",
       "       0.003, 0.004])"
      ]
     },
     "execution_count": 180,
     "metadata": {},
     "output_type": "execute_result"
    },
    {
     "data": {
      "image/png": "[encoded data removed]",
      "text/plain": [
       "<Figure size 432x288 with 1 Axes>"
      ]
     },
     "metadata": {
      "needs_background": "light"
     },
     "output_type": "display_data"
    }
   ],
   "source": [
    "values, bins, _ = plt.hist(\n",
    "    scores, bins=bin_count, density=False, \n",
    "    weights=(np.zeros_like(scores) + 1./scores. size),\n",
    "    histtype='step'\n",
    ")\n",
    "values"
   ]
  },
  {
   "cell_type": "code",
   "execution_count": null,
   "id": "c7c09aed",
   "metadata": {},
   "outputs": [],
   "source": []
  },
  {
   "cell_type": "code",
   "execution_count": 181,
   "id": "a853f8ac",
   "metadata": {},
   "outputs": [
    {
     "data": {
      "image/png": "[encoded data removed]",
      "text/plain": [
       "<Figure size 432x288 with 1 Axes>"
      ]
     },
     "metadata": {
      "needs_background": "light"
     },
     "output_type": "display_data"
    }
   ],
   "source": [
    "values, bins, _ = plt.hist(scores, bins=10, density=False, histtype='step')"
   ]
  },
  {
   "cell_type": "code",
   "execution_count": null,
   "id": "514f5911",
   "metadata": {},
   "outputs": [],
   "source": []
  },
  {
   "cell_type": "code",
   "execution_count": null,
   "id": "e3165ced",
   "metadata": {},
   "outputs": [],
   "source": []
  },
  {
   "cell_type": "code",
   "execution_count": null,
   "id": "d37d7df2",
   "metadata": {},
   "outputs": [],
   "source": []
  },
  {
   "cell_type": "code",
   "execution_count": 182,
   "id": "057ee47c",
   "metadata": {},
   "outputs": [
    {
     "data": {
      "image/png": "[encoded data removed]",
      "text/plain": [
       "<Figure size 432x288 with 1 Axes>"
      ]
     },
     "metadata": {
      "needs_background": "light"
     },
     "output_type": "display_data"
    }
   ],
   "source": [
    "values, bins, _ = plt.hist(scores, bins=10, range=(0, 1), density=False, histtype='step')"
   ]
  },
  {
   "cell_type": "code",
   "execution_count": 183,
   "id": "b1e40c23",
   "metadata": {},
   "outputs": [
    {
     "data": {
      "text/plain": [
       "(0.0, 1.0)"
      ]
     },
     "execution_count": 183,
     "metadata": {},
     "output_type": "execute_result"
    },
    {
     "data": {
      "image/png": "[encoded data removed]",
      "text/plain": [
       "<Figure size 432x288 with 1 Axes>"
      ]
     },
     "metadata": {
      "needs_background": "light"
     },
     "output_type": "display_data"
    }
   ],
   "source": [
    "values, bins, _ = plt.hist(scores, bins=10, density=False, histtype='step')\n",
    "plt.xlim(0, 1)"
   ]
  },
  {
   "cell_type": "code",
   "execution_count": 184,
   "id": "255dc21f",
   "metadata": {},
   "outputs": [
    {
     "data": {
      "image/png": "[encoded data removed]",
      "text/plain": [
       "<Figure size 432x288 with 1 Axes>"
      ]
     },
     "metadata": {
      "needs_background": "light"
     },
     "output_type": "display_data"
    }
   ],
   "source": [
    "values, bins, _ = plt.hist(scores, bins=10, density=False, histtype='step')"
   ]
  },
  {
   "cell_type": "code",
   "execution_count": 185,
   "id": "8c9f30d8",
   "metadata": {},
   "outputs": [
    {
     "data": {
      "image/png": "[encoded data removed]",
      "text/plain": [
       "<Figure size 432x288 with 1 Axes>"
      ]
     },
     "metadata": {
      "needs_background": "light"
     },
     "output_type": "display_data"
    }
   ],
   "source": [
    "values, bins, _ = plt.hist(scores, bins=10, density=False, histtype='step')"
   ]
  },
  {
   "cell_type": "code",
   "execution_count": null,
   "id": "773516ad",
   "metadata": {},
   "outputs": [],
   "source": []
  },
  {
   "cell_type": "code",
   "execution_count": null,
   "id": "dae10dea",
   "metadata": {},
   "outputs": [],
   "source": []
  },
  {
   "cell_type": "code",
   "execution_count": null,
   "id": "fddae2a8",
   "metadata": {},
   "outputs": [],
   "source": []
  },
  {
   "cell_type": "code",
   "execution_count": null,
   "id": "50ac1b7b",
   "metadata": {},
   "outputs": [],
   "source": []
  },
  {
   "cell_type": "code",
   "execution_count": 186,
   "id": "9762bee5",
   "metadata": {},
   "outputs": [
    {
     "data": {
      "text/plain": [
       "array([0.12559458, 0.06279729, 0.25118916, 0.40818239, 1.22454718,\n",
       "       1.63272957, 2.66888487, 2.85727674, 3.42245236, 3.54804695,\n",
       "       4.14462121, 3.48524966, 2.57468893, 2.16650654, 1.31874311,\n",
       "       0.50237833, 0.50237833, 0.28258781, 0.09419594, 0.12559458])"
      ]
     },
     "execution_count": 186,
     "metadata": {},
     "output_type": "execute_result"
    },
    {
     "data": {
      "image/png": "[encoded data removed]",
      "text/plain": [
       "<Figure size 432x288 with 1 Axes>"
      ]
     },
     "metadata": {
      "needs_background": "light"
     },
     "output_type": "display_data"
    }
   ],
   "source": [
    "values, bins, _ = plt.hist(scores, bins=bin_count, density=True)\n",
    "values"
   ]
  },
  {
   "cell_type": "code",
   "execution_count": 187,
   "id": "c17a81d2",
   "metadata": {},
   "outputs": [
    {
     "data": {
      "text/plain": [
       "31.398645540677958"
      ]
     },
     "execution_count": 187,
     "metadata": {},
     "output_type": "execute_result"
    }
   ],
   "source": [
    "sum(values)"
   ]
  },
  {
   "cell_type": "code",
   "execution_count": 172,
   "id": "8fed971a",
   "metadata": {},
   "outputs": [
    {
     "data": {
      "text/plain": [
       "array([-0.2448572 , -0.21732944, -0.18980169, -0.16227393, -0.13474618,\n",
       "       -0.10721842, -0.07969067, -0.05216291, -0.02463516,  0.0028926 ,\n",
       "        0.03042035,  0.05794811,  0.08547586,  0.11300362,  0.14053137,\n",
       "        0.16805913,  0.19558688,  0.22311464,  0.25064239,  0.27817015,\n",
       "        0.3056979 ])"
      ]
     },
     "execution_count": 172,
     "metadata": {},
     "output_type": "execute_result"
    }
   ],
   "source": [
    "bins"
   ]
  },
  {
   "cell_type": "code",
   "execution_count": null,
   "id": "b54be982",
   "metadata": {},
   "outputs": [],
   "source": []
  },
  {
   "cell_type": "code",
   "execution_count": null,
   "id": "443c93f5",
   "metadata": {},
   "outputs": [],
   "source": []
  },
  {
   "cell_type": "code",
   "execution_count": 56,
   "id": "3fda2b3b",
   "metadata": {},
   "outputs": [
    {
     "data": {
      "text/plain": [
       "array([ 2.12042217,  2.97366123,  1.88839257, -0.54181746,  3.81307799,\n",
       "        0.584845  ,  1.897874  , -4.8162687 ,  2.00299173,  5.32678302,\n",
       "        0.78300467, -3.77117562,  0.57974926, -0.4606729 , -0.71156913,\n",
       "        3.33192939,  6.49939092, -6.8952433 , -0.50886153, -3.40668213,\n",
       "       -1.93773871,  5.69243936,  0.24015239, -2.07464768,  3.44037095,\n",
       "        4.94958344, -3.42430142,  0.19103658,  1.23910477,  1.89943442,\n",
       "        1.81914759,  4.08762506,  0.49171422, -0.48963154, -1.17368636,\n",
       "        1.58020395,  1.19499894,  3.03904212,  2.13446668,  0.64259771,\n",
       "        1.2116186 , -1.05085436,  4.10347985, -0.64497674, -3.89951031,\n",
       "        3.19999962, -3.03612392,  5.69636582,  4.55197986,  2.0082914 ,\n",
       "        2.60425834,  2.01492593,  4.09389968,  3.23723757, -1.63854499,\n",
       "        3.88945338, -6.51593213, -1.32428048,  0.54402547,  0.68391969,\n",
       "        2.77205208,  2.63778032, -3.13690662,  3.40293434,  1.75904601,\n",
       "       -2.20558232,  3.79081126, -3.39987082,  1.30406328,  2.00451728,\n",
       "        2.63082236,  2.44721557, -0.56079269,  1.02233393, -3.22367371,\n",
       "       -0.74652218,  1.4061622 ,  5.5087799 , -0.09287533, -0.70205443,\n",
       "        1.40093697,  1.84337419,  1.45972374,  4.55404381,  0.03325396,\n",
       "       -0.3974063 ,  0.13026173, -1.06236003,  1.36471463,  1.43353177,\n",
       "       -3.35322219,  0.37305353, -1.26496783, -0.09081816,  0.80220776,\n",
       "        2.72355494,  1.72218416,  5.65379596,  3.73404328, -2.03036837])"
      ]
     },
     "execution_count": 56,
     "metadata": {},
     "output_type": "execute_result"
    }
   ],
   "source": [
    "scores = np.random.normal(0.5, 3, point_count)\n",
    "scores"
   ]
  },
  {
   "cell_type": "code",
   "execution_count": 57,
   "id": "cf116cbe",
   "metadata": {},
   "outputs": [
    {
     "data": {
      "text/plain": [
       "array([ 2.,  1.,  9.,  5., 15., 16., 24., 15.,  7.,  6.])"
      ]
     },
     "execution_count": 57,
     "metadata": {},
     "output_type": "execute_result"
    },
    {
     "data": {
      "image/png": "[encoded data removed]",
      "text/plain": [
       "<Figure size 432x288 with 1 Axes>"
      ]
     },
     "metadata": {
      "needs_background": "light"
     },
     "output_type": "display_data"
    }
   ],
   "source": [
    "values, bins, _ = plt.hist(scores, bins=10, density=False)\n",
    "values"
   ]
  },
  {
   "cell_type": "code",
   "execution_count": 58,
   "id": "cf050edb",
   "metadata": {},
   "outputs": [
    {
     "data": {
      "text/plain": [
       "100.0"
      ]
     },
     "execution_count": 58,
     "metadata": {},
     "output_type": "execute_result"
    }
   ],
   "source": [
    "sum(values)"
   ]
  },
  {
   "cell_type": "code",
   "execution_count": 59,
   "id": "05e1c724",
   "metadata": {},
   "outputs": [
    {
     "data": {
      "text/plain": [
       "array([0.01493135, 0.00746568, 0.06719108, 0.03732838, 0.11198514,\n",
       "       0.11945082, 0.17917623, 0.11198514, 0.05225973, 0.04479406])"
      ]
     },
     "execution_count": 59,
     "metadata": {},
     "output_type": "execute_result"
    },
    {
     "data": {
      "image/png": "[encoded data removed]",
      "text/plain": [
       "<Figure size 432x288 with 1 Axes>"
      ]
     },
     "metadata": {
      "needs_background": "light"
     },
     "output_type": "display_data"
    }
   ],
   "source": [
    "values, bins, _ = plt.hist(scores, bins=10, density=True)\n",
    "values"
   ]
  },
  {
   "cell_type": "code",
   "execution_count": 60,
   "id": "87ec8c46",
   "metadata": {},
   "outputs": [
    {
     "data": {
      "text/plain": [
       "0.746567605853635"
      ]
     },
     "execution_count": 60,
     "metadata": {},
     "output_type": "execute_result"
    }
   ],
   "source": [
    "sum(values)"
   ]
  },
  {
   "cell_type": "code",
   "execution_count": 61,
   "id": "b27f1cf6",
   "metadata": {},
   "outputs": [
    {
     "data": {
      "text/plain": [
       "array([-6.8952433 , -5.55577988, -4.21631646, -2.87685303, -1.53738961,\n",
       "       -0.19792619,  1.14153723,  2.48100065,  3.82046408,  5.1599275 ,\n",
       "        6.49939092])"
      ]
     },
     "execution_count": 61,
     "metadata": {},
     "output_type": "execute_result"
    }
   ],
   "source": [
    "bins"
   ]
  },
  {
   "cell_type": "code",
   "execution_count": null,
   "id": "3220e2d8",
   "metadata": {},
   "outputs": [],
   "source": []
  }
 ],
 "metadata": {
  "kernelspec": {
   "display_name": "Python 3 (ipykernel)",
   "language": "python",
   "name": "python3"
  },
  "language_info": {
   "codemirror_mode": {
    "name": "ipython",
    "version": 3
   },
   "file_extension": ".py",
   "mimetype": "text/x-python",
   "name": "python",
   "nbconvert_exporter": "python",
   "pygments_lexer": "ipython3",
   "version": "3.9.6"
  }
 },
 "nbformat": 4,
 "nbformat_minor": 5
}
