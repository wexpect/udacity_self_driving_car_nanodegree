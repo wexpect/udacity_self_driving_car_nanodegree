{
 "cells": [
  {
   "cell_type": "code",
   "execution_count": 2,
   "id": "4e5725d3",
   "metadata": {},
   "outputs": [
    {
     "name": "stdout",
     "output_type": "stream",
     "text": [
      "533.7525889210938 m 648.157485143441 m\n"
     ]
    }
   ],
   "source": [
    "import numpy as np\n",
    "\n",
    "def generate_data(ym_per_pix, xm_per_pix):\n",
    "    '''\n",
    "    Generates fake data to use for calculating lane curvature.\n",
    "    In your own project, you'll ignore this function and instead\n",
    "    feed in the output of your lane detection algorithm to\n",
    "    the lane curvature calculation.\n",
    "    '''\n",
    "    # Set random seed number so results are consistent for grader\n",
    "    # Comment this out if you'd like to see results on different random data!\n",
    "    np.random.seed(0)\n",
    "    # Generate some fake data to represent lane-line pixels\n",
    "    ploty = np.linspace(0, 719, num=720)# to cover same y-range as image\n",
    "    quadratic_coeff = 3e-4 # arbitrary quadratic coefficient\n",
    "    # For each y position generate random x position within +/-50 pix\n",
    "    # of the line base position in each case (x=200 for left, and x=900 for right)\n",
    "    leftx = np.array([200 + (y**2)*quadratic_coeff + np.random.randint(-50, high=51) \n",
    "                                    for y in ploty])\n",
    "    rightx = np.array([900 + (y**2)*quadratic_coeff + np.random.randint(-50, high=51) \n",
    "                                    for y in ploty])\n",
    "\n",
    "    leftx = leftx[::-1]  # Reverse to match top-to-bottom in y\n",
    "    rightx = rightx[::-1]  # Reverse to match top-to-bottom in y\n",
    "\n",
    "    # Fit a second order polynomial to pixel positions in each fake lane line\n",
    "    ##### TO-DO: Fit new polynomials to x,y in world space #####\n",
    "    ##### Utilize `ym_per_pix` & `xm_per_pix` here #####\n",
    "    left_fit_cr = np.polyfit(ploty * ym_per_pix, leftx * xm_per_pix, 2)\n",
    "    right_fit_cr = np.polyfit(ploty * ym_per_pix, rightx * xm_per_pix, 2)\n",
    "    \n",
    "    return ploty, left_fit_cr, right_fit_cr\n",
    "\n",
    "    \n",
    "def measure_curvature_real():\n",
    "    '''\n",
    "    Calculates the curvature of polynomial functions in meters.\n",
    "    '''\n",
    "    # Define conversions in x and y from pixels space to meters\n",
    "    ym_per_pix = 30/720 # meters per pixel in y dimension\n",
    "    xm_per_pix = 3.7/700 # meters per pixel in x dimension\n",
    "    \n",
    "    # Start by generating our fake example data\n",
    "    # Make sure to feed in your real data instead in your project!\n",
    "    ploty, left_fit_cr, right_fit_cr = generate_data(ym_per_pix, xm_per_pix)\n",
    "    \n",
    "    # Define y-value where we want radius of curvature\n",
    "    # We'll choose the maximum y-value, corresponding to the bottom of the image\n",
    "    y_eval = np.max(ploty) * ym_per_pix\n",
    "    \n",
    "    ##### TO-DO: Implement the calculation of R_curve (radius of curvature) #####\n",
    "#     left_curverad = 0  ## Implement the calculation of the left line here\n",
    "#     right_curverad = 0  ## Implement the calculation of the right line here\n",
    "    \n",
    "    A = left_fit_cr[0]\n",
    "    B = left_fit_cr[1]\n",
    "    left_curverad = np.power( 1 + np.power(2 * A * y_eval + B, 2), 3.0/2) / np.abs( 2 * A )\n",
    "    \n",
    "    A = right_fit_cr[0]\n",
    "    B = right_fit_cr[1]\n",
    "    right_curverad = np.power( 1 + np.power(2 * A * y_eval + B, 2), 3.0/2) / np.abs( 2 * A )    \n",
    " \n",
    "\n",
    "    return left_curverad, right_curverad\n",
    "\n",
    "\n",
    "# Calculate the radius of curvature in meters for both lane lines\n",
    "left_curverad, right_curverad = measure_curvature_real()\n",
    "\n",
    "print(left_curverad, 'm', right_curverad, 'm')\n",
    "# Should see values of 533.75 and 648.16 here, if using\n",
    "# the default `generate_data` function with given seed number"
   ]
  },
  {
   "cell_type": "code",
   "execution_count": null,
   "id": "56878597",
   "metadata": {},
   "outputs": [],
   "source": []
  }
 ],
 "metadata": {
  "kernelspec": {
   "display_name": "Python 3 (ipykernel)",
   "language": "python",
   "name": "python3"
  },
  "language_info": {
   "codemirror_mode": {
    "name": "ipython",
    "version": 3
   },
   "file_extension": ".py",
   "mimetype": "text/x-python",
   "name": "python",
   "nbconvert_exporter": "python",
   "pygments_lexer": "ipython3",
   "version": "3.9.6"
  }
 },
 "nbformat": 4,
 "nbformat_minor": 5
}
