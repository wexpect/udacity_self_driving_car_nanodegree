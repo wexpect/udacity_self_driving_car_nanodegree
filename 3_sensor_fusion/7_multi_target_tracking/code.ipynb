{
 "cells": [
  {
   "cell_type": "code",
   "execution_count": 1,
   "id": "1cff0c48",
   "metadata": {},
   "outputs": [],
   "source": [
    "import numpy as np\n",
    "\n",
    "from matplotlib import pyplot as plt\n",
    "\n",
    "from scipy.stats import chi2"
   ]
  },
  {
   "cell_type": "code",
   "execution_count": 2,
   "id": "9531d9aa",
   "metadata": {},
   "outputs": [
    {
     "data": {
      "text/plain": [
       "10.596634733096073"
      ]
     },
     "execution_count": 2,
     "metadata": {},
     "output_type": "execute_result"
    }
   ],
   "source": [
    "chi2.ppf(0.995, 2)"
   ]
  },
  {
   "cell_type": "code",
   "execution_count": 72,
   "id": "23c2ed40",
   "metadata": {},
   "outputs": [
    {
     "data": {
      "text/plain": [
       "matrix([[ 1.,  2.,  3.],\n",
       "        [ 4.,  5., -6.],\n",
       "        [ 7.,  8., inf]])"
      ]
     },
     "execution_count": 72,
     "metadata": {},
     "output_type": "execute_result"
    }
   ],
   "source": [
    "a_mat = np.matrix([\n",
    "    [1, 2, 3],\n",
    "    [4, 5, -6],\n",
    "    [7, 8, np.inf]\n",
    "])\n",
    "\n",
    "\n",
    "# a_mat = np.ones((3,3)) * np.inf\n",
    "\n",
    "a_mat\n",
    "\n",
    "# - find indices of closest track and measurement for next update\n",
    "# - return NAN if no more associations can be found (i.e. minimum entry in association matrix is infinity)\n",
    "# - delete row and column in association matrix for closest track and measurement\n",
    "# - remove found track number from unassigned_tracks, meas number from unassigned_meas\n",
    "# - return indices of closest track and measurement for next update"
   ]
  },
  {
   "cell_type": "code",
   "execution_count": 73,
   "id": "e617e893",
   "metadata": {},
   "outputs": [],
   "source": [
    "b_mat = a_mat"
   ]
  },
  {
   "cell_type": "code",
   "execution_count": 74,
   "id": "fa6d4023",
   "metadata": {},
   "outputs": [
    {
     "data": {
      "text/plain": [
       "5"
      ]
     },
     "execution_count": 74,
     "metadata": {},
     "output_type": "execute_result"
    }
   ],
   "source": [
    "np.argmin(a_mat)"
   ]
  },
  {
   "cell_type": "code",
   "execution_count": 75,
   "id": "a2687236",
   "metadata": {},
   "outputs": [
    {
     "data": {
      "text/plain": [
       "(1, 2)"
      ]
     },
     "execution_count": 75,
     "metadata": {},
     "output_type": "execute_result"
    }
   ],
   "source": [
    "min_row, min_col = np.unravel_index(np.argmin(a_mat, axis=None), a_mat.shape)\n",
    "min_row, min_col"
   ]
  },
  {
   "cell_type": "code",
   "execution_count": 76,
   "id": "6abb5dd0",
   "metadata": {},
   "outputs": [
    {
     "data": {
      "text/plain": [
       "-6.0"
      ]
     },
     "execution_count": 76,
     "metadata": {},
     "output_type": "execute_result"
    }
   ],
   "source": [
    "min_val = a_mat[min_row, min_col]\n",
    "min_val"
   ]
  },
  {
   "cell_type": "code",
   "execution_count": 77,
   "id": "3d8fb534",
   "metadata": {},
   "outputs": [
    {
     "name": "stdout",
     "output_type": "stream",
     "text": [
      "go\n"
     ]
    }
   ],
   "source": [
    "if min_val == np.inf:\n",
    "    print('return')\n",
    "else:\n",
    "    print('go')"
   ]
  },
  {
   "cell_type": "code",
   "execution_count": 78,
   "id": "5b807061",
   "metadata": {},
   "outputs": [
    {
     "data": {
      "text/plain": [
       "matrix([[ 1.,  2.,  3.],\n",
       "        [ 7.,  8., inf]])"
      ]
     },
     "execution_count": 78,
     "metadata": {},
     "output_type": "execute_result"
    }
   ],
   "source": [
    "a_mat = np.delete(a_mat, min_row, axis=0)\n",
    "a_mat"
   ]
  },
  {
   "cell_type": "code",
   "execution_count": 79,
   "id": "7bd8f062",
   "metadata": {},
   "outputs": [
    {
     "data": {
      "text/plain": [
       "matrix([[1., 2.],\n",
       "        [7., 8.]])"
      ]
     },
     "execution_count": 79,
     "metadata": {},
     "output_type": "execute_result"
    }
   ],
   "source": [
    "a_mat = np.delete(a_mat, min_col, axis=1)\n",
    "a_mat"
   ]
  },
  {
   "cell_type": "code",
   "execution_count": 80,
   "id": "4379fda6",
   "metadata": {},
   "outputs": [
    {
     "data": {
      "text/plain": [
       "matrix([[ 1.,  2.,  3.],\n",
       "        [ 4.,  5., -6.],\n",
       "        [ 7.,  8., inf]])"
      ]
     },
     "execution_count": 80,
     "metadata": {},
     "output_type": "execute_result"
    }
   ],
   "source": [
    "b_mat"
   ]
  },
  {
   "cell_type": "code",
   "execution_count": 81,
   "id": "b1daa4b3",
   "metadata": {},
   "outputs": [
    {
     "data": {
      "text/plain": [
       "[0, 1, 2]"
      ]
     },
     "execution_count": 81,
     "metadata": {},
     "output_type": "execute_result"
    }
   ],
   "source": [
    "track_list = list(range(3))\n",
    "track_list"
   ]
  },
  {
   "cell_type": "code",
   "execution_count": 82,
   "id": "b45287f2",
   "metadata": {},
   "outputs": [
    {
     "data": {
      "text/plain": [
       "array([0, 2])"
      ]
     },
     "execution_count": 82,
     "metadata": {},
     "output_type": "execute_result"
    }
   ],
   "source": [
    "track_list = np.delete(track_list, min_row)\n",
    "track_list"
   ]
  },
  {
   "cell_type": "code",
   "execution_count": 83,
   "id": "d03b4e9d",
   "metadata": {},
   "outputs": [
    {
     "data": {
      "text/plain": [
       "[0, 1, 2]"
      ]
     },
     "execution_count": 83,
     "metadata": {},
     "output_type": "execute_result"
    }
   ],
   "source": [
    "mea_list = list(range(3))\n",
    "mea_list"
   ]
  },
  {
   "cell_type": "code",
   "execution_count": 84,
   "id": "801542f1",
   "metadata": {},
   "outputs": [
    {
     "data": {
      "text/plain": [
       "array([0, 1])"
      ]
     },
     "execution_count": 84,
     "metadata": {},
     "output_type": "execute_result"
    }
   ],
   "source": [
    "mea_list = np.delete(mea_list, min_col)\n",
    "mea_list"
   ]
  },
  {
   "cell_type": "code",
   "execution_count": null,
   "id": "50e455aa",
   "metadata": {},
   "outputs": [],
   "source": []
  },
  {
   "cell_type": "code",
   "execution_count": 88,
   "id": "07aba603",
   "metadata": {},
   "outputs": [
    {
     "data": {
      "text/plain": [
       "0.0"
      ]
     },
     "execution_count": 88,
     "metadata": {},
     "output_type": "execute_result"
    }
   ],
   "source": [
    "np.max([0, -0.1])"
   ]
  },
  {
   "cell_type": "code",
   "execution_count": 89,
   "id": "17634078",
   "metadata": {},
   "outputs": [
    {
     "data": {
      "text/plain": [
       "1.0"
      ]
     },
     "execution_count": 89,
     "metadata": {},
     "output_type": "execute_result"
    }
   ],
   "source": [
    "np.min([1, 1.2])"
   ]
  },
  {
   "cell_type": "code",
   "execution_count": 94,
   "id": "ac8db1ef",
   "metadata": {},
   "outputs": [
    {
     "data": {
      "text/plain": [
       "False"
      ]
     },
     "execution_count": 94,
     "metadata": {},
     "output_type": "execute_result"
    }
   ],
   "source": [
    "True & False"
   ]
  },
  {
   "cell_type": "code",
   "execution_count": 97,
   "id": "16703cef",
   "metadata": {},
   "outputs": [
    {
     "data": {
      "text/plain": [
       "True"
      ]
     },
     "execution_count": 97,
     "metadata": {},
     "output_type": "execute_result"
    }
   ],
   "source": [
    "True | False"
   ]
  },
  {
   "cell_type": "code",
   "execution_count": null,
   "id": "84c30424",
   "metadata": {},
   "outputs": [],
   "source": []
  },
  {
   "cell_type": "code",
   "execution_count": null,
   "id": "320f1efa",
   "metadata": {},
   "outputs": [],
   "source": [
    "1, QA: when to decrease track score outside FOV?"
   ]
  }
 ],
 "metadata": {
  "kernelspec": {
   "display_name": "Python 3 (ipykernel)",
   "language": "python",
   "name": "python3"
  },
  "language_info": {
   "codemirror_mode": {
    "name": "ipython",
    "version": 3
   },
   "file_extension": ".py",
   "mimetype": "text/x-python",
   "name": "python",
   "nbconvert_exporter": "python",
   "pygments_lexer": "ipython3",
   "version": "3.9.6"
  }
 },
 "nbformat": 4,
 "nbformat_minor": 5
}
