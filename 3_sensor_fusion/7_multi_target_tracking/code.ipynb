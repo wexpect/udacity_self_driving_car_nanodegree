{
 "cells": [
  {
   "cell_type": "code",
   "execution_count": 1,
   "id": "66989fd3",
   "metadata": {},
   "outputs": [],
   "source": [
    "import numpy as np\n",
    "\n",
    "from matplotlib import pyplot as plt\n",
    "\n",
    "from scipy.stats import chi2"
   ]
  },
  {
   "cell_type": "code",
   "execution_count": 2,
   "id": "8494991e",
   "metadata": {},
   "outputs": [
    {
     "data": {
      "text/plain": [
       "10.596634733096073"
      ]
     },
     "execution_count": 2,
     "metadata": {},
     "output_type": "execute_result"
    }
   ],
   "source": [
    "chi2.ppf(0.995, 2)"
   ]
  },
  {
   "cell_type": "code",
   "execution_count": 72,
   "id": "22dc7c5b",
   "metadata": {},
   "outputs": [
    {
     "data": {
      "text/plain": [
       "matrix([[ 1.,  2.,  3.],\n",
       "        [ 4.,  5., -6.],\n",
       "        [ 7.,  8., inf]])"
      ]
     },
     "execution_count": 72,
     "metadata": {},
     "output_type": "execute_result"
    }
   ],
   "source": [
    "a_mat = np.matrix([\n",
    "    [1, 2, 3],\n",
    "    [4, 5, -6],\n",
    "    [7, 8, np.inf]\n",
    "])\n",
    "\n",
    "\n",
    "# a_mat = np.ones((3,3)) * np.inf\n",
    "\n",
    "a_mat\n",
    "\n",
    "# - find indices of closest track and measurement for next update\n",
    "# - return NAN if no more associations can be found (i.e. minimum entry in association matrix is infinity)\n",
    "# - delete row and column in association matrix for closest track and measurement\n",
    "# - remove found track number from unassigned_tracks, meas number from unassigned_meas\n",
    "# - return indices of closest track and measurement for next update"
   ]
  },
  {
   "cell_type": "code",
   "execution_count": 73,
   "id": "2ada3642",
   "metadata": {},
   "outputs": [],
   "source": [
    "b_mat = a_mat"
   ]
  },
  {
   "cell_type": "code",
   "execution_count": 98,
   "id": "69028f62",
   "metadata": {},
   "outputs": [
    {
     "data": {
      "text/plain": [
       "matrix([[ 1.,  2.,  3.],\n",
       "        [ 4.,  5., -6.],\n",
       "        [ 7.,  8., inf]])"
      ]
     },
     "execution_count": 98,
     "metadata": {},
     "output_type": "execute_result"
    }
   ],
   "source": [
    "b_mat\n"
   ]
  },
  {
   "cell_type": "code",
   "execution_count": 74,
   "id": "f534f06c",
   "metadata": {},
   "outputs": [
    {
     "data": {
      "text/plain": [
       "5"
      ]
     },
     "execution_count": 74,
     "metadata": {},
     "output_type": "execute_result"
    }
   ],
   "source": [
    "np.argmin(a_mat)"
   ]
  },
  {
   "cell_type": "code",
   "execution_count": 75,
   "id": "72f6b366",
   "metadata": {},
   "outputs": [
    {
     "data": {
      "text/plain": [
       "(1, 2)"
      ]
     },
     "execution_count": 75,
     "metadata": {},
     "output_type": "execute_result"
    }
   ],
   "source": [
    "min_row, min_col = np.unravel_index(np.argmin(a_mat, axis=None), a_mat.shape)\n",
    "min_row, min_col"
   ]
  },
  {
   "cell_type": "code",
   "execution_count": 76,
   "id": "b9117d81",
   "metadata": {},
   "outputs": [
    {
     "data": {
      "text/plain": [
       "-6.0"
      ]
     },
     "execution_count": 76,
     "metadata": {},
     "output_type": "execute_result"
    }
   ],
   "source": [
    "min_val = a_mat[min_row, min_col]\n",
    "min_val"
   ]
  },
  {
   "cell_type": "code",
   "execution_count": 77,
   "id": "7145a18f",
   "metadata": {},
   "outputs": [
    {
     "name": "stdout",
     "output_type": "stream",
     "text": [
      "go\n"
     ]
    }
   ],
   "source": [
    "if min_val == np.inf:\n",
    "    print('return')\n",
    "else:\n",
    "    print('go')"
   ]
  },
  {
   "cell_type": "code",
   "execution_count": 78,
   "id": "39288572",
   "metadata": {},
   "outputs": [
    {
     "data": {
      "text/plain": [
       "matrix([[ 1.,  2.,  3.],\n",
       "        [ 7.,  8., inf]])"
      ]
     },
     "execution_count": 78,
     "metadata": {},
     "output_type": "execute_result"
    }
   ],
   "source": [
    "a_mat = np.delete(a_mat, min_row, axis=0)\n",
    "a_mat"
   ]
  },
  {
   "cell_type": "code",
   "execution_count": 79,
   "id": "69bba270",
   "metadata": {},
   "outputs": [
    {
     "data": {
      "text/plain": [
       "matrix([[1., 2.],\n",
       "        [7., 8.]])"
      ]
     },
     "execution_count": 79,
     "metadata": {},
     "output_type": "execute_result"
    }
   ],
   "source": [
    "a_mat = np.delete(a_mat, min_col, axis=1)\n",
    "a_mat"
   ]
  },
  {
   "cell_type": "code",
   "execution_count": 80,
   "id": "d0b450f0",
   "metadata": {},
   "outputs": [
    {
     "data": {
      "text/plain": [
       "matrix([[ 1.,  2.,  3.],\n",
       "        [ 4.,  5., -6.],\n",
       "        [ 7.,  8., inf]])"
      ]
     },
     "execution_count": 80,
     "metadata": {},
     "output_type": "execute_result"
    }
   ],
   "source": [
    "b_mat"
   ]
  },
  {
   "cell_type": "code",
   "execution_count": 81,
   "id": "4363d21a",
   "metadata": {},
   "outputs": [
    {
     "data": {
      "text/plain": [
       "[0, 1, 2]"
      ]
     },
     "execution_count": 81,
     "metadata": {},
     "output_type": "execute_result"
    }
   ],
   "source": [
    "track_list = list(range(3))\n",
    "track_list"
   ]
  },
  {
   "cell_type": "code",
   "execution_count": 82,
   "id": "2048a92c",
   "metadata": {},
   "outputs": [
    {
     "data": {
      "text/plain": [
       "array([0, 2])"
      ]
     },
     "execution_count": 82,
     "metadata": {},
     "output_type": "execute_result"
    }
   ],
   "source": [
    "track_list = np.delete(track_list, min_row)\n",
    "track_list"
   ]
  },
  {
   "cell_type": "code",
   "execution_count": 83,
   "id": "9d59168f",
   "metadata": {},
   "outputs": [
    {
     "data": {
      "text/plain": [
       "[0, 1, 2]"
      ]
     },
     "execution_count": 83,
     "metadata": {},
     "output_type": "execute_result"
    }
   ],
   "source": [
    "mea_list = list(range(3))\n",
    "mea_list"
   ]
  },
  {
   "cell_type": "code",
   "execution_count": 84,
   "id": "8443df9f",
   "metadata": {},
   "outputs": [
    {
     "data": {
      "text/plain": [
       "array([0, 1])"
      ]
     },
     "execution_count": 84,
     "metadata": {},
     "output_type": "execute_result"
    }
   ],
   "source": [
    "mea_list = np.delete(mea_list, min_col)\n",
    "mea_list"
   ]
  },
  {
   "cell_type": "code",
   "execution_count": null,
   "id": "4230c091",
   "metadata": {},
   "outputs": [],
   "source": []
  },
  {
   "cell_type": "code",
   "execution_count": 88,
   "id": "ce51024e",
   "metadata": {},
   "outputs": [
    {
     "data": {
      "text/plain": [
       "0.0"
      ]
     },
     "execution_count": 88,
     "metadata": {},
     "output_type": "execute_result"
    }
   ],
   "source": [
    "np.max([0, -0.1])"
   ]
  },
  {
   "cell_type": "code",
   "execution_count": 89,
   "id": "331abdfb",
   "metadata": {},
   "outputs": [
    {
     "data": {
      "text/plain": [
       "1.0"
      ]
     },
     "execution_count": 89,
     "metadata": {},
     "output_type": "execute_result"
    }
   ],
   "source": [
    "np.min([1, 1.2])"
   ]
  },
  {
   "cell_type": "code",
   "execution_count": 94,
   "id": "d25f22ea",
   "metadata": {},
   "outputs": [
    {
     "data": {
      "text/plain": [
       "False"
      ]
     },
     "execution_count": 94,
     "metadata": {},
     "output_type": "execute_result"
    }
   ],
   "source": [
    "True & False"
   ]
  },
  {
   "cell_type": "code",
   "execution_count": 97,
   "id": "25200761",
   "metadata": {},
   "outputs": [
    {
     "data": {
      "text/plain": [
       "True"
      ]
     },
     "execution_count": 97,
     "metadata": {},
     "output_type": "execute_result"
    }
   ],
   "source": [
    "True | False"
   ]
  },
  {
   "cell_type": "code",
   "execution_count": null,
   "id": "c2329021",
   "metadata": {},
   "outputs": [],
   "source": []
  },
  {
   "cell_type": "code",
   "execution_count": 102,
   "id": "a5ba0d24",
   "metadata": {},
   "outputs": [],
   "source": [
    "x = np.matrix([[10],\n",
    "               [1],\n",
    "               [-1],\n",
    "               [0],\n",
    "               [0],\n",
    "               [0]])"
   ]
  },
  {
   "cell_type": "code",
   "execution_count": 107,
   "id": "81f85a0a",
   "metadata": {},
   "outputs": [
    {
     "data": {
      "text/plain": [
       "matrix([[10]])"
      ]
     },
     "execution_count": 107,
     "metadata": {},
     "output_type": "execute_result"
    }
   ],
   "source": [
    "x[0][0]"
   ]
  },
  {
   "cell_type": "code",
   "execution_count": 108,
   "id": "17203cef",
   "metadata": {},
   "outputs": [
    {
     "data": {
      "text/plain": [
       "10"
      ]
     },
     "execution_count": 108,
     "metadata": {},
     "output_type": "execute_result"
    }
   ],
   "source": [
    "x[0, 0]"
   ]
  },
  {
   "cell_type": "code",
   "execution_count": null,
   "id": "ac7a097c",
   "metadata": {},
   "outputs": [],
   "source": []
  },
  {
   "cell_type": "code",
   "execution_count": null,
   "id": "a8bc61eb",
   "metadata": {},
   "outputs": [],
   "source": [
    "1, QA: when to decrease track score outside FOV?"
   ]
  }
 ],
 "metadata": {
  "kernelspec": {
   "display_name": "Python 3 (ipykernel)",
   "language": "python",
   "name": "python3"
  },
  "language_info": {
   "codemirror_mode": {
    "name": "ipython",
    "version": 3
   },
   "file_extension": ".py",
   "mimetype": "text/x-python",
   "name": "python",
   "nbconvert_exporter": "python",
   "pygments_lexer": "ipython3",
   "version": "3.9.6"
  }
 },
 "nbformat": 4,
 "nbformat_minor": 5
}
