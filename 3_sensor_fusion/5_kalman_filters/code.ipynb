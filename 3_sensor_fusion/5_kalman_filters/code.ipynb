{
 "cells": [
  {
   "cell_type": "markdown",
   "id": "d5a55c05",
   "metadata": {},
   "source": [
    "# 7. Maximize Gaussian"
   ]
  },
  {
   "cell_type": "code",
   "execution_count": 5,
   "id": "b2c096d3",
   "metadata": {},
   "outputs": [],
   "source": [
    "import numpy as np\n",
    "\n",
    "from matplotlib import pyplot as plt\n"
   ]
  },
  {
   "cell_type": "code",
   "execution_count": 2,
   "id": "281d9af1",
   "metadata": {},
   "outputs": [
    {
     "data": {
      "text/plain": [
       "3.141592653589793"
      ]
     },
     "execution_count": 2,
     "metadata": {},
     "output_type": "execute_result"
    }
   ],
   "source": [
    "np.pi"
   ]
  },
  {
   "cell_type": "code",
   "execution_count": 3,
   "id": "ccf095e0",
   "metadata": {},
   "outputs": [
    {
     "data": {
      "text/plain": [
       "2.718281828459045"
      ]
     },
     "execution_count": 3,
     "metadata": {},
     "output_type": "execute_result"
    }
   ],
   "source": [
    "np.exp(1)"
   ]
  },
  {
   "cell_type": "code",
   "execution_count": 4,
   "id": "f65fc176",
   "metadata": {},
   "outputs": [],
   "source": [
    "def f(mu, sigma2, x):\n",
    "    val = 1/np.sqrt(2 * np.pi * sigma2) * np.exp(-1/2 * ((x - mu)** 2) / sigma2)\n",
    "    return val"
   ]
  },
  {
   "cell_type": "code",
   "execution_count": 5,
   "id": "d143c91a",
   "metadata": {},
   "outputs": [
    {
     "data": {
      "text/plain": [
       "0.12098536225957168"
      ]
     },
     "execution_count": 5,
     "metadata": {},
     "output_type": "execute_result"
    }
   ],
   "source": [
    "f(10, 4, 8)"
   ]
  },
  {
   "cell_type": "code",
   "execution_count": 6,
   "id": "323c208d",
   "metadata": {},
   "outputs": [
    {
     "data": {
      "text/plain": [
       "0.19947114020071635"
      ]
     },
     "execution_count": 6,
     "metadata": {},
     "output_type": "execute_result"
    }
   ],
   "source": [
    "f(10, 4, 10)"
   ]
  },
  {
   "cell_type": "code",
   "execution_count": 7,
   "id": "71fa746e",
   "metadata": {},
   "outputs": [
    {
     "data": {
      "text/plain": [
       "0.12098536225957168"
      ]
     },
     "execution_count": 7,
     "metadata": {},
     "output_type": "execute_result"
    }
   ],
   "source": [
    "f(10, 4, 12)"
   ]
  },
  {
   "cell_type": "code",
   "execution_count": null,
   "id": "e17313ec",
   "metadata": {},
   "outputs": [],
   "source": []
  },
  {
   "cell_type": "markdown",
   "id": "05e27b6a",
   "metadata": {},
   "source": [
    "# 15. New Mean and Variance"
   ]
  },
  {
   "cell_type": "code",
   "execution_count": 14,
   "id": "c5742d9b",
   "metadata": {},
   "outputs": [],
   "source": [
    "# mu = 10\n",
    "# sigma2 = 4\n",
    "# nu = 12\n",
    "# r2 = 4\n",
    "\n",
    "mu = 10\n",
    "sigma2 = 8\n",
    "nu = 13\n",
    "r2 = 2"
   ]
  },
  {
   "cell_type": "code",
   "execution_count": 15,
   "id": "5efe6742",
   "metadata": {},
   "outputs": [],
   "source": [
    "mu_prime = (r2 * mu + sigma2 * nu) / (sigma2 + r2)\n",
    "sigma2_prime = 1 / (1/sigma2 + 1/r2)"
   ]
  },
  {
   "cell_type": "code",
   "execution_count": 16,
   "id": "cbb411b0",
   "metadata": {},
   "outputs": [
    {
     "data": {
      "text/plain": [
       "(12.4, 1.6)"
      ]
     },
     "execution_count": 16,
     "metadata": {},
     "output_type": "execute_result"
    }
   ],
   "source": [
    "mu_prime, sigma2_prime"
   ]
  },
  {
   "cell_type": "code",
   "execution_count": 17,
   "id": "09c740a9",
   "metadata": {},
   "outputs": [
    {
     "data": {
      "text/plain": [
       "0.14104739588693907"
      ]
     },
     "execution_count": 17,
     "metadata": {},
     "output_type": "execute_result"
    }
   ],
   "source": [
    "f(mu, sigma2, mu)"
   ]
  },
  {
   "cell_type": "code",
   "execution_count": 18,
   "id": "ac9bbbb3",
   "metadata": {},
   "outputs": [
    {
     "data": {
      "text/plain": [
       "0.28209479177387814"
      ]
     },
     "execution_count": 18,
     "metadata": {},
     "output_type": "execute_result"
    }
   ],
   "source": [
    "f(nu, r2, nu)"
   ]
  },
  {
   "cell_type": "code",
   "execution_count": 19,
   "id": "e118a945",
   "metadata": {},
   "outputs": [
    {
     "data": {
      "text/plain": [
       "0.31539156525252005"
      ]
     },
     "execution_count": 19,
     "metadata": {},
     "output_type": "execute_result"
    }
   ],
   "source": [
    "f(mu_prime, sigma2_prime, mu_prime)"
   ]
  },
  {
   "cell_type": "code",
   "execution_count": 20,
   "id": "6eaaeca1",
   "metadata": {},
   "outputs": [],
   "source": [
    "def update(mean1, var1, mean2, var2):\n",
    "    new_mean = (var2 * mean1 + var1 * mean2) / (var1 + var2)\n",
    "    new_var = 1 / (1/var1 + 1/var2)\n",
    "    return [new_mean, new_var]"
   ]
  },
  {
   "cell_type": "code",
   "execution_count": 21,
   "id": "ed0cb446",
   "metadata": {},
   "outputs": [
    {
     "data": {
      "text/plain": [
       "[12.4, 1.6]"
      ]
     },
     "execution_count": 21,
     "metadata": {},
     "output_type": "execute_result"
    }
   ],
   "source": [
    "update(10, 8, 13, 2)"
   ]
  },
  {
   "cell_type": "code",
   "execution_count": null,
   "id": "895d3170",
   "metadata": {},
   "outputs": [],
   "source": []
  },
  {
   "cell_type": "markdown",
   "id": "19ad69ba",
   "metadata": {},
   "source": [
    "# 17. Prediction Function"
   ]
  },
  {
   "cell_type": "code",
   "execution_count": 22,
   "id": "014a3fe0",
   "metadata": {},
   "outputs": [],
   "source": [
    "def predict(mean1, var1, mean2, var2):\n",
    "    new_mean = mean1 + mean2\n",
    "    new_var = var1 + var2\n",
    "    return [new_mean, new_var]"
   ]
  },
  {
   "cell_type": "code",
   "execution_count": 23,
   "id": "0614bdee",
   "metadata": {},
   "outputs": [
    {
     "data": {
      "text/plain": [
       "[22, 8]"
      ]
     },
     "execution_count": 23,
     "metadata": {},
     "output_type": "execute_result"
    }
   ],
   "source": [
    "predict(10, 4, 12, 4)"
   ]
  },
  {
   "cell_type": "code",
   "execution_count": null,
   "id": "f5e4b09d",
   "metadata": {},
   "outputs": [],
   "source": []
  },
  {
   "cell_type": "markdown",
   "id": "69dd2e7f",
   "metadata": {},
   "source": [
    "# 18. Kalman Filter Code"
   ]
  },
  {
   "cell_type": "code",
   "execution_count": null,
   "id": "ec3c78ad",
   "metadata": {},
   "outputs": [],
   "source": [
    "# Please return ONLY the final values of the mean and the variance in a list [mu, sig]. \n",
    "\n",
    "def kalman(measurements, motion, measurement_sig, motion_sig, mu, sig):\n",
    "    # TODO: Insert code here\n",
    "    print('start', mu, sig)\n",
    "    \n",
    "    for i in range(len(measurements)):\n",
    "        print('\\nround i')\n",
    "        \n",
    "        measurement = measurements[i]\n",
    "        print('measurement', measurement, measurement_sig)\n",
    "        \n",
    "        mu, sig = update(mu, sig, measurement, measurement_sig)\n",
    "        print('update', mu, sig)\n",
    "        \n",
    "        mot = motion[i]\n",
    "        print('mot', mot, motion_sig)\n",
    "        \n",
    "        mu, sig = predict(mu, sig, mot, motion_sig)\n",
    "        print('predict', mu, sig)\n",
    "    \n",
    "        \n",
    "    return [mu, sig]"
   ]
  },
  {
   "cell_type": "code",
   "execution_count": 28,
   "id": "14241417",
   "metadata": {},
   "outputs": [
    {
     "name": "stdout",
     "output_type": "stream",
     "text": [
      "start 0.0 10000.0\n",
      "\n",
      "round i\n",
      "measurement 5.0 4.0\n",
      "update 4.998000799680128 3.9984006397441023\n",
      "mot 1.0 2.0\n",
      "predict 5.998000799680128 5.998400639744102\n",
      "\n",
      "round i\n",
      "measurement 6.0 4.0\n",
      "update 5.999200191953932 2.399744061425258\n",
      "mot 1.0 2.0\n",
      "predict 6.999200191953932 4.399744061425258\n",
      "\n",
      "round i\n",
      "measurement 7.0 4.0\n",
      "update 6.999619127420922 2.0951800575117594\n",
      "mot 2.0 2.0\n",
      "predict 8.999619127420921 4.09518005751176\n",
      "\n",
      "round i\n",
      "measurement 9.0 4.0\n",
      "update 8.999811802788143 2.0235152416216957\n",
      "mot 1.0 2.0\n",
      "predict 9.999811802788143 4.023515241621696\n",
      "\n",
      "round i\n",
      "measurement 10.0 4.0\n",
      "update 9.999906177177365 2.0058615808441944\n",
      "mot 1.0 2.0\n",
      "predict 10.999906177177365 4.005861580844194\n"
     ]
    },
    {
     "data": {
      "text/plain": [
       "[10.999906177177365, 4.005861580844194]"
      ]
     },
     "execution_count": 28,
     "metadata": {},
     "output_type": "execute_result"
    }
   ],
   "source": [
    "# estimate of position\n",
    "mu = 0.  \n",
    "sig = 10000.\n",
    "\n",
    "# measurement of position\n",
    "measurements = [5., 6., 7., 9., 10.]  \n",
    "measurement_sig = 4.\n",
    "\n",
    "# motion\n",
    "motion = [1., 1., 2., 1., 1.]  \n",
    "motion_sig = 2.\n",
    "\n",
    "kalman(measurements, motion, measurement_sig, motion_sig, mu, sig)"
   ]
  },
  {
   "cell_type": "code",
   "execution_count": 29,
   "id": "8b3df304",
   "metadata": {},
   "outputs": [
    {
     "name": "stdout",
     "output_type": "stream",
     "text": [
      "start 0.0 1e-11\n",
      "\n",
      "round i\n",
      "measurement 5.0 4.0\n",
      "update 1.2499999999968749e-11 9.999999999975e-12\n",
      "mot 1.0 2.0\n",
      "predict 1.0000000000125 2.00000000001\n",
      "\n",
      "round i\n",
      "measurement 6.0 4.0\n",
      "update 2.6666666666805554 1.3333333333377777\n",
      "mot 1.0 2.0\n",
      "predict 3.6666666666805554 3.3333333333377775\n",
      "\n",
      "round i\n",
      "measurement 7.0 4.0\n",
      "update 5.181818181826859 1.8181818181831404\n",
      "mot 2.0 2.0\n",
      "predict 7.181818181826859 3.8181818181831404\n",
      "\n",
      "round i\n",
      "measurement 9.0 4.0\n",
      "update 8.069767441865062 1.9534883720933691\n",
      "mot 1.0 2.0\n",
      "predict 9.069767441865062 3.953488372093369\n",
      "\n",
      "round i\n",
      "measurement 10.0 4.0\n",
      "update 9.53216374269239 1.9883040935673388\n",
      "mot 1.0 2.0\n",
      "predict 10.53216374269239 3.988304093567339\n"
     ]
    },
    {
     "data": {
      "text/plain": [
       "[10.53216374269239, 3.988304093567339]"
      ]
     },
     "execution_count": 29,
     "metadata": {},
     "output_type": "execute_result"
    }
   ],
   "source": [
    "mu = 0.\n",
    "sig = 0.00000000001\n",
    "\n",
    "measurements = [5., 6., 7., 9., 10.]\n",
    "measurement_sig = 4.\n",
    "\n",
    "motion = [1., 1., 2., 1., 1.]\n",
    "motion_sig = 2.\n",
    "\n",
    "kalman(measurements, motion, measurement_sig, motion_sig, mu, sig)"
   ]
  },
  {
   "cell_type": "code",
   "execution_count": null,
   "id": "dee35c7f",
   "metadata": {},
   "outputs": [],
   "source": []
  },
  {
   "cell_type": "markdown",
   "id": "2d7140f9",
   "metadata": {},
   "source": [
    "# 25. Kalman Matrices"
   ]
  },
  {
   "cell_type": "code",
   "execution_count": 30,
   "id": "8090731d",
   "metadata": {},
   "outputs": [],
   "source": [
    "# This cell helps implement a matrix class for you.\n",
    "# Make sure to run this first before you continue!\n",
    "\n",
    "from math import *\n",
    "\n",
    "class matrix:\n",
    "    \n",
    "    # implements basic operations of a matrix class\n",
    "    \n",
    "    def __init__(self, value):\n",
    "        self.value = value\n",
    "        self.dimx = len(value)\n",
    "        self.dimy = len(value[0])\n",
    "        if value == [[]]:\n",
    "            self.dimx = 0\n",
    "    \n",
    "    def zero(self, dimx, dimy):\n",
    "        # check if valid dimensions\n",
    "        if dimx < 1 or dimy < 1:\n",
    "            raise ValueError(\"Invalid size of matrix\")\n",
    "        else:\n",
    "            self.dimx = dimx\n",
    "            self.dimy = dimy\n",
    "            self.value = [[0 for row in range(dimy)] for col in range(dimx)]\n",
    "    \n",
    "    def identity(self, dim):\n",
    "        # check if valid dimension\n",
    "        if dim < 1:\n",
    "            raise ValueError(\"Invalid size of matrix\")\n",
    "        else:\n",
    "            self.dimx = dim\n",
    "            self.dimy = dim\n",
    "            self.value = [[0 for row in range(dim)] for col in range(dim)]\n",
    "            for i in range(dim):\n",
    "                self.value[i][i] = 1\n",
    "    \n",
    "    def show(self):\n",
    "        for i in range(self.dimx):\n",
    "            print(self.value[i])\n",
    "        print(' ')\n",
    "    \n",
    "    def __add__(self, other):\n",
    "        # check if correct dimensions\n",
    "        if self.dimx != other.dimx or self.dimy != other.dimy:\n",
    "            raise ValueError(\"Matrices must be of equal dimensions to add\")\n",
    "        else:\n",
    "            # add if correct dimensions\n",
    "            res = matrix([[]])\n",
    "            res.zero(self.dimx, self.dimy)\n",
    "            for i in range(self.dimx):\n",
    "                for j in range(self.dimy):\n",
    "                    res.value[i][j] = self.value[i][j] + other.value[i][j]\n",
    "            return res\n",
    "    \n",
    "    def __sub__(self, other):\n",
    "        # check if correct dimensions\n",
    "        if self.dimx != other.dimx or self.dimy != other.dimy:\n",
    "            raise ValueError(\"Matrices must be of equal dimensions to subtract\")\n",
    "        else:\n",
    "            # subtract if correct dimensions\n",
    "            res = matrix([[]])\n",
    "            res.zero(self.dimx, self.dimy)\n",
    "            for i in range(self.dimx):\n",
    "                for j in range(self.dimy):\n",
    "                    res.value[i][j] = self.value[i][j] - other.value[i][j]\n",
    "            return res\n",
    "    \n",
    "    def __mul__(self, other):\n",
    "        # check if correct dimensions\n",
    "        if self.dimy != other.dimx:\n",
    "            raise ValueError(\"Matrices must be m*n and n*p to multiply\")\n",
    "        else:\n",
    "            # multiply if correct dimensions\n",
    "            res = matrix([[]])\n",
    "            res.zero(self.dimx, other.dimy)\n",
    "            for i in range(self.dimx):\n",
    "                for j in range(other.dimy):\n",
    "                    for k in range(self.dimy):\n",
    "                        res.value[i][j] += self.value[i][k] * other.value[k][j]\n",
    "            return res\n",
    "    \n",
    "    def transpose(self):\n",
    "        # compute transpose\n",
    "        res = matrix([[]])\n",
    "        res.zero(self.dimy, self.dimx)\n",
    "        for i in range(self.dimx):\n",
    "            for j in range(self.dimy):\n",
    "                res.value[j][i] = self.value[i][j]\n",
    "        return res\n",
    "    \n",
    "    # Thanks to Ernesto P. Adorio for use of Cholesky and CholeskyInverse functions\n",
    "    \n",
    "    def Cholesky(self, ztol=1.0e-5):\n",
    "        # Computes the upper triangular Cholesky factorization of\n",
    "        # a positive definite matrix.\n",
    "        res = matrix([[]])\n",
    "        res.zero(self.dimx, self.dimx)\n",
    "        \n",
    "        for i in range(self.dimx):\n",
    "            S = sum([(res.value[k][i])**2 for k in range(i)])\n",
    "            d = self.value[i][i] - S\n",
    "            if abs(d) < ztol:\n",
    "                res.value[i][i] = 0.0\n",
    "            else:\n",
    "                if d < 0.0:\n",
    "                    raise ValueError(\"Matrix not positive-definite\")\n",
    "                res.value[i][i] = sqrt(d)\n",
    "            for j in range(i+1, self.dimx):\n",
    "                S = sum([res.value[k][i] * res.value[k][j] for k in range(self.dimx)])\n",
    "                if abs(S) < ztol:\n",
    "                    S = 0.0\n",
    "                try:\n",
    "                    res.value[i][j] = (self.value[i][j] - S)/res.value[i][i]\n",
    "                except:\n",
    "                    raise ValueError(\"Zero diagonal\")\n",
    "        return res\n",
    "    \n",
    "    def CholeskyInverse(self):\n",
    "        # Computes inverse of matrix given its Cholesky upper Triangular\n",
    "        # decomposition of matrix.\n",
    "        res = matrix([[]])\n",
    "        res.zero(self.dimx, self.dimx)\n",
    "        \n",
    "        # Backward step for inverse.\n",
    "        for j in reversed(range(self.dimx)):\n",
    "            tjj = self.value[j][j]\n",
    "            S = sum([self.value[j][k]*res.value[j][k] for k in range(j+1, self.dimx)])\n",
    "            res.value[j][j] = 1.0/tjj**2 - S/tjj\n",
    "            for i in reversed(range(j)):\n",
    "                res.value[j][i] = res.value[i][j] = -sum([self.value[i][k]*res.value[k][j] for k in range(i+1, self.dimx)])/self.value[i][i]\n",
    "        return res\n",
    "    \n",
    "    def inverse(self):\n",
    "        aux = self.Cholesky()\n",
    "        res = aux.CholeskyInverse()\n",
    "        return res\n",
    "    \n",
    "    def __repr__(self):\n",
    "        return repr(self.value)"
   ]
  },
  {
   "cell_type": "code",
   "execution_count": 232,
   "id": "bf1962a2",
   "metadata": {},
   "outputs": [],
   "source": [
    "# Write a function 'kalman_filter' that implements a multi-\n",
    "# dimensional Kalman Filter for the example given\n",
    "\n",
    "# Implement the filter function below\n",
    "\n",
    "def kalman_filter(x, P, u, F, H, R, I, measurements):\n",
    "    print('start Kalman Filter')\n",
    "    print('x\\n', x)\n",
    "    print('P\\n', P)        \n",
    "    \n",
    "    max_step = len(measurements) + 1\n",
    "    \n",
    "    step = np.arange(max_step)\n",
    "    \n",
    "    measured_position = np.zeros(max_step)\n",
    "        \n",
    "    updated_position = np.zeros(max_step)\n",
    "    updated_velocity = np.zeros(max_step)\n",
    "    \n",
    "    predicted_position = np.zeros(max_step)    \n",
    "    predicted_velocity = np.zeros(max_step)    \n",
    "    \n",
    "    for i in range(len(measurements)):\n",
    "        print('\\nstep', i)\n",
    "        \n",
    "        step[i] = i        \n",
    "        \n",
    "        z = matrix([[measurements[i]]])\n",
    "        print('z', z)\n",
    "        \n",
    "        measured_position[i] = measurements[i]\n",
    "        \n",
    "        \n",
    "        # measurement update\n",
    "        y = z - H * x\n",
    "        S = H * P * H.transpose() + R\n",
    "        K = P * H.transpose() * S.inverse()\n",
    "\n",
    "        print('y\\n', y)        \n",
    "        print('K\\n', K)\n",
    "        print('K * y\\n', K * y)        \n",
    "        \n",
    "        x = x + K * y\n",
    "        P = (I - K * H) * P\n",
    "        print('measurement update')\n",
    "        print('x\\n', x)\n",
    "        print('P\\n', P)        \n",
    "\n",
    "        updated_position[i] = x.value[0][0]\n",
    "        updated_velocity[i] = x.value[1][0]\n",
    "        \n",
    "        \n",
    "        # prediction\n",
    "        x = F * x + u\n",
    "        P = F * P * F.transpose()        \n",
    "        print('prediction')\n",
    "        print('x\\n', x)\n",
    "        print('P\\n', P)               \n",
    "        \n",
    "        predicted_position[i + 1] = x.value[0][0]\n",
    "        predicted_velocity[i + 1] = x.value[1][0]        \n",
    "        \n",
    "    return step, measured_position, updated_position, updated_velocity, predicted_position, predicted_velocity"
   ]
  },
  {
   "cell_type": "code",
   "execution_count": 233,
   "id": "5d9a42f3",
   "metadata": {},
   "outputs": [
    {
     "name": "stdout",
     "output_type": "stream",
     "text": [
      "start Kalman Filter\n",
      "x\n",
      " [[0.0], [0.0]]\n",
      "P\n",
      " [[1000.0, 0.0], [0.0, 1000.0]]\n",
      "\n",
      "step 0\n",
      "z [[1]]\n",
      "y\n",
      " [[1.0]]\n",
      "K\n",
      " [[0.9990009990009988], [0.0]]\n",
      "K * y\n",
      " [[0.9990009990009988], [0.0]]\n",
      "measurement update\n",
      "x\n",
      " [[0.9990009990009988], [0.0]]\n",
      "P\n",
      " [[0.9990009990011872, 0.0], [0.0, 1000.0]]\n",
      "prediction\n",
      "x\n",
      " [[0.9990009990009988], [0.0]]\n",
      "P\n",
      " [[1000.9990009990012, 1000.0], [1000.0, 1000.0]]\n",
      "\n",
      "step 1\n",
      "z [[2]]\n",
      "y\n",
      " [[1.000999000999001]]\n",
      "K\n",
      " [[0.999001995012966], [0.998004987033911]]\n",
      "K * y\n",
      " [[0.9999999990039881], [0.9990019950129659]]\n",
      "measurement update\n",
      "x\n",
      " [[1.9990009980049868], [0.9990019950129659]]\n",
      "P\n",
      " [[0.9990019950130065, 0.9980049870339514], [0.9980049870339371, 1.9950129660888933]]\n",
      "prediction\n",
      "x\n",
      " [[2.998002993017953], [0.9990019950129659]]\n",
      "P\n",
      " [[4.990024935169789, 2.9930179531228447], [2.9930179531228305, 1.9950129660888933]]\n",
      "\n",
      "step 2\n",
      "z [[3]]\n",
      "y\n",
      " [[0.001997006982047189]]\n",
      "K\n",
      " [[0.8330557867750087], [0.49966702735236485]]\n",
      "K * y\n",
      " [[0.0016636182226245069], [0.0009978385423214365]]\n",
      "measurement update\n",
      "x\n",
      " [[2.999666611240577], [0.9999998335552873]]\n",
      "P\n",
      " [[0.8330557867750087, 0.49966702735236723], [0.4996670273523649, 0.49950058263974184]]\n",
      "prediction\n",
      "x\n",
      " [[3.9996664447958645], [0.9999998335552873]]\n",
      "P\n",
      " [[2.3318904241194827, 0.9991676099921091], [0.9991676099921067, 0.49950058263974184]]\n",
      "\n",
      "step 3\n",
      "z [[4]]\n",
      "y\n",
      " [[0.0003335552041354717]]\n",
      "K\n",
      " [[0.6998700819327606], [0.29988009292237044]]\n",
      "K * y\n",
      " [[0.00023344530804739124], [0.00010002656561088549]]\n",
      "measurement update\n",
      "x\n",
      " [[3.999899890103912], [1.0000998601208981]]\n",
      "P\n",
      " [[0.6998700819327606, 0.29988009292237117], [0.2998800929223705, 0.1998701069102854]]\n",
      "prediction\n",
      "x\n",
      " [[4.99999975022481], [1.0000998601208981]]\n",
      "P\n",
      " [[1.4995003746877877, 0.49975019983265656], [0.4997501998326559, 0.1998701069102854]]\n",
      "\n",
      "step 4\n",
      "z [[5]]\n",
      "y\n",
      " [[2.497751898644651e-07]]\n",
      "K\n",
      " [[0.5999200439708234], [0.19994003797462104]]\n",
      "K * y\n",
      " [[1.4984514288631067e-07], [4.9940060946619334e-08]]\n",
      "measurement update\n",
      "x\n",
      " [[4.999999900069953], [1.000099910060959]]\n",
      "P\n",
      " [[0.5999200439708239, 0.19994003797462143], [0.19994003797462112, 0.09995003297791959]]\n",
      "prediction\n",
      "x\n",
      " [[6.000099810130912], [1.000099910060959]]\n",
      "P\n",
      " [[1.099750152897986, 0.299890070952541], [0.2998900709525407, 0.09995003297791959]]\n"
     ]
    }
   ],
   "source": [
    "############################################\n",
    "### use the code below to test your filter!\n",
    "############################################\n",
    "\n",
    "x = matrix([[0.], [0.]]) # initial state (location and velocity)\n",
    "P = matrix([[1000., 0.], [0., 1000.]]) # initial uncertainty\n",
    "\n",
    "u = matrix([[0.], [0.]]) # external motion\n",
    "\n",
    "F = matrix([[1., 1.], [0, 1.]]) # next state function\n",
    "H = matrix([[1., 0.]]) # measurement function\n",
    "R = matrix([[1.]]) # measurement uncertainty\n",
    "\n",
    "I = matrix([[1., 0.], [0., 1.]]) # identity matrix\n",
    "\n",
    "\n",
    "# measurements = [1, 2, 3]\n",
    "measurements = [1, 2, 3, 4, 5]\n",
    "# measurements = [1, 2, 3, 4, 5, 6, 7, 8, 9, 10]\n",
    "\n",
    "# measurements = [1, 1.8, 3.2, 3.7, 5.2, 6.3, 6.9, 8.3, 8.9, 10.4]\n",
    "\n",
    "\n",
    "step, measured_position, updated_position, updated_velocity, predicted_position, predicted_velocity = kalman_filter(x, P, u, F, H, R, I, measurements)\n",
    "# output should be:\n",
    "# x: [[3.9996664447958645], [0.9999998335552873]]\n",
    "# P: [[2.3318904241194827, 0.9991676099921091], [0.9991676099921067, 0.49950058263974184]]"
   ]
  },
  {
   "cell_type": "code",
   "execution_count": 228,
   "id": "f1cd6fa0",
   "metadata": {},
   "outputs": [
    {
     "data": {
      "text/plain": [
       "<matplotlib.legend.Legend at 0x7f81b3f2b460>"
      ]
     },
     "execution_count": 228,
     "metadata": {},
     "output_type": "execute_result"
    },
    {
     "data": {
      "image/png": "[encoded data removed]",
      "text/plain": [
       "<Figure size 432x288 with 1 Axes>"
      ]
     },
     "metadata": {
      "needs_background": "light"
     },
     "output_type": "display_data"
    }
   ],
   "source": [
    "plt.figure()\n",
    "plt.plot(step[:-1], measured_position[:-1], 'r.-', markerfacecolor = 'r', markersize=15, label='measured_position')\n",
    "plt.plot(step[:-1], updated_position[:-1], 'bo-', markerfacecolor = 'none', markersize=15, label='updated_position')\n",
    "plt.plot(step[1:], predicted_position[1:], 'gs--', markerfacecolor = 'none', markersize=15, label='predicted_position')\n",
    "plt.legend()"
   ]
  },
  {
   "cell_type": "code",
   "execution_count": 229,
   "id": "b4f82b77",
   "metadata": {},
   "outputs": [
    {
     "data": {
      "text/plain": [
       "<matplotlib.legend.Legend at 0x7f81b40582b0>"
      ]
     },
     "execution_count": 229,
     "metadata": {},
     "output_type": "execute_result"
    },
    {
     "data": {
      "image/png": "[encoded data removed]",
      "text/plain": [
       "<Figure size 432x288 with 1 Axes>"
      ]
     },
     "metadata": {
      "needs_background": "light"
     },
     "output_type": "display_data"
    }
   ],
   "source": [
    "plt.figure()\n",
    "plt.plot(step[:-1], updated_velocity[:-1], 'bo-', markerfacecolor = 'none', markersize=15, label='updated_velocity')\n",
    "plt.plot(step[1:], predicted_velocity[1:], 'gs--', markerfacecolor = 'none', markersize=15, label='predicted_velocity')\n",
    "plt.legend()"
   ]
  },
  {
   "cell_type": "code",
   "execution_count": null,
   "id": "021eec81",
   "metadata": {},
   "outputs": [],
   "source": []
  },
  {
   "cell_type": "code",
   "execution_count": 216,
   "id": "606e2b9b",
   "metadata": {},
   "outputs": [
    {
     "data": {
      "text/plain": [
       "<matplotlib.legend.Legend at 0x7f81d33d7550>"
      ]
     },
     "execution_count": 216,
     "metadata": {},
     "output_type": "execute_result"
    },
    {
     "data": {
      "image/png": "[encoded data removed]",
      "text/plain": [
       "<Figure size 432x288 with 1 Axes>"
      ]
     },
     "metadata": {
      "needs_background": "light"
     },
     "output_type": "display_data"
    }
   ],
   "source": [
    "plt.figure()\n",
    "plt.plot(step[:-1], measured_position[:-1], 'r.-', markerfacecolor = 'r', markersize=15, label='measured_position')\n",
    "plt.plot(step[:-1], updated_position[:-1], 'bo-', markerfacecolor = 'none', markersize=15, label='updated_position')\n",
    "plt.plot(step[1:], predicted_position[1:], 'gs--', markerfacecolor = 'none', markersize=15, label='predicted_position')\n",
    "plt.legend()"
   ]
  },
  {
   "cell_type": "code",
   "execution_count": 217,
   "id": "550e767f",
   "metadata": {},
   "outputs": [
    {
     "data": {
      "text/plain": [
       "<matplotlib.legend.Legend at 0x7f81d350af70>"
      ]
     },
     "execution_count": 217,
     "metadata": {},
     "output_type": "execute_result"
    },
    {
     "data": {
      "image/png": "[encoded data removed]",
      "text/plain": [
       "<Figure size 432x288 with 1 Axes>"
      ]
     },
     "metadata": {
      "needs_background": "light"
     },
     "output_type": "display_data"
    }
   ],
   "source": [
    "plt.figure()\n",
    "plt.plot(step[:-1], updated_velocity[:-1], 'bo-', markerfacecolor = 'none', markersize=15, label='updated_velocity')\n",
    "plt.plot(step[1:], predicted_velocity[1:], 'gs--', markerfacecolor = 'none', markersize=15, label='predicted_velocity')\n",
    "plt.legend()"
   ]
  },
  {
   "cell_type": "code",
   "execution_count": 182,
   "id": "558d9d71",
   "metadata": {},
   "outputs": [
    {
     "data": {
      "text/plain": [
       "0.0"
      ]
     },
     "execution_count": 182,
     "metadata": {},
     "output_type": "execute_result"
    }
   ],
   "source": [
    "x.value[0][0]"
   ]
  },
  {
   "cell_type": "code",
   "execution_count": 91,
   "id": "9fbb5adf",
   "metadata": {
    "scrolled": true
   },
   "outputs": [
    {
     "data": {
      "text/plain": [
       "array([0, 1, 2])"
      ]
     },
     "execution_count": 91,
     "metadata": {},
     "output_type": "execute_result"
    }
   ],
   "source": [
    "np.arange(3)"
   ]
  },
  {
   "cell_type": "code",
   "execution_count": 94,
   "id": "dc40fec6",
   "metadata": {},
   "outputs": [
    {
     "data": {
      "text/plain": [
       "array([0, 1, 2, 3])"
      ]
     },
     "execution_count": 94,
     "metadata": {},
     "output_type": "execute_result"
    }
   ],
   "source": [
    "step"
   ]
  },
  {
   "cell_type": "code",
   "execution_count": 95,
   "id": "1a7d7f09",
   "metadata": {},
   "outputs": [
    {
     "data": {
      "text/plain": [
       "array([0.999001  , 1.999001  , 2.99966661, 0.        ])"
      ]
     },
     "execution_count": 95,
     "metadata": {},
     "output_type": "execute_result"
    }
   ],
   "source": [
    "updated_position"
   ]
  },
  {
   "cell_type": "code",
   "execution_count": 99,
   "id": "3ffc1ea0",
   "metadata": {},
   "outputs": [
    {
     "data": {
      "text/plain": [
       "array([0.        , 0.999001  , 2.99800299, 3.99966644])"
      ]
     },
     "execution_count": 99,
     "metadata": {},
     "output_type": "execute_result"
    }
   ],
   "source": [
    "predicted_position"
   ]
  },
  {
   "cell_type": "code",
   "execution_count": 123,
   "id": "01dedf67",
   "metadata": {},
   "outputs": [
    {
     "data": {
      "text/plain": [
       "array([0, 1, 2, 3])"
      ]
     },
     "execution_count": 123,
     "metadata": {},
     "output_type": "execute_result"
    }
   ],
   "source": [
    "step"
   ]
  },
  {
   "cell_type": "code",
   "execution_count": 124,
   "id": "46be8730",
   "metadata": {},
   "outputs": [
    {
     "data": {
      "text/plain": [
       "array([0, 1, 2])"
      ]
     },
     "execution_count": 124,
     "metadata": {},
     "output_type": "execute_result"
    }
   ],
   "source": [
    "step[:-1]"
   ]
  },
  {
   "cell_type": "code",
   "execution_count": 126,
   "id": "1a9861d4",
   "metadata": {},
   "outputs": [
    {
     "data": {
      "text/plain": [
       "array([1, 2, 3])"
      ]
     },
     "execution_count": 126,
     "metadata": {},
     "output_type": "execute_result"
    }
   ],
   "source": [
    "step[1:]"
   ]
  },
  {
   "cell_type": "code",
   "execution_count": null,
   "id": "7a51cc1b",
   "metadata": {},
   "outputs": [],
   "source": []
  },
  {
   "cell_type": "code",
   "execution_count": null,
   "id": "a0922044",
   "metadata": {},
   "outputs": [],
   "source": []
  },
  {
   "cell_type": "code",
   "execution_count": 240,
   "id": "5a321cde",
   "metadata": {},
   "outputs": [],
   "source": [
    "import numpy as np\n",
    "from numpy.linalg import inv"
   ]
  },
  {
   "cell_type": "code",
   "execution_count": 236,
   "id": "ae4606dc",
   "metadata": {},
   "outputs": [],
   "source": [
    "F = np.matrix([[1, 1],  \n",
    "                        [0, 1]])"
   ]
  },
  {
   "cell_type": "code",
   "execution_count": 237,
   "id": "756f76fa",
   "metadata": {},
   "outputs": [
    {
     "data": {
      "text/plain": [
       "matrix([[1, 2],\n",
       "        [0, 1]])"
      ]
     },
     "execution_count": 237,
     "metadata": {},
     "output_type": "execute_result"
    }
   ],
   "source": [
    "F * F"
   ]
  },
  {
   "cell_type": "code",
   "execution_count": 241,
   "id": "844f114d",
   "metadata": {},
   "outputs": [
    {
     "data": {
      "text/plain": [
       "matrix([[ 1., -1.],\n",
       "        [ 0.,  1.]])"
      ]
     },
     "execution_count": 241,
     "metadata": {},
     "output_type": "execute_result"
    }
   ],
   "source": [
    "inv(F)"
   ]
  },
  {
   "cell_type": "code",
   "execution_count": 244,
   "id": "8e1c64e0",
   "metadata": {},
   "outputs": [
    {
     "data": {
      "text/plain": [
       "matrix([[1., 1.],\n",
       "        [0., 1.]])"
      ]
     },
     "execution_count": 244,
     "metadata": {},
     "output_type": "execute_result"
    }
   ],
   "source": [
    "F * np.identity(2)"
   ]
  },
  {
   "cell_type": "code",
   "execution_count": null,
   "id": "386ca060",
   "metadata": {},
   "outputs": [],
   "source": []
  },
  {
   "cell_type": "code",
   "execution_count": null,
   "id": "d2ffef4d",
   "metadata": {},
   "outputs": [],
   "source": []
  },
  {
   "cell_type": "code",
   "execution_count": null,
   "id": "2a2fe394",
   "metadata": {},
   "outputs": [],
   "source": []
  },
  {
   "cell_type": "markdown",
   "id": "6fca0669",
   "metadata": {},
   "source": [
    "# 14. Camera Measurement Model"
   ]
  },
  {
   "cell_type": "code",
   "execution_count": 245,
   "id": "aa9630b8",
   "metadata": {},
   "outputs": [
    {
     "name": "stdout",
     "output_type": "stream",
     "text": [
      "3040.0 651.0\n"
     ]
    }
   ],
   "source": [
    "ci = 957\n",
    "cj = 651\n",
    "fi = 2083\n",
    "fj = 2083\n",
    "\n",
    "px = 2\n",
    "py = -2\n",
    "pz = 0\n",
    "\n",
    "print(ci - fi * py / px, cj - fj * pz / px)"
   ]
  },
  {
   "cell_type": "code",
   "execution_count": null,
   "id": "fa60cc63",
   "metadata": {},
   "outputs": [],
   "source": []
  },
  {
   "cell_type": "code",
   "execution_count": null,
   "id": "de4def2b",
   "metadata": {},
   "outputs": [],
   "source": []
  },
  {
   "cell_type": "code",
   "execution_count": 246,
   "id": "6f61b4ea",
   "metadata": {},
   "outputs": [],
   "source": [
    "x = np.matrix([[10],\n",
    "               [1],\n",
    "               [-1],\n",
    "               [0],\n",
    "               [0],\n",
    "               [0]])"
   ]
  },
  {
   "cell_type": "code",
   "execution_count": 247,
   "id": "4500fd2e",
   "metadata": {},
   "outputs": [
    {
     "data": {
      "text/plain": [
       "matrix([[10]])"
      ]
     },
     "execution_count": 247,
     "metadata": {},
     "output_type": "execute_result"
    }
   ],
   "source": [
    "x[0]"
   ]
  },
  {
   "cell_type": "code",
   "execution_count": 248,
   "id": "05d50f0a",
   "metadata": {},
   "outputs": [
    {
     "ename": "TypeError",
     "evalue": "only size-1 arrays can be converted to Python scalars",
     "output_type": "error",
     "traceback": [
      "\u001b[0;31m---------------------------------------------------------------------------\u001b[0m",
      "\u001b[0;31mTypeError\u001b[0m                                 Traceback (most recent call last)",
      "\u001b[0;32m/var/folders/b0/r8v_9hl16l303_wh7m4_sqc00000gn/T/ipykernel_34618/3383642034.py\u001b[0m in \u001b[0;36m<module>\u001b[0;34m\u001b[0m\n\u001b[0;32m----> 1\u001b[0;31m \u001b[0mfloat\u001b[0m\u001b[0;34m(\u001b[0m\u001b[0mx\u001b[0m\u001b[0;34m)\u001b[0m\u001b[0;34m\u001b[0m\u001b[0;34m\u001b[0m\u001b[0m\n\u001b[0m",
      "\u001b[0;31mTypeError\u001b[0m: only size-1 arrays can be converted to Python scalars"
     ]
    }
   ],
   "source": [
    "float(x)\n"
   ]
  },
  {
   "cell_type": "code",
   "execution_count": null,
   "id": "b7407739",
   "metadata": {},
   "outputs": [],
   "source": []
  },
  {
   "cell_type": "code",
   "execution_count": 269,
   "id": "091a7e59",
   "metadata": {},
   "outputs": [
    {
     "data": {
      "text/plain": [
       "array([[1.],\n",
       "       [1.],\n",
       "       [1.],\n",
       "       [1.]])"
      ]
     },
     "execution_count": 269,
     "metadata": {},
     "output_type": "execute_result"
    }
   ],
   "source": [
    "px_py_pz_1 = np.ones((4, 1))\n",
    "px_py_pz_1"
   ]
  },
  {
   "cell_type": "code",
   "execution_count": 271,
   "id": "bd7180bb",
   "metadata": {},
   "outputs": [
    {
     "data": {
      "text/plain": [
       "array([[1.],\n",
       "       [1.],\n",
       "       [1.]])"
      ]
     },
     "execution_count": 271,
     "metadata": {},
     "output_type": "execute_result"
    }
   ],
   "source": [
    "px_py_pz_1[0:3]"
   ]
  },
  {
   "cell_type": "code",
   "execution_count": 272,
   "id": "fecbc051",
   "metadata": {},
   "outputs": [
    {
     "data": {
      "text/plain": [
       "array([1., 1., 1.])"
      ]
     },
     "execution_count": 272,
     "metadata": {},
     "output_type": "execute_result"
    }
   ],
   "source": [
    "px_py_pz_1[0:3, 0]"
   ]
  },
  {
   "cell_type": "code",
   "execution_count": 279,
   "id": "5b39d4c3",
   "metadata": {},
   "outputs": [
    {
     "data": {
      "text/plain": [
       "matrix([[0.53314401],\n",
       "        [4.4301894 ],\n",
       "        [0.        ],\n",
       "        [0.        ],\n",
       "        [0.        ],\n",
       "        [0.        ]])"
      ]
     },
     "execution_count": 279,
     "metadata": {},
     "output_type": "execute_result"
    }
   ],
   "source": [
    "x = np.matrix([[np.random.uniform(-5, 5)],\n",
    "               [np.random.uniform(-5, 5)],\n",
    "               [0],\n",
    "               [0],\n",
    "               [0],\n",
    "               [0]])\n",
    "x"
   ]
  },
  {
   "cell_type": "code",
   "execution_count": 281,
   "id": "20a6520a",
   "metadata": {},
   "outputs": [
    {
     "data": {
      "text/plain": [
       "matrix([[0.53314401],\n",
       "        [4.4301894 ],\n",
       "        [0.        ]])"
      ]
     },
     "execution_count": 281,
     "metadata": {},
     "output_type": "execute_result"
    }
   ],
   "source": [
    "x[0:3, 0]"
   ]
  },
  {
   "cell_type": "code",
   "execution_count": 282,
   "id": "70e273ba",
   "metadata": {},
   "outputs": [
    {
     "data": {
      "text/plain": [
       "matrix([[0.53314401],\n",
       "        [4.4301894 ],\n",
       "        [0.        ]])"
      ]
     },
     "execution_count": 282,
     "metadata": {},
     "output_type": "execute_result"
    }
   ],
   "source": [
    "x[0:3]"
   ]
  },
  {
   "cell_type": "code",
   "execution_count": 285,
   "id": "0b88bc11",
   "metadata": {},
   "outputs": [
    {
     "ename": "ValueError",
     "evalue": "could not broadcast input array from shape (3,1) into shape (3)",
     "output_type": "error",
     "traceback": [
      "\u001b[0;31m---------------------------------------------------------------------------\u001b[0m",
      "\u001b[0;31mValueError\u001b[0m                                Traceback (most recent call last)",
      "\u001b[0;32m/var/folders/b0/r8v_9hl16l303_wh7m4_sqc00000gn/T/ipykernel_34618/2808147178.py\u001b[0m in \u001b[0;36m<module>\u001b[0;34m\u001b[0m\n\u001b[0;32m----> 1\u001b[0;31m \u001b[0mpx_py_pz_1\u001b[0m\u001b[0;34m[\u001b[0m\u001b[0;36m0\u001b[0m\u001b[0;34m:\u001b[0m\u001b[0;36m3\u001b[0m\u001b[0;34m,\u001b[0m \u001b[0;36m0\u001b[0m\u001b[0;34m]\u001b[0m \u001b[0;34m=\u001b[0m \u001b[0mx\u001b[0m\u001b[0;34m[\u001b[0m\u001b[0;36m0\u001b[0m\u001b[0;34m:\u001b[0m\u001b[0;36m3\u001b[0m\u001b[0;34m]\u001b[0m\u001b[0;34m\u001b[0m\u001b[0;34m\u001b[0m\u001b[0m\n\u001b[0m",
      "\u001b[0;31mValueError\u001b[0m: could not broadcast input array from shape (3,1) into shape (3)"
     ]
    }
   ],
   "source": [
    "px_py_pz_1[0:3, 0] = x[0:3]"
   ]
  },
  {
   "cell_type": "code",
   "execution_count": 283,
   "id": "0068df1d",
   "metadata": {},
   "outputs": [],
   "source": [
    "px_py_pz_1[0:3] = x[0:3]"
   ]
  },
  {
   "cell_type": "code",
   "execution_count": 284,
   "id": "aaea00c6",
   "metadata": {},
   "outputs": [
    {
     "data": {
      "text/plain": [
       "array([[0.53314401],\n",
       "       [4.4301894 ],\n",
       "       [0.        ],\n",
       "       [1.        ]])"
      ]
     },
     "execution_count": 284,
     "metadata": {},
     "output_type": "execute_result"
    }
   ],
   "source": [
    "px_py_pz_1"
   ]
  },
  {
   "cell_type": "code",
   "execution_count": null,
   "id": "4bb54b3e",
   "metadata": {},
   "outputs": [],
   "source": []
  },
  {
   "cell_type": "code",
   "execution_count": 258,
   "id": "a7e80217",
   "metadata": {},
   "outputs": [
    {
     "data": {
      "text/plain": [
       "0.7853981633974483"
      ]
     },
     "execution_count": 258,
     "metadata": {},
     "output_type": "execute_result"
    }
   ],
   "source": [
    "np.radians(45)"
   ]
  },
  {
   "cell_type": "code",
   "execution_count": 259,
   "id": "cf157a66",
   "metadata": {},
   "outputs": [
    {
     "data": {
      "text/plain": [
       "0.7853981633974483"
      ]
     },
     "execution_count": 259,
     "metadata": {},
     "output_type": "execute_result"
    }
   ],
   "source": [
    "np.pi/4"
   ]
  },
  {
   "cell_type": "code",
   "execution_count": 264,
   "id": "fe73cce0",
   "metadata": {},
   "outputs": [
    {
     "data": {
      "text/plain": [
       "0.7853981633974483"
      ]
     },
     "execution_count": 264,
     "metadata": {},
     "output_type": "execute_result"
    }
   ],
   "source": [
    "np.arctan(1)"
   ]
  },
  {
   "cell_type": "code",
   "execution_count": 263,
   "id": "eadc130d",
   "metadata": {},
   "outputs": [
    {
     "data": {
      "text/plain": [
       "(0.0, 0.9999999999999999, 1.633123935319537e+16, -0.9999999999999999)"
      ]
     },
     "execution_count": 263,
     "metadata": {},
     "output_type": "execute_result"
    }
   ],
   "source": [
    "np.tan(np.radians(0)), np.tan(np.radians(45)), np.tan(np.radians(90)), np.tan(np.radians(-45)),"
   ]
  },
  {
   "cell_type": "code",
   "execution_count": 250,
   "id": "4e7a8a1d",
   "metadata": {},
   "outputs": [
    {
     "data": {
      "text/plain": [
       "3.141592653589793"
      ]
     },
     "execution_count": 250,
     "metadata": {},
     "output_type": "execute_result"
    }
   ],
   "source": [
    "np.pi"
   ]
  },
  {
   "cell_type": "code",
   "execution_count": 256,
   "id": "6e3c0f46",
   "metadata": {},
   "outputs": [
    {
     "data": {
      "text/plain": [
       "(1.0038848218538872, 0.6657737500283538)"
      ]
     },
     "execution_count": 256,
     "metadata": {},
     "output_type": "execute_result"
    }
   ],
   "source": [
    "np.arctan(np.pi/2), np.arctan(np.pi/4)"
   ]
  },
  {
   "cell_type": "code",
   "execution_count": null,
   "id": "9a443f74",
   "metadata": {},
   "outputs": [],
   "source": []
  },
  {
   "cell_type": "code",
   "execution_count": null,
   "id": "ffac44ae",
   "metadata": {},
   "outputs": [],
   "source": []
  },
  {
   "cell_type": "code",
   "execution_count": null,
   "id": "a11cd20e",
   "metadata": {},
   "outputs": [],
   "source": []
  }
 ],
 "metadata": {
  "kernelspec": {
   "display_name": "Python 3 (ipykernel)",
   "language": "python",
   "name": "python3"
  },
  "language_info": {
   "codemirror_mode": {
    "name": "ipython",
    "version": 3
   },
   "file_extension": ".py",
   "mimetype": "text/x-python",
   "name": "python",
   "nbconvert_exporter": "python",
   "pygments_lexer": "ipython3",
   "version": "3.9.6"
  }
 },
 "nbformat": 4,
 "nbformat_minor": 5
}
