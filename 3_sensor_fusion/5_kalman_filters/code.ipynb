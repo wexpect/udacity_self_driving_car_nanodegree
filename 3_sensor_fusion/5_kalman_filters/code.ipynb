{
 "cells": [
  {
   "cell_type": "code",
   "execution_count": 1,
   "id": "b2c096d3",
   "metadata": {},
   "outputs": [],
   "source": [
    "import numpy as np"
   ]
  },
  {
   "cell_type": "code",
   "execution_count": 2,
   "id": "281d9af1",
   "metadata": {},
   "outputs": [
    {
     "data": {
      "text/plain": [
       "3.141592653589793"
      ]
     },
     "execution_count": 2,
     "metadata": {},
     "output_type": "execute_result"
    }
   ],
   "source": [
    "np.pi"
   ]
  },
  {
   "cell_type": "code",
   "execution_count": 3,
   "id": "ccf095e0",
   "metadata": {},
   "outputs": [
    {
     "data": {
      "text/plain": [
       "2.718281828459045"
      ]
     },
     "execution_count": 3,
     "metadata": {},
     "output_type": "execute_result"
    }
   ],
   "source": [
    "np.exp(1)"
   ]
  },
  {
   "cell_type": "code",
   "execution_count": 4,
   "id": "f65fc176",
   "metadata": {},
   "outputs": [],
   "source": [
    "def f(mu, sigma2, x):\n",
    "    val = 1/np.sqrt(2 * np.pi * sigma2) * np.exp(-1/2 * ((x - mu)** 2) / sigma2)\n",
    "    return val"
   ]
  },
  {
   "cell_type": "code",
   "execution_count": 5,
   "id": "d143c91a",
   "metadata": {},
   "outputs": [
    {
     "data": {
      "text/plain": [
       "0.12098536225957168"
      ]
     },
     "execution_count": 5,
     "metadata": {},
     "output_type": "execute_result"
    }
   ],
   "source": [
    "f(10, 4, 8)"
   ]
  },
  {
   "cell_type": "code",
   "execution_count": 6,
   "id": "323c208d",
   "metadata": {},
   "outputs": [
    {
     "data": {
      "text/plain": [
       "0.19947114020071635"
      ]
     },
     "execution_count": 6,
     "metadata": {},
     "output_type": "execute_result"
    }
   ],
   "source": [
    "f(10, 4, 10)"
   ]
  },
  {
   "cell_type": "code",
   "execution_count": 7,
   "id": "71fa746e",
   "metadata": {},
   "outputs": [
    {
     "data": {
      "text/plain": [
       "0.12098536225957168"
      ]
     },
     "execution_count": 7,
     "metadata": {},
     "output_type": "execute_result"
    }
   ],
   "source": [
    "f(10, 4, 12)"
   ]
  },
  {
   "cell_type": "code",
   "execution_count": null,
   "id": "e17313ec",
   "metadata": {},
   "outputs": [],
   "source": []
  },
  {
   "cell_type": "code",
   "execution_count": null,
   "id": "650c2e55",
   "metadata": {},
   "outputs": [],
   "source": []
  },
  {
   "cell_type": "code",
   "execution_count": 14,
   "id": "c5742d9b",
   "metadata": {},
   "outputs": [],
   "source": [
    "# mu = 10\n",
    "# sigma2 = 4\n",
    "# nu = 12\n",
    "# r2 = 4\n",
    "\n",
    "mu = 10\n",
    "sigma2 = 8\n",
    "nu = 13\n",
    "r2 = 2"
   ]
  },
  {
   "cell_type": "code",
   "execution_count": 15,
   "id": "5efe6742",
   "metadata": {},
   "outputs": [],
   "source": [
    "mu_prime = (r2 * mu + sigma2 * nu) / (sigma2 + r2)\n",
    "sigma2_prime = 1 / (1/sigma2 + 1/r2)"
   ]
  },
  {
   "cell_type": "code",
   "execution_count": 16,
   "id": "cbb411b0",
   "metadata": {},
   "outputs": [
    {
     "data": {
      "text/plain": [
       "(12.4, 1.6)"
      ]
     },
     "execution_count": 16,
     "metadata": {},
     "output_type": "execute_result"
    }
   ],
   "source": [
    "mu_prime, sigma2_prime"
   ]
  },
  {
   "cell_type": "code",
   "execution_count": 17,
   "id": "09c740a9",
   "metadata": {},
   "outputs": [
    {
     "data": {
      "text/plain": [
       "0.14104739588693907"
      ]
     },
     "execution_count": 17,
     "metadata": {},
     "output_type": "execute_result"
    }
   ],
   "source": [
    "f(mu, sigma2, mu)"
   ]
  },
  {
   "cell_type": "code",
   "execution_count": 18,
   "id": "ac9bbbb3",
   "metadata": {},
   "outputs": [
    {
     "data": {
      "text/plain": [
       "0.28209479177387814"
      ]
     },
     "execution_count": 18,
     "metadata": {},
     "output_type": "execute_result"
    }
   ],
   "source": [
    "f(nu, r2, nu)"
   ]
  },
  {
   "cell_type": "code",
   "execution_count": 19,
   "id": "e118a945",
   "metadata": {},
   "outputs": [
    {
     "data": {
      "text/plain": [
       "0.31539156525252005"
      ]
     },
     "execution_count": 19,
     "metadata": {},
     "output_type": "execute_result"
    }
   ],
   "source": [
    "f(mu_prime, sigma2_prime, mu_prime)"
   ]
  },
  {
   "cell_type": "code",
   "execution_count": 20,
   "id": "6eaaeca1",
   "metadata": {},
   "outputs": [],
   "source": [
    "def update(mean1, var1, mean2, var2):\n",
    "    new_mean = (var2 * mean1 + var1 * mean2) / (var1 + var2)\n",
    "    new_var = 1 / (1/var1 + 1/var2)\n",
    "    return [new_mean, new_var]"
   ]
  },
  {
   "cell_type": "code",
   "execution_count": 21,
   "id": "ed0cb446",
   "metadata": {},
   "outputs": [
    {
     "data": {
      "text/plain": [
       "[12.4, 1.6]"
      ]
     },
     "execution_count": 21,
     "metadata": {},
     "output_type": "execute_result"
    }
   ],
   "source": [
    "update(10, 8, 13, 2)"
   ]
  },
  {
   "cell_type": "code",
   "execution_count": 22,
   "id": "014a3fe0",
   "metadata": {},
   "outputs": [],
   "source": [
    "def predict(mean1, var1, mean2, var2):\n",
    "    new_mean = mean1 + mean2\n",
    "    new_var = var1 + var2\n",
    "    return [new_mean, new_var]"
   ]
  },
  {
   "cell_type": "code",
   "execution_count": 23,
   "id": "0614bdee",
   "metadata": {},
   "outputs": [
    {
     "data": {
      "text/plain": [
       "[22, 8]"
      ]
     },
     "execution_count": 23,
     "metadata": {},
     "output_type": "execute_result"
    }
   ],
   "source": [
    "predict(10, 4, 12, 4)"
   ]
  },
  {
   "cell_type": "code",
   "execution_count": null,
   "id": "f5e4b09d",
   "metadata": {},
   "outputs": [],
   "source": []
  }
 ],
 "metadata": {
  "kernelspec": {
   "display_name": "Python 3 (ipykernel)",
   "language": "python",
   "name": "python3"
  },
  "language_info": {
   "codemirror_mode": {
    "name": "ipython",
    "version": 3
   },
   "file_extension": ".py",
   "mimetype": "text/x-python",
   "name": "python",
   "nbconvert_exporter": "python",
   "pygments_lexer": "ipython3",
   "version": "3.9.6"
  }
 },
 "nbformat": 4,
 "nbformat_minor": 5
}
